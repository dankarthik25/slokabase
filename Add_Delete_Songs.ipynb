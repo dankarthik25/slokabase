{
 "cells": [
  {
   "cell_type": "markdown",
   "id": "2a6220db-7812-432c-8a6e-f29c6f409def",
   "metadata": {},
   "source": [
    "# `NOTE`:\n",
    "the translate and synonym part  make sure that it don't contain any quotation `\"` and `'` \\\n",
    "if present the code will break the during execution\n",
    "\n",
    "`Temp Solution:` Manually edit changes with sqlite browser app    "
   ]
  },
  {
   "cell_type": "code",
   "execution_count": 1,
   "id": "5d3b7581-4aa0-4e75-97f4-44f5a34c4d82",
   "metadata": {},
   "outputs": [],
   "source": [
    "from slokabase.SqliteModel import get_create_table_query, get_insert_query, get_read_query, get_update_query, get_delete_query\n",
    "from slokabase.SqliteModel import SqliteModel"
   ]
  },
  {
   "cell_type": "code",
   "execution_count": 2,
   "id": "c902d12c-5efc-4b40-b239-76119d034036",
   "metadata": {},
   "outputs": [],
   "source": [
    "import os, sqlite3 \n",
    "# db_name = 'slokabase_10.db'\n",
    "db_name = 'slokabase.db'\n",
    "db_path = os.path.join(os.getcwd(),db_name)"
   ]
  },
  {
   "cell_type": "code",
   "execution_count": 3,
   "id": "f29714d7-f3be-4450-ac52-3887f475d700",
   "metadata": {},
   "outputs": [],
   "source": [
    "SongIndex_sql = SqliteModel(db_path,'SongIndex')\n",
    "mySongs_sql = SqliteModel(db_path,'Songs')"
   ]
  },
  {
   "cell_type": "code",
   "execution_count": 4,
   "id": "38b8eb8e-de0b-4286-828c-aff08031510e",
   "metadata": {},
   "outputs": [],
   "source": [
    "# Make sure table exist if n't then create table slokabase/SqliteModel-createTable.py\n",
    "# mySongs_sql.read_entry()\n",
    "# SongIndex_sql.read_entry()"
   ]
  },
  {
   "cell_type": "markdown",
   "id": "ad0aa6d0-aecc-441f-a8af-366f808e502e",
   "metadata": {},
   "source": [
    "## Add Song Info to Database"
   ]
  },
  {
   "cell_type": "code",
   "execution_count": 5,
   "id": "183bc37b-d4ec-406f-927c-8c85b466e03b",
   "metadata": {},
   "outputs": [],
   "source": [
    "# songIdx_info = dict()\n",
    "# songIdx_info['song_name'] = 'Mahiṣāsura Mardini Stotram'\n",
    "# # songIdx_info['song_short_name'] = 'Mahiṣāsura Mardini Stotraṁ'\n",
    "# songIdx_info['sloka_statues'] = 1\n",
    "# songIdx_info['division_no'] = 0\n",
    "\n",
    "# songIdx_info['total_slokas']\n",
    "# songIdx_info['groups']\n",
    "# songIdx_info['devotion_god']\n",
    "# songIdx_info['author']= 'Jayadeva Goswami' \n",
    "# songIdx_info['describtion']= 'some' \n",
    "# songIdx_info['other_links '] = \"\"\"http://kksongs.org/songs/p/pralayapayodhijale.html <br>\n",
    "# http://kksongs.org/synonym/p/pralayapayodhijale.html\"\"\"\n",
    "\n",
    "status_flag = True\n",
    "reason = \"\"\"CAN'T Create new entry: \\n\"\"\"\n",
    "line_split = '\\n\\n'\n",
    "# song_info = dict()\n",
    "# song_info['song_name']       = request.form[\"Song Name\"]\n",
    "# song_info['song_short_name']      = request.form[\"Short Name\"]\n",
    "# song_info[\"devotion_god\"]  = request.form[\"Devotional God\"]\n",
    "# song_info[\"author\"]          = request.form[\"Author\"]\n",
    "# song_info[\"describtion\"]     = request.form[\"Describtion\"]\n",
    "# song_info[\"other_links\"]      = request.form[\"Other Links\"]\n",
    "# song = dict()\n",
    "# # song['sloka_hindi']       = request.form[\"Song Hindi\"]\n",
    "# song['sloka_eng']         = request.form[\"Song IAST\"]\n",
    "# song['synonyms']          = request.form[\"Song Synonyms\"]\n",
    "# song['translation']       = request.form[\"Song Translation\"]\n",
    "# # song['purpot']      = request.form[\"Song Purpot\"]\n",
    "\n",
    "\n",
    "\n",
    "songIdx_info = dict()\n",
    "songIdx_info['song_name'] = 'My Dasavatara Stotram'\n",
    "songIdx_info['song_short_name'] = 'MyDasaVatStot'\n",
    "songIdx_info['sloka_statues'] = 1\n",
    "songIdx_info['division_no'] = 0\n",
    "# songIdx_info['total_slokas']\n",
    "# songIdx_info['groups']\n",
    "# songIdx_info['devotion_god']\n",
    "songIdx_info['author']= 'Jayadeva Goswami' \n",
    "songIdx_info['describtion']= 'some' \n",
    "songIdx_info['other_links '] = \"\"\"http://kksongs.org/songs/p/pralayapayodhijale.html <br>\n",
    "http://kksongs.org/synonym/p/pralayapayodhijale.html\"\"\"\n",
    "song_info = songIdx_info\n",
    "# songIdx_info\n",
    "\n",
    "\n",
    "song = dict()\n",
    "\n",
    "with open ('temp_sloka.txt','r') as f:\n",
    "   song['sloka_eng'] = f.read()              # read entire file\n",
    "    \n",
    "with open ('temp_synonym.txt','r') as f:\n",
    "   song['synonyms'] = f.read()              # read entire file\n",
    "    \n",
    "with open ('temp_translation.txt','r') as f:\n",
    "   song['translation'] = f.read()              # read entire file\n"
   ]
  },
  {
   "cell_type": "code",
   "execution_count": 6,
   "id": "752316c7-778d-4701-80f8-0f5ad6536596",
   "metadata": {},
   "outputs": [
    {
     "name": "stdout",
     "output_type": "stream",
     "text": [
      "[MATCH]: NO.of sloak eng=NO.of synonyms=21\n",
      "[MATCH]: NO.of sloak eng =NO.of translation= 21\n",
      "lightgreen CREATED NEW SONG here is the link  <a class=\"song-path\" href=\"https://google.com\"> ['song_name']</a>\n"
     ]
    }
   ],
   "source": [
    "status_flag = True\n",
    "reason = \"\"\"CAN'T CREATE NEW ENTRY: \\n\"\"\"\n",
    "line_split = '\\n\\n'\n",
    "\n",
    "# print(song_info, song)\n",
    "if len(song_info['song_short_name'])==0:\n",
    "    song_info['song_short_name'] = song_info['song_name'].replace(\" \",\"\")\n",
    "\n",
    "if  len(song['sloka_eng']) ==0 :\n",
    "    # print(\"No song in hindi or iast is there \")\n",
    "    status_flag=False\n",
    "    reason = reason + \"NO song is present in  eng or iast\\n\"\n",
    "\n",
    "if (len(song['synonyms']) >0) and ( len(song['sloka_eng'] )>0) and status_flag:\n",
    "    if len(song['synonyms'].split(line_split)) != len (song['sloka_eng'].split(line_split)):\n",
    "        status_flag=False\n",
    "        reason = reason + f\"\"\"No.of song verse={len(song['sloka_eng'].split(line_split)) } and No.of Synonyms={len(song['synonyms'].split(line_split)) } not matches \\n\"\"\"\n",
    "    else:\n",
    "        print(f\"[MATCH]: NO.of sloak eng=NO.of synonyms={len(song['sloka_eng'].split(line_split)) }\")\n",
    "\n",
    "if  ( len(song['sloka_eng']) >0) and (len(song['translation']) >0) and status_flag:\n",
    "    if len(song['translation'].split(line_split)) != len (song['sloka_eng'].split(line_split)):\n",
    "        status_flag=False\n",
    "        reason = reason + f\"\"\"No.of song verse={len(song['sloka_eng'].split(line_split)) } and No.of translation={len(song['translation'].split(line_split)) } not matches \\n\"\"\"\n",
    "    else:\n",
    "        print(f\"[MATCH]: NO.of sloak eng =NO.of translation= {len(song['translation'].split(line_split)) }\")\n",
    "\n",
    "if not status_flag:\n",
    "    print(reason) # reason for not able to create the song\n",
    "    my_color = 'lightcoral'\n",
    "else:\n",
    "    song_info['sloka_statues'] = 1\n",
    "    song_info['division_no'] = 0\n",
    "    song_info['total_slokas'] = len(song['sloka_eng'])\n",
    "    SongIndex_sql = SqliteModel(db_path,'SongIndex')        \n",
    "    mySongs_sql = SqliteModel(db_path,'Songs')\n",
    "    # print('Final song info:',song_info)\n",
    "    # SongIndex_sql.create_entry(**song_info)    \n",
    "    # song_idx = SongIndex_sql.read_entry( *['song_idx'], **song_info)[0]['song_idx'] # >>> 5           \n",
    "    # song['song_idx'] = song_idx\n",
    "\n",
    "    # create a table with only song_eng\n",
    "    # if len(song['synonyms']) >0 :\n",
    "        # update the table of synonyms\n",
    "    # if len(song_info['translation'])>0:\n",
    "        # update the table\n",
    "    my_color='lightgreen'\n",
    "    reason= \"\"\"CREATED NEW SONG here is the link  <a class=\"song-path\" href=\"https://google.com\"> ['song_name']</a>\"\"\"\n",
    "    print(my_color, reason)\n",
    "# if (len(song[\"Song Hindi\"]) >0) and ( len(song[\"Song IAST\"] >0)):\n",
    "#     if len(song[\"Song Hindi\"].split(line_split)) != len (song[\"Song IAST\"].split(line_split)):\n",
    "#         status_flag=False\n",
    "#         reason = reason + f\"\"\"No.of song verse in hindi{len(song['Song Hindi'].split(line_split)) } and iast {len(song['Song IAST'].split(line_split)) } not matches \\n\"\"\"\n",
    "# if \n"
   ]
  },
  {
   "cell_type": "code",
   "execution_count": 13,
   "id": "2e37e0af-526b-4e37-be47-55574b2728df",
   "metadata": {},
   "outputs": [
    {
     "data": {
      "text/plain": [
       "73"
      ]
     },
     "execution_count": 13,
     "metadata": {},
     "output_type": "execute_result"
    }
   ],
   "source": [
    "# Create a new Entry(Insert) in SongIndex Table\n",
    "SongIndex_sql.create_entry(**songIdx_info)\n",
    "\n",
    "# Get the Newly Created Song Index\n",
    "SongIndex_sql.read_entry( *['song_idx'], **song_info)[0]['song_idx'] # >>> 5"
   ]
  },
  {
   "cell_type": "markdown",
   "id": "27d53b30-aa6f-455a-a9d0-78cce80e9273",
   "metadata": {},
   "source": [
    "##  Add All Sloka,Synonyms & Translation to db"
   ]
  },
  {
   "cell_type": "code",
   "execution_count": 16,
   "id": "f9094e54-5102-480e-8502-c6937c8a7bec",
   "metadata": {},
   "outputs": [
    {
     "name": "stdout",
     "output_type": "stream",
     "text": [
      "0\n",
      "1\n",
      "2\n",
      "3\n",
      "4\n",
      "5\n",
      "6\n",
      "7\n",
      "8\n",
      "9\n",
      "10\n",
      "11\n",
      "12\n",
      "13\n",
      "14\n",
      "15\n",
      "16\n",
      "17\n",
      "18\n",
      "19\n",
      "20\n"
     ]
    }
   ],
   "source": [
    "mysong = dict()\n",
    "mySongs_sql = SqliteModel(db_path,'Songs')\n",
    "mysong ['song_idx'] = SongIndex_sql.read_entry(*['song_idx'], **songIdx_info)[0]['song_idx']\n",
    "list_sloka = song['sloka_eng'].split('\\n\\n')\n",
    "for idx, sloka in enumerate(list_sloka):\n",
    "    print(idx)\n",
    "    mysong['slokas_no']   = idx+1\n",
    "    mysong['sloka_eng']   = sloka.strip()\n",
    "    mySongs_sql.create_entry(**mysong)\n",
    "    "
   ]
  },
  {
   "cell_type": "code",
   "execution_count": 74,
   "id": "a1514535-a3e9-40d0-89e7-c6b2dac4185a",
   "metadata": {},
   "outputs": [
    {
     "name": "stdout",
     "output_type": "stream",
     "text": [
      "True\n",
      "True\n",
      "True\n",
      "True\n"
     ]
    }
   ],
   "source": [
    "for i in [1,4,10,15]:\n",
    "    print(\"'\" in list_sloka[i-1])"
   ]
  },
  {
   "cell_type": "code",
   "execution_count": 17,
   "id": "4f3894a2-79aa-46cb-b811-9d48e547a6ef",
   "metadata": {},
   "outputs": [
    {
     "name": "stdout",
     "output_type": "stream",
     "text": [
      "need to update synonyms\n",
      "0\n",
      "1\n",
      "2\n",
      "3\n",
      "4\n",
      "5\n",
      "6\n",
      "7\n",
      "8\n",
      "9\n",
      "10\n",
      "11\n",
      "12\n",
      "13\n",
      "14\n",
      "15\n",
      "16\n",
      "17\n",
      "18\n",
      "19\n",
      "20\n"
     ]
    }
   ],
   "source": [
    "if (len(song['synonyms']) >0) and (len(song['sloka_eng'].split('\\n\\n')) ==  len(song['synonyms'].split('\\n\\n')) ) :\n",
    "    if 'sloka_eng' in mysong.keys():\n",
    "        del mysong['sloka_eng']\n",
    "    if 'sloka_hindi' in mysong.keys():\n",
    "        del mysong['sloka_hindi']\n",
    "    if 'translation' in mysong.keys():\n",
    "        del mysong['translation']\n",
    "    if 'purpot' in mysong.keys():\n",
    "        del mysong['purpot']\n",
    "    # print(mysong)\n",
    "    print('need to update synonyms')\n",
    "    list_sloka = song['synonyms'].split('\\n\\n')    \n",
    "    for idx, sloka in enumerate(list_sloka):\n",
    "        print(idx)\n",
    "        mysong['slokas_no']   = idx+1\n",
    "        mysong['synonyms']   = sloka.strip()\n",
    "        mySongs_sql.update_entry( *['song_idx','slokas_no']  , **mysong)\n",
    "# mySongs.update_entry( *['song_idx','slokas_no'],sloka_hindi='test', song_idx=2, slokas_no=1)\n",
    "# UPDATE temp SET  sloka_hindi='test' WHERE  song_idx=2 and  slokas_no=1    \n",
    "else:\n",
    "    print('No update is needed')\n"
   ]
  },
  {
   "cell_type": "code",
   "execution_count": 18,
   "id": "5cf81e2b-df50-412f-a50a-5342a5b8b47a",
   "metadata": {},
   "outputs": [
    {
     "name": "stdout",
     "output_type": "stream",
     "text": [
      "need to update translation\n",
      "0\n",
      "1\n",
      "2\n",
      "3\n",
      "4\n",
      "5\n",
      "6\n",
      "7\n",
      "8\n",
      "9\n",
      "10\n",
      "11\n",
      "12\n",
      "13\n",
      "14\n",
      "15\n",
      "16\n",
      "17\n",
      "18\n",
      "19\n",
      "20\n"
     ]
    }
   ],
   "source": [
    "if (len(song['translation']) >0) and (len(song['sloka_eng'].split('\\n\\n')) ==  len(song['translation'].split('\\n\\n')) ) :\n",
    "    if 'sloka_eng' in mysong.keys():\n",
    "        del mysong['sloka_eng']\n",
    "    if 'sloka_hindi' in mysong.keys():\n",
    "        del mysong['sloka_hindi']\n",
    "    if 'synonyms' in mysong.keys():\n",
    "        del mysong['synonyms']\n",
    "    if 'purpot' in mysong.keys():\n",
    "        del mysong['purpot']\n",
    "    # print(mysong)\n",
    "    print('need to update translation')\n",
    "    list_sloka = song['translation'].split('\\n\\n')    \n",
    "    for idx, sloka in enumerate(list_sloka):\n",
    "        print(idx)\n",
    "        mysong['slokas_no']   = idx+1\n",
    "        mysong['translation']   = sloka.strip()\n",
    "        mySongs_sql.update_entry( *['song_idx','slokas_no']  , **mysong)\n",
    "# mySongs.update_entry( *['song_idx','slokas_no'],sloka_hindi='test', song_idx=2, slokas_no=1)\n",
    "# UPDATE temp SET  sloka_hindi='test' WHERE  song_idx=2 and  slokas_no=1    \n",
    "else:\n",
    "    print('No update is needed')\n"
   ]
  },
  {
   "cell_type": "markdown",
   "id": "b45578e2-d4ad-4ddf-ab17-c6bfbf93d3ca",
   "metadata": {},
   "source": [
    "### Delete a Song\n",
    "Below code is working \n",
    "So careful when deleting any song \n",
    "Process: get the song index that you want to delete \n",
    "- 1st Step: Delete all verse or song in talbe `Songs`\n",
    "- 2nd Step: Delete the song index in index table `SongIndex`"
   ]
  },
  {
   "cell_type": "code",
   "execution_count": 8,
   "id": "fb383314-eaa0-419c-ac13-4ebc7a5f5f2f",
   "metadata": {},
   "outputs": [
    {
     "name": "stdout",
     "output_type": "stream",
     "text": [
      "DELETE FROM Songs WHERE song_idx=75;\n"
     ]
    }
   ],
   "source": [
    "# SongIndex_sql = SqliteModel(db_path,'SongIndex')\n",
    "# mySongs_sql = SqliteModel(db_path,'Songs')\n",
    "\n",
    "# get seleted index \n",
    "\n",
    "# mysong_index =SongIndex_sql.read_entry(*['song_idx'], **songIdx_info)[0]['song_idx']\n",
    "mysong_index =75\n",
    "# for \n",
    "# mySongs_sql.delete_entry(song_idx=mysong_index) # delete all verse or sloka\n"
   ]
  },
  {
   "cell_type": "code",
   "execution_count": 9,
   "id": "36c84af1-2026-4975-a12c-db36f06103d6",
   "metadata": {},
   "outputs": [
    {
     "name": "stdout",
     "output_type": "stream",
     "text": [
      "DELETE FROM SongIndex WHERE song_idx=75;\n"
     ]
    }
   ],
   "source": [
    "# SongIndex_sql.delete_entry(song_idx=mysong_index) # delete in index table"
   ]
  },
  {
   "cell_type": "code",
   "execution_count": 12,
   "id": "9482dbd2-be0a-4d3f-a14a-a426adf5c063",
   "metadata": {},
   "outputs": [
    {
     "name": "stdout",
     "output_type": "stream",
     "text": [
      "73\n",
      "DELETE FROM Songs WHERE song_idx=73;\n",
      "DELETE FROM SongIndex WHERE song_idx=73;\n",
      "74\n",
      "DELETE FROM Songs WHERE song_idx=74;\n",
      "DELETE FROM SongIndex WHERE song_idx=74;\n",
      "75\n",
      "DELETE FROM Songs WHERE song_idx=75;\n",
      "DELETE FROM SongIndex WHERE song_idx=75;\n",
      "76\n",
      "DELETE FROM Songs WHERE song_idx=76;\n",
      "DELETE FROM SongIndex WHERE song_idx=76;\n",
      "77\n",
      "DELETE FROM Songs WHERE song_idx=77;\n",
      "DELETE FROM SongIndex WHERE song_idx=77;\n"
     ]
    }
   ],
   "source": [
    "for i in range(73,78):\n",
    "    print(i)\n",
    "    mysong_index =i\n",
    "    # mySongs_sql.delete_entry(song_idx=mysong_index) # delete all verse or sloka\n",
    "    # SongIndex_sql.delete_entry(song_idx=mysong_index) # delete in index table"
   ]
  },
  {
   "cell_type": "code",
   "execution_count": null,
   "id": "f0f8c99f-8c7c-4430-9cc1-4d6b83ee6f87",
   "metadata": {},
   "outputs": [],
   "source": []
  }
 ],
 "metadata": {
  "kernelspec": {
   "display_name": "Python 3 (ipykernel)",
   "language": "python",
   "name": "python3"
  },
  "language_info": {
   "codemirror_mode": {
    "name": "ipython",
    "version": 3
   },
   "file_extension": ".py",
   "mimetype": "text/x-python",
   "name": "python",
   "nbconvert_exporter": "python",
   "pygments_lexer": "ipython3",
   "version": "3.11.5"
  }
 },
 "nbformat": 4,
 "nbformat_minor": 5
}
