{
 "cells": [
  {
   "cell_type": "code",
   "execution_count": 1,
   "id": "6a46c7bf-6b8c-49a2-ac55-5eaa53416357",
   "metadata": {},
   "outputs": [],
   "source": [
    "def get_insert_query(table_name,**kwargs):\n",
    "    # get_insert_query(Song_Index ,song_name = 'Nector of Instruction', song_short_name ='noi', sloka_statues=1)\n",
    "    # print(type(kwargs))\n",
    "    comma = r', '    \n",
    "    Entry_Field =   ', '.join(list(kwargs.keys())) \n",
    "    # print(Entry_Field) # >>> song_name, song_short_name, sloka_statues\n",
    "    Entry_Value = ''\n",
    "    \n",
    "    for key, value in kwargs.items():\n",
    "        if isinstance(value, str): # type(value) == 'str': \n",
    "            Entry_Value = Entry_Value + \"\"\"'{}'{}\"\"\".format(str(value),comma)    \n",
    "        else:\n",
    "            Entry_Value = Entry_Value + \"\"\"{}{}\"\"\".format(str(value),comma)    \n",
    "            # Entry_Value +  str() + '=' + str(value) + comma\n",
    "    Entry_Value = Entry_Value.rstrip(comma)\n",
    "    # print(Entry_Value)  # >>> 'Nector of Instruction', 'noi', 1\n",
    "\n",
    "    query = \"\"\"INSERT INTO {} ({}) VALUES ({});\"\"\".format(table_name,Entry_Field, Entry_Value)        \n",
    "    # >>> INSERT INTO SongIndex (song_name, song_short_name, sloka_statues) VALUES ('Nector of Instruction', 'noi', 1);\n",
    "    return query\n",
    "# get_insert_query('Song_Index' ,song_name = 'Nector of Instruction', song_short_name ='noi', sloka_statues=1)\n",
    "        # \"INSERT INTO Song_Index (song_name, song_short_name, sloka_statues) VALUES ('Nector of Instruction', 'noi', 1);\""
   ]
  },
  {
   "cell_type": "code",
   "execution_count": 2,
   "id": "ef400088-395e-40d4-be85-8ba26eaa685b",
   "metadata": {},
   "outputs": [],
   "source": [
    "def get_read_query(table_name, *args, **kwargs):\n",
    "    if len(args) == 0: \n",
    "        query = \"SELECT * FROM {}\".format(table_name)\n",
    "    else:\n",
    "        # print(', '.join(args))\n",
    "        query = \"SELECT {} FROM {}\".format(', '.join(args), table_name)\n",
    "\n",
    "    if len(kwargs) != 0:\n",
    "        cond_query=''\n",
    "        for key, value in kwargs.items():\n",
    "            if isinstance(value, str): # type(value) == 'str': \n",
    "                cond_query =  \"\"\"{} {}='{}'{} \"\"\".format(cond_query, key,kwargs[key],' and')\n",
    "            else:\n",
    "                cond_query =  \"\"\"{} {}={}{} \"\"\".format(cond_query, key,kwargs[key],' and')                \n",
    "        cond_query = cond_query.rstrip(' and') \n",
    "        query = query + ' WHERE ' + cond_query + ';'\n",
    "    else:\n",
    "        query += ';' \n",
    "\n",
    "\n",
    "    print('get_read_query:' ,query)\n",
    "    return query\n",
    "\n",
    "# get_read_query('temp' )  # >>> SELECT * FROM temp;\n",
    "\n",
    "# get_read_query('mySong', *['song_idx', 'slokas_no', 'sloka_hindi','slokas_id', 'sloka_eng'])\n",
    "        # >>> SELECT song_idx, slokas_no, sloka_hindi, slokas_id, sloka_eng FROM mySong;\n",
    "\n",
    "# get_read_query('mySong', *['song_idx', 'slokas_no', 'sloka_hindi','slokas_id', 'sloka_eng'], song_idx =4 , slokas_id=1)\n",
    "        # >>> SELECT song_idx, slokas_no, sloka_hindi, slokas_id, sloka_eng FROM mySong WHEN  song_idx=4 and  slokas_id=1;\n"
   ]
  },
  {
   "cell_type": "code",
   "execution_count": 3,
   "id": "5d5c40fa-d253-41dd-938a-741941693030",
   "metadata": {},
   "outputs": [],
   "source": [
    "def get_update_query(table_name, *args, **kwargs):\n",
    "    query = \"UPDATE {} SET \".format(table_name)\n",
    "\n",
    "    # print(args)\n",
    "    if len(args) == 0: \n",
    "        last_key = list(kwargs.keys())[-1]\n",
    "        if isinstance(kwargs[last_key], str):\n",
    "            cond_query = \" WHERE {}='{}'\".format(last_key, kwargs[last_key])\n",
    "        else:\n",
    "            cond_query = \" WHERE {}={}\".format(last_key, kwargs[last_key])\n",
    "        del kwargs[last_key]\n",
    "    else: \n",
    "        \n",
    "        cond_query = \" WHERE \"\n",
    "        for key in args:\n",
    "            if isinstance(kwargs[key], str):\n",
    "                cond_query =  \"\"\"{} {}='{}'{} \"\"\".format(cond_query, key,kwargs[key],' and')\n",
    "            else:\n",
    "                cond_query =  \"\"\"{} {}={}{} \"\"\".format(cond_query, key,kwargs[key],' and')                \n",
    "            del kwargs[key]\n",
    "        cond_query = cond_query.rstrip(' and') \n",
    "            \n",
    "    \n",
    "    comma = ', '\n",
    "    for key, value in kwargs.items():\n",
    "        if isinstance(value, str):\n",
    "            query =  \"\"\"{} {}='{}'{} \"\"\".format(query, key,value,comma)  #  query + str(key) + '=' + str(value) + comma\n",
    "        else:\n",
    "            query =  \"\"\"{} {}={}{} \"\"\".format(query, key,str(value),comma)  \n",
    "\n",
    "    query = query.rstrip(comma) \n",
    "    \n",
    "    query += cond_query\n",
    "    \n",
    "    # print(query)   # >>> UPDATE store SET quantity=10, price=15 WHERE item=10\n",
    "    return query\n",
    "    \n",
    "# get_update_query('store', quantity=10, price=15, item='indian mango')\n",
    "        # UPDATE store SET quantity=10, price=15 WHERE item='indian mango'\n",
    "# get_update_query('store', quantity=10, price=15, item=10)\n",
    "        # UPDATE store SET quantity=10, price=15 WHERE item=10\n",
    "\n"
   ]
  },
  {
   "cell_type": "code",
   "execution_count": 4,
   "id": "62ffc67f-0fed-4dd3-bd68-ebb33e309baf",
   "metadata": {},
   "outputs": [],
   "source": [
    "def get_create_table_query(table_name, **kwargs):\n",
    "    query = \"CREATE TABLE IF NOT EXISTS {} (\".format(table_name)\n",
    "    comma = ', '\n",
    "    for key, value in kwargs.items():\n",
    "        query = query + key + ' ' + value + comma\n",
    "    query = query.rstrip(comma) + \");\"\n",
    "    # print(query)\n",
    "    return query\n",
    "    # return self.cursor.execute(query)\n",
    "\n",
    "# get_create_table_query('store', item='TEXT', quantity='INTEGER', price='REAL')\n",
    "        # CREATE TABLE IF NOT EXISTS store (item TEXT, quantity INTEGER, price REAL)"
   ]
  },
  {
   "cell_type": "code",
   "execution_count": 5,
   "id": "e747c8c9-f561-475f-a734-1664ed477b12",
   "metadata": {},
   "outputs": [
    {
     "data": {
      "text/plain": [
       "'CREATE TABLE IF NOT EXISTS Songs (song_idx INTEGER, slokas_no INTEGER NOT NULL, sloka_hindi TEXT, sloka_eng TEXT, synonyms TEXT, translation TEXT, purpot TEXT, FOREIGN KEY (song_idx) REFERENCES SongIndex(song_idx), PRIMARY  KEY (song_idx, slokas_no));'"
      ]
     },
     "execution_count": 5,
     "metadata": {},
     "output_type": "execute_result"
    }
   ],
   "source": [
    "get_create_table_query('Songs', song_idx='INTEGER', \n",
    "                                slokas_no='INTEGER NOT NULL', \n",
    "                                sloka_hindi= 'TEXT',\n",
    "                                sloka_eng= 'TEXT',\n",
    "                                synonyms= 'TEXT',\n",
    "                                translation= 'TEXT',\n",
    "                                purpot= 'TEXT',\n",
    "                                FOREIGN = 'KEY (song_idx) REFERENCES SongIndex(song_idx)',\n",
    "                                PRIMARY= ' KEY (song_idx, slokas_no)'\n",
    "                        )\n",
    "\n",
    "# >>> CREATE TABLE IF NOT EXISTS Songs (song_idx INTEGER, slokas_no INTEGER NOT NULL, sloka_hindi TEXT, \n",
    "                                    # sloka_eng TEXT, synonyms TEXT, translation TEXT, \n",
    "                                    # purpot TEXT, \n",
    "                                    # FOREIGN KEY (song_idx) REFERENCES SongIndex(song_idx), \n",
    "                                    # PRIMARY  KEY (song_idx, slokas_no));'\n",
    "\n"
   ]
  },
  {
   "cell_type": "code",
   "execution_count": 6,
   "id": "29c60fee-b24c-4178-a13e-af3c9f9a7dce",
   "metadata": {},
   "outputs": [],
   "source": [
    "def get_delete_query(table_name, **kwargs):\n",
    "    # if len(kwargs) > 1:\n",
    "    cond_query = \"\"\n",
    "    for key, value in kwargs.items():\n",
    "        if isinstance(value, str): # type(value) == 'str': \n",
    "            cond_query = cond_query + \"\"\"{}='{}'{}\"\"\".format(key, str(value),' and ')    \n",
    "        else:\n",
    "            cond_query = cond_query + \"\"\"{}={}{}\"\"\".format(key, str(value),' and ')    \n",
    "    cond_query = cond_query.rstrip(' and ')\n",
    "        \n",
    "    # table_index = list(kwargs.keys())[0]\n",
    "    query = \"DELETE FROM {} WHERE {};\".format(table_name, cond_query )\n",
    "    # print(query)\n",
    "    return query\n",
    "\n",
    "# get_delete_query('Song', song_idx=1,sloka_no = 5)\n",
    "    # >>> 'DELETE FROM Song WHERE song_idx=1 and sloka_no=5;'"
   ]
  },
  {
   "cell_type": "code",
   "execution_count": 7,
   "id": "bfe515b4-edc3-44fd-b716-425a5b3b95bc",
   "metadata": {},
   "outputs": [],
   "source": [
    "import sys\n",
    "class Model():\n",
    "    def __init__(self,db_path,table_name):\n",
    "        self.db_path = db_path\n",
    "        self.table_name = table_name\n",
    "        self.db_connect = sqlite3.connect(db_path) # OperationalError: database is locked may occur to reduce try  <db.connections.close_all()>\n",
    "                                                # https://www.geeksforgeeks.org/how-to-list-tables-using-sqlite3-in-python/?ref=lbp\n",
    "    \n",
    "    def create_table(self, **kwargs):\n",
    "        # self.db_connect = sqlite3.connect(db_path)\n",
    "        self.db_cursor = self.db_connect.cursor()\n",
    "        query = get_create_table_query(self.table_name, **kwargs)\n",
    "        try :\n",
    "            self.db_cursor.execute(query)\n",
    "            self.db_connect.commit()\n",
    "            # auto_increment and delete on cascade https://stackoverflow.com/questions/29037793/sqlite-integrityerror-unique-constraint-failed\n",
    "            self.db_cursor.close()\n",
    "            # self.db_connect.close()\n",
    "        except sqlite3.Error as e:\n",
    "            print('SQLite error: %s' % (' '.join(er.args)))\n",
    "            print(\"Exception class is: \", er.__class__)\n",
    "            print('SQLite traceback: ')\n",
    "            exc_type, exc_value, exc_tb = sys.exc_info() \n",
    "\n",
    "        finally:\n",
    "            self.db_cursor.close()\n",
    "            print('Table : {} Created Successful !'.format(self.table_name))\n",
    "\n",
    "\n",
    "    def create_entry(self, **kwargs):\n",
    "        query = get_insert_query(self.table_name,**kwargs)\n",
    "        self.db_cursor = self.db_connect.cursor()\n",
    "        print(query)\n",
    "        try :\n",
    "            self.db_cursor.execute(query)        \n",
    "            self.db_connect.commit()\n",
    "        except sqlite3.IntegrityError as e:\n",
    "            print('Exception: {}'.format(e))\n",
    "            print('SQLite error: %s' % (' '.join(e.args)))\n",
    "            print(\"Exception class is: \", e.__class__)\n",
    "            # print('SQLite traceback: ')\n",
    "            # exc_type, exc_value, exc_tb = sys.exc_info()\n",
    "            # print(sys.exc_info())\n",
    "\n",
    "        finally:\n",
    "            self.db_cursor.close()      \n",
    "    \n",
    "    def read_entry(self, *args,**kwargs):\n",
    "        # query = \"SELECT * FROM {};\".format(self.table_name)\n",
    "        query = get_read_query(table_name, *args, **kwargs)\n",
    "        print(query)\n",
    "        self.db_cursor = self.db_connect.cursor()\n",
    "        try :\n",
    "            self.db_cursor.execute(query)\n",
    "            columns = [column[0] for column in self.db_cursor.description]\n",
    "            data = [dict(zip(columns, row)) for row in self.db_cursor.fetchall()]\n",
    "            print(data)\n",
    "            \n",
    "            # rows = self.db_cursor.fetchall()\n",
    "            # for row in rows:\n",
    "            #     print(row)\n",
    "\n",
    "        except sqlite3.Error as e:\n",
    "            print('Exception: {}'.format(e))\n",
    "        finally:\n",
    "            self.db_cursor.close()\n",
    "        return data\n",
    "\n",
    "    def update_entry(self,*args, **kwargs):\n",
    "        query = get_update_query(self.table_name,*args,**kwargs)\n",
    "        self.db_cursor = self.db_connect.cursor()\n",
    "        print(query)\n",
    "        try :\n",
    "            self.db_cursor.execute(query)        \n",
    "            self.db_connect.commit()\n",
    "        except sqlite3.Error as e:\n",
    "            print('Exception: {}'.format(e))\n",
    "\n",
    "        finally:\n",
    "            self.db_cursor.close()\n",
    "\n",
    "    def delete_entry(self, **kwargs):\n",
    "        self.db_cursor = self.db_connect.cursor()    \n",
    "        query = get_delete_query(self.table_name, **kwargs)\n",
    "        print(query)\n",
    "        try :\n",
    "            self.db_cursor.execute(query)        \n",
    "            self.db_connect.commit()\n",
    "        except sqlite3.Error as e:\n",
    "            print('Exception: {}'.format(e))\n",
    "\n",
    "        finally:\n",
    "            self.db_cursor.close()\n",
    "            \n",
    "    def delete_table(self):\n",
    "        self.db_cursor = self.db_connect.cursor()        \n",
    "        query = 'DROP TABLE IF EXISTS {};'.format(self.table_name)\n",
    "        print(query)\n",
    "        try :\n",
    "            self.db_cursor.execute(query)        \n",
    "            self.db_connect.commit()\n",
    "        except sqlite3.Error as e:\n",
    "            print('Exception: {}'.format(e))\n",
    "\n",
    "        finally:\n",
    "            self.db_cursor.close()\n",
    "\n",
    "    def db_close(self):\n",
    "        self.db_connect.close()\n",
    "\n",
    "    \n",
    "    \n",
    "    def __del__( self):\n",
    "         print('Closed Connection to db')\n",
    "         self.db_connect.close()        "
   ]
  },
  {
   "cell_type": "code",
   "execution_count": 8,
   "id": "a41688bf-6d11-455b-a45d-a0f9e6a48042",
   "metadata": {},
   "outputs": [
    {
     "name": "stdout",
     "output_type": "stream",
     "text": [
      "/media/karthik/myVolume/workspace/workspae_vedabase/slokabase.db\n"
     ]
    }
   ],
   "source": [
    "import os, sqlite3 \n",
    "\n",
    "db_name = 'slokabase.db'\n",
    "db_path = os.path.join(os.getcwd(),db_name)\n",
    "table_name = 'temp'\n",
    "print(db_path)\n"
   ]
  },
  {
   "cell_type": "code",
   "execution_count": 9,
   "id": "c882f42a-8ea1-47ea-8911-d3754e5ad731",
   "metadata": {},
   "outputs": [],
   "source": [
    "mySongs = Model(db_path,table_name) # Connect to Table inside a given db "
   ]
  },
  {
   "cell_type": "code",
   "execution_count": 10,
   "id": "65cb92df-b1b0-49ed-93a5-45ac9ed45fa8",
   "metadata": {},
   "outputs": [
    {
     "name": "stdout",
     "output_type": "stream",
     "text": [
      "Table : temp Created Successful !\n"
     ]
    }
   ],
   "source": [
    "mySongs.create_table(song_idx='INTEGER', \n",
    "                    slokas_no='INTEGER NOT NULL', \n",
    "                    sloka_hindi= 'TEXT',\n",
    "                    sloka_eng= 'TEXT',\n",
    "                    synonyms= 'TEXT',\n",
    "                    translation= 'TEXT',\n",
    "                    purpot= 'TEXT',\n",
    "                    FOREIGN = 'KEY (song_idx) REFERENCES SongIndex(song_idx)',\n",
    "                    PRIMARY= ' KEY (song_idx, slokas_no)')\n",
    "\n",
    "# mySongs.create_table(\n",
    "#                     song_idx='INTEGER PRIMARY KEY' , \n",
    "#                     song_name='VARCHAR(100) NOT NULL UNIQUE', \n",
    "#                     song_short_name='VARCHAR(100) NOT NULL UNIQUE', \n",
    "#                     sloka_statues='BOOLEAN NOT NULL CHECK (sloka_statues IN (0, 1))',\n",
    "#                     division='VARCHAR(100)',\n",
    "#                     division_no='INTEGER',\n",
    "#                     total_slokas='INTEGER',\n",
    "#                     groups='VARCHAR(100)',\n",
    "#                     devotion_god='VARCHAR(100)',\n",
    "#                     author='VARCHAR(100)',\n",
    "#                     describtion='TEXT',\n",
    "#                     other_links='TEXT'\n",
    "#                     )"
   ]
  },
  {
   "cell_type": "code",
   "execution_count": 27,
   "id": "be4bd45e-93b5-4c6e-bd08-b57642c3632c",
   "metadata": {},
   "outputs": [
    {
     "name": "stdout",
     "output_type": "stream",
     "text": [
      "INSERT INTO temp (song_name, song_short_name, sloka_statues, division_no) VALUES ('Nector of Instruction', 'noi', 1, 0);\n",
      "Exception: UNIQUE constraint failed: temp.song_short_name\n",
      "SQLite error: UNIQUE constraint failed: temp.song_short_name\n",
      "Exception class is:  <class 'sqlite3.IntegrityError'>\n",
      "INSERT INTO temp (song_name, song_short_name, sloka_statues, division_no) VALUES ('Brahma-saṁhitā', 'bs', 1, 0);\n",
      "Exception: UNIQUE constraint failed: temp.song_short_name\n",
      "SQLite error: UNIQUE constraint failed: temp.song_short_name\n",
      "Exception class is:  <class 'sqlite3.IntegrityError'>\n",
      "INSERT INTO temp (song_name, song_short_name, sloka_statues, division_no) VALUES ('Śrī Īśopaniṣad', 'iso', 1, 0);\n",
      "Exception: UNIQUE constraint failed: temp.song_short_name\n",
      "SQLite error: UNIQUE constraint failed: temp.song_short_name\n",
      "Exception class is:  <class 'sqlite3.IntegrityError'>\n"
     ]
    }
   ],
   "source": [
    "mySongs.create_entry(song_name = 'Nector of Instruction', song_short_name ='noi', sloka_statues=1,division_no=0)\n",
    "mySongs.create_entry(song_name = 'Brahma-saṁhitā', song_short_name ='bs', sloka_statues=1,division_no=0)\n",
    "mySongs.create_entry(song_name = 'Śrī Īśopaniṣad', song_short_name ='iso', sloka_statues=1,division_no=0)\n"
   ]
  },
  {
   "cell_type": "code",
   "execution_count": 12,
   "id": "42eb9985-c849-4343-9523-398b79757a29",
   "metadata": {},
   "outputs": [
    {
     "name": "stdout",
     "output_type": "stream",
     "text": [
      "INSERT INTO temp (song_name, song_short_name, sloka_statues, division_no) VALUES ('Nector of Instruction', 'noi', 1, 0);\n",
      "Exception: UNIQUE constraint failed: temp.song_short_name\n",
      "SQLite error: UNIQUE constraint failed: temp.song_short_name\n",
      "Exception class is:  <class 'sqlite3.IntegrityError'>\n"
     ]
    }
   ],
   "source": [
    "mySongs.create_entry(song_name = 'Nector of Instruction', song_short_name ='noi', sloka_statues=1,division_no=0)"
   ]
  },
  {
   "cell_type": "code",
   "execution_count": 15,
   "id": "78a0478c-3f17-4415-840d-f2b5b7449230",
   "metadata": {},
   "outputs": [
    {
     "name": "stdout",
     "output_type": "stream",
     "text": [
      "get_read_query: SELECT * FROM temp WHERE  song_short_name='noi' and  song_idx=1;\n",
      "SELECT * FROM temp WHERE  song_short_name='noi' and  song_idx=1;\n",
      "(1, 'Nector of Instruction', 'noi', 1, None, 0, None, None, None, None, None, None)\n"
     ]
    }
   ],
   "source": [
    "# mySongs.read_entry()\n",
    "# mySongs.read_entry(*['song_idx', 'song_short_name', 'song_name', 'sloka_statues'] ) # read selected columns\n",
    "mySongs.read_entry( song_short_name='noi',song_idx=1) # read with conditions in dictoinary or kwargs"
   ]
  },
  {
   "cell_type": "code",
   "execution_count": 21,
   "id": "ff2998cf-1478-46f4-89f6-12d0f7ed48eb",
   "metadata": {},
   "outputs": [
    {
     "name": "stdout",
     "output_type": "stream",
     "text": [
      "UPDATE temp SET  song_name='Nector of Instruction 2',   song_short_name='noi',   sloka_statues=1 WHERE song_idx=1\n",
      "(1, 'Nector of Instruction 2', 'noi', 1, None, 0, None, None, None, None, None, None)\n",
      "(2, 'Brahma-saṁhitā', 'bs', 1, None, 0, None, None, None, None, None, None)\n",
      "(3, 'Śrī Īśopaniṣad', 'iso', 1, None, 0, None, None, None, None, None, None)\n"
     ]
    }
   ],
   "source": [
    "mySongs.update_entry(song_name = 'Nector of Instruction 2', song_short_name ='noi', sloka_statues=1, song_idx=1)\n",
    "mySongs.read_entry()"
   ]
  },
  {
   "cell_type": "code",
   "execution_count": 22,
   "id": "c405b630-caba-4395-9d63-556f2f2aaccd",
   "metadata": {},
   "outputs": [
    {
     "name": "stdout",
     "output_type": "stream",
     "text": [
      "DELETE FROM temp WHERE song_idx=1;\n",
      "(2, 'Brahma-saṁhitā', 'bs', 1, None, 0, None, None, None, None, None, None)\n",
      "(3, 'Śrī Īśopaniṣad', 'iso', 1, None, 0, None, None, None, None, None, None)\n"
     ]
    }
   ],
   "source": [
    "mySongs.delete_entry(song_idx=1)\n",
    "mySongs.read_entry()"
   ]
  },
  {
   "cell_type": "code",
   "execution_count": 23,
   "id": "f937b128-9b74-4bd8-a191-6eace785cb4e",
   "metadata": {},
   "outputs": [
    {
     "name": "stdout",
     "output_type": "stream",
     "text": [
      "DROP TABLE IF EXISTS temp;\n"
     ]
    }
   ],
   "source": [
    "mySongs.delete_table()"
   ]
  },
  {
   "cell_type": "code",
   "execution_count": 24,
   "id": "18376cdb-5c7c-4ecf-83f7-2aeefbbebda2",
   "metadata": {},
   "outputs": [
    {
     "name": "stdout",
     "output_type": "stream",
     "text": [
      "Exception: no such table: temp\n"
     ]
    }
   ],
   "source": [
    "# mySongs.create_entry(song_name = 'Nector of Instruction', song_short_name ='noi', sloka_statues=1,division_no=0)\n",
    "mySongs.read_entry()"
   ]
  },
  {
   "cell_type": "code",
   "execution_count": 27,
   "id": "f760c9db-97be-456e-b828-b1bb966e56f6",
   "metadata": {},
   "outputs": [],
   "source": [
    "mySongs.db_close()"
   ]
  },
  {
   "cell_type": "code",
   "execution_count": 28,
   "id": "e9b44ac5-be94-493b-9c40-b9e0a35f98e5",
   "metadata": {},
   "outputs": [
    {
     "name": "stdout",
     "output_type": "stream",
     "text": [
      "Closed Connection to db\n"
     ]
    }
   ],
   "source": [
    "mySongs.__del__()"
   ]
  },
  {
   "cell_type": "code",
   "execution_count": 29,
   "id": "5966ae92-4592-4ae4-9725-7c269f2487b1",
   "metadata": {},
   "outputs": [
    {
     "data": {
      "text/plain": [
       "<__main__.Model at 0x7f18643db490>"
      ]
     },
     "execution_count": 29,
     "metadata": {},
     "output_type": "execute_result"
    }
   ],
   "source": [
    "mySongs"
   ]
  },
  {
   "cell_type": "markdown",
   "id": "f5eb5c6a-2141-4b37-9360-568093779372",
   "metadata": {},
   "source": [
    "# Test Model for composite key"
   ]
  },
  {
   "cell_type": "code",
   "execution_count": 8,
   "id": "55202ca2-872d-4bf7-932b-511f9523be7d",
   "metadata": {},
   "outputs": [
    {
     "name": "stdout",
     "output_type": "stream",
     "text": [
      "/media/karthik/myVolume/workspace/workspae_vedabase/slokabase.db\n",
      "Table : Songs Created Successful !\n"
     ]
    }
   ],
   "source": [
    "import os, sqlite3 \n",
    "\n",
    "db_name = 'slokabase.db'\n",
    "db_path = os.path.join(os.getcwd(),db_name)\n",
    "table_name = 'Songs'\n",
    "print(db_path)\n",
    "\n",
    "mySongs = Model(db_path,table_name) # Connect to Table inside a given db \n",
    "\n",
    "mySongs.create_table(song_idx='INTEGER', \n",
    "                    slokas_no='INTEGER NOT NULL', \n",
    "                    sloka_hindi= 'TEXT',\n",
    "                    sloka_eng= 'TEXT',\n",
    "                    synonyms= 'TEXT',\n",
    "                    translation= 'TEXT',\n",
    "                    purpot= 'TEXT',\n",
    "                    FOREIGN = 'KEY (song_idx) REFERENCES SongIndex(song_idx)',\n",
    "                    PRIMARY= ' KEY (song_idx, slokas_no)')"
   ]
  },
  {
   "cell_type": "code",
   "execution_count": 20,
   "id": "af0bad4a-b954-4fd4-a110-992539c2f600",
   "metadata": {},
   "outputs": [
    {
     "name": "stdout",
     "output_type": "stream",
     "text": [
      "{'song_idx': 2, 'slokas_no': 1, 'sloka_eng': 'kuṅkumākta-kāñcanābja-garva-hāri-gaurabhā\\npītanāñcitābja-gandha-kīrti-nindi-saurabhā\\nballaveśa-sūnu-sarva-vāñcitārtha-sādhikā\\nmahyam ātma-pāda-padma-dāsya-dāstu rādhikā', 'synonyms': 'kuṅkuma = Saffron; ākta = anointed, ointment, tinged , smeared over;kāñcana = golden; abja = lotus, born in water; gaura = blonde,fair, dignity, admiration, splendorous;ābhā = appearance, similar, splendor, glamour;pītana= saffron; añcita= worshipped; abja= lotus, born in water; saurabha = saffon, perfume,fragrance;ballaveśa = krishna,  ballava(cowherd)+ veṣa( dress); sūnu = son, offspring ; sarva = whole, entire, all, every;vāñcita= wished,tricked, desire, beloved ; artha = object of desire; vāñcitārtha = one who full will all the desire', 'translation': 'Her splendrous golden complexion steals the pride of a golden lotus flower anointed with a tinge of red kunkum powder.\\nHer sweet fragrance mocks the fame of the aroma of a lotus flower sprinkled with saffron powder.\\nShe is fully qualified to fulfill all the desires of the son of the king of cowherd men.\\nMay Sri Radhika always bestow upon me the service of Her own lotus feet'}\n"
     ]
    }
   ],
   "source": [
    "temp_song = dict()\n",
    "temp_song['song_idx'] = 2\n",
    "temp_song['slokas_no'] = 1\n",
    "# temp_song['sloka_hindi'] =  \n",
    "temp_song['sloka_eng'] = \"\"\"kuṅkumākta-kāñcanābja-garva-hāri-gaurabhā\n",
    "pītanāñcitābja-gandha-kīrti-nindi-saurabhā\n",
    "ballaveśa-sūnu-sarva-vāñcitārtha-sādhikā\n",
    "mahyam ātma-pāda-padma-dāsya-dāstu rādhikā\"\"\" \n",
    "\n",
    "temp_song['synonyms'] = \"\"\"kuṅkuma = Saffron; ākta = anointed, ointment, tinged , smeared over;\n",
    "kāñcana = golden; abja = lotus, born in water; gaura = blonde,fair, dignity, admiration, splendorous;\n",
    "ābhā = appearance, similar, splendor, glamour;\n",
    "pītana= saffron; añcita= worshipped; abja= lotus, born in water; saurabha = saffon, perfume,fragrance;\n",
    "ballaveśa = krishna,  ballava(cowherd)+ veṣa( dress); sūnu = son, offspring ; sarva = whole, entire, all, every;\n",
    "vāñcita= wished,tricked, desire, beloved ; artha = object of desire; vāñcitārtha = one who full will all the desire\"\"\" \n",
    "temp_song['synonyms']= temp_song['synonyms'].replace('\\n','')\n",
    "\n",
    "temp_song['translation'] = \"\"\"Her splendrous golden complexion steals the pride of a golden lotus flower anointed with a tinge of red kunkum powder.\n",
    "Her sweet fragrance mocks the fame of the aroma of a lotus flower sprinkled with saffron powder.\n",
    "She is fully qualified to fulfill all the desires of the son of the king of cowherd men.\n",
    "May Sri Radhika always bestow upon me the service of Her own lotus feet\"\"\"\n",
    "# temp_song['purpot']\n",
    "\n",
    "print(temp_song)\n",
    "\n",
    "\n"
   ]
  },
  {
   "cell_type": "code",
   "execution_count": 21,
   "id": "c182024b-614d-4c1f-8ebc-26f30b9b1307",
   "metadata": {},
   "outputs": [
    {
     "name": "stdout",
     "output_type": "stream",
     "text": [
      "INSERT INTO Songs (song_idx, slokas_no, sloka_eng, synonyms, translation) VALUES (2, 1, 'kuṅkumākta-kāñcanābja-garva-hāri-gaurabhā\n",
      "pītanāñcitābja-gandha-kīrti-nindi-saurabhā\n",
      "ballaveśa-sūnu-sarva-vāñcitārtha-sādhikā\n",
      "mahyam ātma-pāda-padma-dāsya-dāstu rādhikā', 'kuṅkuma = Saffron; ākta = anointed, ointment, tinged , smeared over;kāñcana = golden; abja = lotus, born in water; gaura = blonde,fair, dignity, admiration, splendorous;ābhā = appearance, similar, splendor, glamour;pītana= saffron; añcita= worshipped; abja= lotus, born in water; saurabha = saffon, perfume,fragrance;ballaveśa = krishna,  ballava(cowherd)+ veṣa( dress); sūnu = son, offspring ; sarva = whole, entire, all, every;vāñcita= wished,tricked, desire, beloved ; artha = object of desire; vāñcitārtha = one who full will all the desire', 'Her splendrous golden complexion steals the pride of a golden lotus flower anointed with a tinge of red kunkum powder.\n",
      "Her sweet fragrance mocks the fame of the aroma of a lotus flower sprinkled with saffron powder.\n",
      "She is fully qualified to fulfill all the desires of the son of the king of cowherd men.\n",
      "May Sri Radhika always bestow upon me the service of Her own lotus feet');\n"
     ]
    }
   ],
   "source": [
    "mySongs.create_entry(**temp_song)"
   ]
  },
  {
   "cell_type": "code",
   "execution_count": 9,
   "id": "da361b9d-3a3c-4148-8f55-89aafebb291d",
   "metadata": {},
   "outputs": [
    {
     "name": "stdout",
     "output_type": "stream",
     "text": [
      "get_read_query: SELECT * FROM Songs;\n",
      "SELECT * FROM Songs;\n",
      "[{'song_idx': 4, 'slokas_no': 1, 'sloka_hindi': None, 'sloka_eng': 'kuṅkumākta-kāñcanābja-garva-hāri-gaurabhā\\npītanāñcitābja-gandha-kīrti-nindi-saurabhā\\nballaveśa-sūnu-sarva-vāñcitārtha-sādhikā\\nmahyam ātma-pāda-padma-dāsya-dāstu rādhikā | 1 |', 'synonyms': 'kuṅkuma = Saffron; ākta = anointed, ointment, tinged , smeared over;\\nkāñcana = golden; abja = lotus, born in water; gaura = blonde,fair, dignity, admiration, splendorous;\\nābhā = appearance, similar, splendor, glamour;\\npītana= saffron; añcita= worshipped; abja= lotus, born in water; saurabha = saffon, perfume,fragrance;\\nballaveśa = krishna,  ballava(cowherd)+ veṣa( dress); sūnu = son, offspring ; sarva = whole, entire, all, every;\\nvāñcita= wished,tricked, desire, beloved ; artha = object of desire; vāñcitārtha = one who full will all the desire', 'translation': 'Her splendrous golden complexion steals the pride of a golden lotus flower anointed with a tinge of red kunkum powder.\\nHer sweet fragrance mocks the fame of the aroma of a lotus flower sprinkled with saffron powder.\\nShe is fully qualified to fulfill all the desires of the son of the king of cowherd men.\\nMay Sri Radhika always bestow upon me the service of Her own lotus feet. | 1 |', 'purpot': None}, {'song_idx': 4, 'slokas_no': 2, 'sloka_hindi': None, 'sloka_eng': 'kauravinda-kānti-nindi-citra-paṭṭa-śāṭikā\\nkṛṣṇa-matta-bhṛṅga-keli-phulla-puṣpa-vāṭikā\\nkṛṣṇa-nitya-saṅgamārtha-padma-bandhu-rādhikā\\nmahyam ātma-pāda-padma-dāsya-dāstu rādhikā | 2 |', 'synonyms': None, 'translation': 'Her amazing and colorful silken garments make the splendour of coral feel ashamed.\\nShe is a garden of blossoming flowers where the maddened bumblebee named Krishna performs amorous pastimes.\\nShe worships the Sun-god daily in order to attain the continual association of Her beloved Krishna.\\nMay Sri Radhika always bestow upon me the service of Her own lotus feet. | 2 |', 'purpot': None}, {'song_idx': 4, 'slokas_no': 3, 'sloka_hindi': None, 'sloka_eng': 'saukumārya-sṛṣṭa-pallavāli-kīrti-nigrahā\\ncandra-candanotpalendu-sevya-śīta-vigrahā\\nsvābhimarśa-ballavīśa-kāma-tāpa-bādhikā\\nmahyam ātma-pāda-padma-dāsya-dāstu rādhikā | 3 |', 'synonyms': None, 'translation': 'Her charming youthful delicacy negates the fame of freshly-sprouted leaves.\\nHer refreshing form is worthy of being served by the cooling moon, sandalwood paste, lotus flowers, and camphor.\\nWhen She touches the master of the gopis, She dispels the burning heat of His lusty desires.\\nMay Sri Radhika always bestow upon me the service of Her own lotus feet. | 3 |', 'purpot': None}, {'song_idx': 4, 'slokas_no': 4, 'sloka_hindi': None, 'sloka_eng': 'viśva-vandya-yauvatābhivanditāpi yā ramā\\nrūpa-navya-yauvanādi-saṁpadā na yat-samā\\nśīla-hārda-līlayā ca sā yato ‘sti nādhikā\\nmahyam ātma-pāda-padma-dāsya-dāstu rādhikā | 4 |', 'synonyms': None, 'translation': 'Although the goddess of fortune Lakshmi Devi is adored by other youthful goddesses, who are themselves glorified throughout all the universe,\\nstill she is nowhere near Sri Radhika in the matter of beauty, praiseworthy youthfulness, or other divine feminine opulences.\\nThere is no one in the material or spiritual worlds superior to Radhika in the expression of naturally loving pastimes.\\nMay Sri Radhika always bestow upon me the service of Her own lotus feet. | 4 |', 'purpot': None}, {'song_idx': 4, 'slokas_no': 5, 'sloka_hindi': None, 'sloka_eng': 'rāsa-lāsya-gīta-narma-sat-kalāli-paṇḍitā\\nprema-ramya-rūpa-veśa-sad-guṇāli-maṇḍitā\\nviśva-navya-gopa-yoṣid-ālito ‘pi yādhikā\\nmahyam ātma-pāda-padma-dāsya-dāstu rādhikā | 5 |', 'synonyms': None, 'translation': 'She is very learned in many transcendental arts, such as performing in the rasa dance, singing, and joking.\\nShe is decorated with many divine qualities, such as loving nature, exquisite beauty, and wonderful garments and ornaments.\\nEven among the cowherd damsels of Vraja, who are praised by the entire universe, She is the best in every way.\\nMay Sri Radhika always bestow upon me the service of Her own lotus feet. | 5 |', 'purpot': None}, {'song_idx': 4, 'slokas_no': 6, 'sloka_hindi': None, 'sloka_eng': 'nitya-navya-rūpa-keli-kṛṣṇa-bhāva-sampadā\\nkṛṣṇa-rāga-bandha-gopa-yauvateṣu kampadā\\nkṛṣṇa-rūpa-veśa-keli-lagna-sat-samādhikā\\nmahyam ātma-pāda-padma-dāsya-dāstu rādhikā | 6 |', 'synonyms': None, 'translation': \"She possesses the opulence's of eternal youthful beauty, eternal pastimes, and eternal love for Krishna.\\nHer ecstatic feelings of love for Krishna cause the gopis, who are also in love with Krishna, to tremble.\\nShe is always attached to meditating on Sri Krishna's beautiful form, ornaments, garments, and pastimes.\\nMay Sri Radhika always bestow upon me the service of Her own lotus feet. | 6 |\", 'purpot': None}, {'song_idx': 4, 'slokas_no': 7, 'sloka_hindi': None, 'sloka_eng': 'sveda-kampa-kaṇṭakāśru-gadgadādi-sañcitā\\nmarṣa-harṣa-vāmatādi-bhāva-bhuṣaṇāñcitā \\nkṛṣṇa-netra-toṣi-ratna-maṇḍanāli-dādhikā\\nmahyam ātma-pāda-padma-dāsya-dāstu rādhikā | 7 |', 'synonyms': None, 'translation': 'She is graced with eight ecstatic symptoms (sattvika-bhava), such as trembling, perspiring, standing up on bodily hairs, tears, faltering of the voice, and so forth.\\nShe is adorned with different ecstatic emotional ornaments, such as impatience, joy, contrariness, and so forth.\\nShe is decorated with beautiful jewels that give total delight to the eyes of Krishna.\\nMay Sri Radhika always bestow upon me the service of Her own lotus feet. | 7 |', 'purpot': None}, {'song_idx': 4, 'slokas_no': 8, 'sloka_hindi': None, 'sloka_eng': 'yā kṣaṇārdha-kṛṣṇa-viprayoga-santatoditāneka-\\ndainya-cāpalādi-bhāva-vṛnda-toditā \\nyatna-labdha-kṛṣṇa-saṅga-nirgatākhilādhikā\\nmahyam ātma-pāda-padma-dāsya-dāstu rādhikā | 8 |', 'synonyms': None, 'translation': 'If She is apart from Krsna, for even half a moment, She becomes stricken with wretched suffering, restlessness, and a multitude of other ecstatic symptoms of separation.\\nWhen She regains the association of Krishna after some effort, then all Her anguish immediately vanishes.\\nMay Sri Radhika always bestow upon me the service of Her own lotus feet. | 8 |', 'purpot': None}, {'song_idx': 4, 'slokas_no': 9, 'sloka_hindi': None, 'sloka_eng': 'aṣṭakena yas tv anena nauti kṛṣṇa-vallabhāḿ\\ndarśane ‘pi śailajādi-yoṣidāli-durlabhām\\nkṛṣṇa-sańga-nanditātma-dāsya-sīdhu-bhājanaḿ\\ntaḿ karoti nanditāli-sañcayāśu sā janam | 9 |', 'synonyms': None, 'translation': 'It is very difficult for Parvati and other exalted goddesses to attain even a glimpse of Srimati Radharani, who is dear to Lord Krsna.\\nBut if someone glorifies Her by reciting these eight verses, then She who is delighted by Krsnas continuous association will grant the sweet nectar of Her personal service to that person, who thereby enters the assembly of Her similarly delighted girlfriends.| 9 |', 'purpot': None}, {'song_idx': 2, 'slokas_no': 1, 'sloka_hindi': None, 'sloka_eng': 'kuṅkumākta-kāñcanābja-garva-hāri-gaurabhā\\npītanāñcitābja-gandha-kīrti-nindi-saurabhā\\nballaveśa-sūnu-sarva-vāñcitārtha-sādhikā\\nmahyam ātma-pāda-padma-dāsya-dāstu rādhikā', 'synonyms': 'kuṅkuma = Saffron; ākta = anointed, ointment, tinged , smeared over;kāñcana = golden; abja = lotus, born in water; gaura = blonde,fair, dignity, admiration, splendorous;ābhā = appearance, similar, splendor, glamour;pītana= saffron; añcita= worshipped; abja= lotus, born in water; saurabha = saffon, perfume,fragrance;ballaveśa = krishna,  ballava(cowherd)+ veṣa( dress); sūnu = son, offspring ; sarva = whole, entire, all, every;vāñcita= wished,tricked, desire, beloved ; artha = object of desire; vāñcitārtha = one who full will all the desire', 'translation': 'Her splendrous golden complexion steals the pride of a golden lotus flower anointed with a tinge of red kunkum powder.\\nHer sweet fragrance mocks the fame of the aroma of a lotus flower sprinkled with saffron powder.\\nShe is fully qualified to fulfill all the desires of the son of the king of cowherd men.\\nMay Sri Radhika always bestow upon me the service of Her own lotus feet', 'purpot': None}]\n"
     ]
    },
    {
     "data": {
      "text/plain": [
       "[{'song_idx': 4,\n",
       "  'slokas_no': 1,\n",
       "  'sloka_hindi': None,\n",
       "  'sloka_eng': 'kuṅkumākta-kāñcanābja-garva-hāri-gaurabhā\\npītanāñcitābja-gandha-kīrti-nindi-saurabhā\\nballaveśa-sūnu-sarva-vāñcitārtha-sādhikā\\nmahyam ātma-pāda-padma-dāsya-dāstu rādhikā | 1 |',\n",
       "  'synonyms': 'kuṅkuma = Saffron; ākta = anointed, ointment, tinged , smeared over;\\nkāñcana = golden; abja = lotus, born in water; gaura = blonde,fair, dignity, admiration, splendorous;\\nābhā = appearance, similar, splendor, glamour;\\npītana= saffron; añcita= worshipped; abja= lotus, born in water; saurabha = saffon, perfume,fragrance;\\nballaveśa = krishna,  ballava(cowherd)+ veṣa( dress); sūnu = son, offspring ; sarva = whole, entire, all, every;\\nvāñcita= wished,tricked, desire, beloved ; artha = object of desire; vāñcitārtha = one who full will all the desire',\n",
       "  'translation': 'Her splendrous golden complexion steals the pride of a golden lotus flower anointed with a tinge of red kunkum powder.\\nHer sweet fragrance mocks the fame of the aroma of a lotus flower sprinkled with saffron powder.\\nShe is fully qualified to fulfill all the desires of the son of the king of cowherd men.\\nMay Sri Radhika always bestow upon me the service of Her own lotus feet. | 1 |',\n",
       "  'purpot': None},\n",
       " {'song_idx': 4,\n",
       "  'slokas_no': 2,\n",
       "  'sloka_hindi': None,\n",
       "  'sloka_eng': 'kauravinda-kānti-nindi-citra-paṭṭa-śāṭikā\\nkṛṣṇa-matta-bhṛṅga-keli-phulla-puṣpa-vāṭikā\\nkṛṣṇa-nitya-saṅgamārtha-padma-bandhu-rādhikā\\nmahyam ātma-pāda-padma-dāsya-dāstu rādhikā | 2 |',\n",
       "  'synonyms': None,\n",
       "  'translation': 'Her amazing and colorful silken garments make the splendour of coral feel ashamed.\\nShe is a garden of blossoming flowers where the maddened bumblebee named Krishna performs amorous pastimes.\\nShe worships the Sun-god daily in order to attain the continual association of Her beloved Krishna.\\nMay Sri Radhika always bestow upon me the service of Her own lotus feet. | 2 |',\n",
       "  'purpot': None},\n",
       " {'song_idx': 4,\n",
       "  'slokas_no': 3,\n",
       "  'sloka_hindi': None,\n",
       "  'sloka_eng': 'saukumārya-sṛṣṭa-pallavāli-kīrti-nigrahā\\ncandra-candanotpalendu-sevya-śīta-vigrahā\\nsvābhimarśa-ballavīśa-kāma-tāpa-bādhikā\\nmahyam ātma-pāda-padma-dāsya-dāstu rādhikā | 3 |',\n",
       "  'synonyms': None,\n",
       "  'translation': 'Her charming youthful delicacy negates the fame of freshly-sprouted leaves.\\nHer refreshing form is worthy of being served by the cooling moon, sandalwood paste, lotus flowers, and camphor.\\nWhen She touches the master of the gopis, She dispels the burning heat of His lusty desires.\\nMay Sri Radhika always bestow upon me the service of Her own lotus feet. | 3 |',\n",
       "  'purpot': None},\n",
       " {'song_idx': 4,\n",
       "  'slokas_no': 4,\n",
       "  'sloka_hindi': None,\n",
       "  'sloka_eng': 'viśva-vandya-yauvatābhivanditāpi yā ramā\\nrūpa-navya-yauvanādi-saṁpadā na yat-samā\\nśīla-hārda-līlayā ca sā yato ‘sti nādhikā\\nmahyam ātma-pāda-padma-dāsya-dāstu rādhikā | 4 |',\n",
       "  'synonyms': None,\n",
       "  'translation': 'Although the goddess of fortune Lakshmi Devi is adored by other youthful goddesses, who are themselves glorified throughout all the universe,\\nstill she is nowhere near Sri Radhika in the matter of beauty, praiseworthy youthfulness, or other divine feminine opulences.\\nThere is no one in the material or spiritual worlds superior to Radhika in the expression of naturally loving pastimes.\\nMay Sri Radhika always bestow upon me the service of Her own lotus feet. | 4 |',\n",
       "  'purpot': None},\n",
       " {'song_idx': 4,\n",
       "  'slokas_no': 5,\n",
       "  'sloka_hindi': None,\n",
       "  'sloka_eng': 'rāsa-lāsya-gīta-narma-sat-kalāli-paṇḍitā\\nprema-ramya-rūpa-veśa-sad-guṇāli-maṇḍitā\\nviśva-navya-gopa-yoṣid-ālito ‘pi yādhikā\\nmahyam ātma-pāda-padma-dāsya-dāstu rādhikā | 5 |',\n",
       "  'synonyms': None,\n",
       "  'translation': 'She is very learned in many transcendental arts, such as performing in the rasa dance, singing, and joking.\\nShe is decorated with many divine qualities, such as loving nature, exquisite beauty, and wonderful garments and ornaments.\\nEven among the cowherd damsels of Vraja, who are praised by the entire universe, She is the best in every way.\\nMay Sri Radhika always bestow upon me the service of Her own lotus feet. | 5 |',\n",
       "  'purpot': None},\n",
       " {'song_idx': 4,\n",
       "  'slokas_no': 6,\n",
       "  'sloka_hindi': None,\n",
       "  'sloka_eng': 'nitya-navya-rūpa-keli-kṛṣṇa-bhāva-sampadā\\nkṛṣṇa-rāga-bandha-gopa-yauvateṣu kampadā\\nkṛṣṇa-rūpa-veśa-keli-lagna-sat-samādhikā\\nmahyam ātma-pāda-padma-dāsya-dāstu rādhikā | 6 |',\n",
       "  'synonyms': None,\n",
       "  'translation': \"She possesses the opulence's of eternal youthful beauty, eternal pastimes, and eternal love for Krishna.\\nHer ecstatic feelings of love for Krishna cause the gopis, who are also in love with Krishna, to tremble.\\nShe is always attached to meditating on Sri Krishna's beautiful form, ornaments, garments, and pastimes.\\nMay Sri Radhika always bestow upon me the service of Her own lotus feet. | 6 |\",\n",
       "  'purpot': None},\n",
       " {'song_idx': 4,\n",
       "  'slokas_no': 7,\n",
       "  'sloka_hindi': None,\n",
       "  'sloka_eng': 'sveda-kampa-kaṇṭakāśru-gadgadādi-sañcitā\\nmarṣa-harṣa-vāmatādi-bhāva-bhuṣaṇāñcitā \\nkṛṣṇa-netra-toṣi-ratna-maṇḍanāli-dādhikā\\nmahyam ātma-pāda-padma-dāsya-dāstu rādhikā | 7 |',\n",
       "  'synonyms': None,\n",
       "  'translation': 'She is graced with eight ecstatic symptoms (sattvika-bhava), such as trembling, perspiring, standing up on bodily hairs, tears, faltering of the voice, and so forth.\\nShe is adorned with different ecstatic emotional ornaments, such as impatience, joy, contrariness, and so forth.\\nShe is decorated with beautiful jewels that give total delight to the eyes of Krishna.\\nMay Sri Radhika always bestow upon me the service of Her own lotus feet. | 7 |',\n",
       "  'purpot': None},\n",
       " {'song_idx': 4,\n",
       "  'slokas_no': 8,\n",
       "  'sloka_hindi': None,\n",
       "  'sloka_eng': 'yā kṣaṇārdha-kṛṣṇa-viprayoga-santatoditāneka-\\ndainya-cāpalādi-bhāva-vṛnda-toditā \\nyatna-labdha-kṛṣṇa-saṅga-nirgatākhilādhikā\\nmahyam ātma-pāda-padma-dāsya-dāstu rādhikā | 8 |',\n",
       "  'synonyms': None,\n",
       "  'translation': 'If She is apart from Krsna, for even half a moment, She becomes stricken with wretched suffering, restlessness, and a multitude of other ecstatic symptoms of separation.\\nWhen She regains the association of Krishna after some effort, then all Her anguish immediately vanishes.\\nMay Sri Radhika always bestow upon me the service of Her own lotus feet. | 8 |',\n",
       "  'purpot': None},\n",
       " {'song_idx': 4,\n",
       "  'slokas_no': 9,\n",
       "  'sloka_hindi': None,\n",
       "  'sloka_eng': 'aṣṭakena yas tv anena nauti kṛṣṇa-vallabhāḿ\\ndarśane ‘pi śailajādi-yoṣidāli-durlabhām\\nkṛṣṇa-sańga-nanditātma-dāsya-sīdhu-bhājanaḿ\\ntaḿ karoti nanditāli-sañcayāśu sā janam | 9 |',\n",
       "  'synonyms': None,\n",
       "  'translation': 'It is very difficult for Parvati and other exalted goddesses to attain even a glimpse of Srimati Radharani, who is dear to Lord Krsna.\\nBut if someone glorifies Her by reciting these eight verses, then She who is delighted by Krsnas continuous association will grant the sweet nectar of Her personal service to that person, who thereby enters the assembly of Her similarly delighted girlfriends.| 9 |',\n",
       "  'purpot': None},\n",
       " {'song_idx': 2,\n",
       "  'slokas_no': 1,\n",
       "  'sloka_hindi': None,\n",
       "  'sloka_eng': 'kuṅkumākta-kāñcanābja-garva-hāri-gaurabhā\\npītanāñcitābja-gandha-kīrti-nindi-saurabhā\\nballaveśa-sūnu-sarva-vāñcitārtha-sādhikā\\nmahyam ātma-pāda-padma-dāsya-dāstu rādhikā',\n",
       "  'synonyms': 'kuṅkuma = Saffron; ākta = anointed, ointment, tinged , smeared over;kāñcana = golden; abja = lotus, born in water; gaura = blonde,fair, dignity, admiration, splendorous;ābhā = appearance, similar, splendor, glamour;pītana= saffron; añcita= worshipped; abja= lotus, born in water; saurabha = saffon, perfume,fragrance;ballaveśa = krishna,  ballava(cowherd)+ veṣa( dress); sūnu = son, offspring ; sarva = whole, entire, all, every;vāñcita= wished,tricked, desire, beloved ; artha = object of desire; vāñcitārtha = one who full will all the desire',\n",
       "  'translation': 'Her splendrous golden complexion steals the pride of a golden lotus flower anointed with a tinge of red kunkum powder.\\nHer sweet fragrance mocks the fame of the aroma of a lotus flower sprinkled with saffron powder.\\nShe is fully qualified to fulfill all the desires of the son of the king of cowherd men.\\nMay Sri Radhika always bestow upon me the service of Her own lotus feet',\n",
       "  'purpot': None}]"
      ]
     },
     "execution_count": 9,
     "metadata": {},
     "output_type": "execute_result"
    }
   ],
   "source": [
    "mySongs.read_entry()"
   ]
  },
  {
   "cell_type": "code",
   "execution_count": 12,
   "id": "7613bcc9-8d6d-4076-9205-1c4400773b82",
   "metadata": {},
   "outputs": [
    {
     "name": "stdout",
     "output_type": "stream",
     "text": [
      "get_read_query: SELECT * FROM Songs WHERE  song_idx=2 and  slokas_no=1;\n",
      "SELECT * FROM Songs WHERE  song_idx=2 and  slokas_no=1;\n",
      "[{'song_idx': 2, 'slokas_no': 1, 'sloka_hindi': None, 'sloka_eng': 'kuṅkumākta-kāñcanābja-garva-hāri-gaurabhā\\npītanāñcitābja-gandha-kīrti-nindi-saurabhā\\nballaveśa-sūnu-sarva-vāñcitārtha-sādhikā\\nmahyam ātma-pāda-padma-dāsya-dāstu rādhikā', 'synonyms': 'kuṅkuma = Saffron; ākta = anointed, ointment, tinged , smeared over;kāñcana = golden; abja = lotus, born in water; gaura = blonde,fair, dignity, admiration, splendorous;ābhā = appearance, similar, splendor, glamour;pītana= saffron; añcita= worshipped; abja= lotus, born in water; saurabha = saffon, perfume,fragrance;ballaveśa = krishna,  ballava(cowherd)+ veṣa( dress); sūnu = son, offspring ; sarva = whole, entire, all, every;vāñcita= wished,tricked, desire, beloved ; artha = object of desire; vāñcitārtha = one who full will all the desire', 'translation': 'Her splendrous golden complexion steals the pride of a golden lotus flower anointed with a tinge of red kunkum powder.\\nHer sweet fragrance mocks the fame of the aroma of a lotus flower sprinkled with saffron powder.\\nShe is fully qualified to fulfill all the desires of the son of the king of cowherd men.\\nMay Sri Radhika always bestow upon me the service of Her own lotus feet', 'purpot': None}]\n"
     ]
    }
   ],
   "source": [
    "temp_json =mySongs.read_entry(song_idx=2, slokas_no=1)\n"
   ]
  },
  {
   "cell_type": "code",
   "execution_count": 22,
   "id": "0806879c-c28e-4c98-a398-3b1e8610e603",
   "metadata": {},
   "outputs": [
    {
     "name": "stdout",
     "output_type": "stream",
     "text": [
      "['kuṅkumākta-kāñcanābja-garva-hāri-gaurabhā', 'pītanāñcitābja-gandha-kīrti-nindi-saurabhā', 'ballaveśa-sūnu-sarva-vāñcitārtha-sādhikā', 'mahyam ātma-pāda-padma-dāsya-dāstu rādhikā']\n",
      "['kuṅkuma = Saffron', 'ākta = anointed, ointment, tinged , smeared over;kāñcana = golden', 'abja = lotus, born in water', 'gaura = blonde,fair, dignity, admiration, splendorous;ābhā = appearance, similar, splendor, glamour;pītana= saffron', 'añcita= worshipped', 'abja= lotus, born in water', 'saurabha = saffon, perfume,fragrance;ballaveśa = krishna,  ballava(cowherd)+ veṣa( dress)', 'sūnu = son, offspring ', 'sarva = whole, entire, all, every;vāñcita= wished,tricked, desire, beloved ', 'artha = object of desire', 'vāñcitārtha = one who full will all the desire']\n",
      "['Her splendrous golden complexion steals the pride of a golden lotus flower anointed with a tinge of red kunkum powder.', 'Her sweet fragrance mocks the fame of the aroma of a lotus flower sprinkled with saffron powder.', 'She is fully qualified to fulfill all the desires of the son of the king of cowherd men.', 'May Sri Radhika always bestow upon me the service of Her own lotus feet']\n"
     ]
    }
   ],
   "source": [
    "# type(temp_json[0]['sloka_eng'])\n",
    "print(temp_json[0]['sloka_eng'].split('\\n'))\n",
    "print(temp_json[0]['synonyms'].split('; '))\n",
    "print(temp_json[0]['translation'].split('\\n'))"
   ]
  },
  {
   "cell_type": "code",
   "execution_count": 21,
   "id": "db04185a-57c2-42a4-8844-6afd99e9618c",
   "metadata": {},
   "outputs": [
    {
     "name": "stdout",
     "output_type": "stream",
     "text": [
      "UPDATE temp SET  sloka_hindi='test' WHERE  song_idx=2 and  slokas_no=1\n",
      "(1, 1, None, 'kuṅkumākta-kāñcanābja-garva-hāri-gaurabhā\\npītanāñcitābja-gandha-kīrti-nindi-saurabhā\\nballaveśa-sūnu-sarva-vāñcitārtha-sādhikā\\nmahyam ātma-pāda-padma-dāsya-dāstu rādhikā', 'kuṅkuma = Saffron; ākta = anointed, ointment, tinged , smeared over;kāñcana = golden; abja = lotus, born in water; gaura = blonde,fair, dignity, admiration, splendorous;ābhā = appearance, similar, splendor, glamour;pītana= saffron; añcita= worshipped; abja= lotus, born in water; saurabha = saffon, perfume,fragrance;ballaveśa = krishna,  ballava(cowherd)+ veṣa( dress); sūnu = son, offspring ; sarva = whole, entire, all, every;vāñcita= wished,tricked, desire, beloved ; artha = object of desire; vāñcitārtha = one who full will all the desire', 'Her splendrous golden complexion steals the pride of a golden lotus flower anointed with a tinge of red kunkum powder.\\nHer sweet fragrance mocks the fame of the aroma of a lotus flower sprinkled with saffron powder.\\nShe is fully qualified to fulfill all the desires of the son of the king of cowherd men.\\nMay Sri Radhika always bestow upon me the service of Her own lotus feet', None)\n",
      "(2, 1, 'test', 'kuṅkumākta-kāñcanābja-garva-hāri-gaurabhā\\npītanāñcitābja-gandha-kīrti-nindi-saurabhā\\nballaveśa-sūnu-sarva-vāñcitārtha-sādhikā\\nmahyam ātma-pāda-padma-dāsya-dāstu rādhikā', 'kuṅkuma = Saffron; ākta = anointed, ointment, tinged , smeared over;kāñcana = golden; abja = lotus, born in water; gaura = blonde,fair, dignity, admiration, splendorous;ābhā = appearance, similar, splendor, glamour;pītana= saffron; añcita= worshipped; abja= lotus, born in water; saurabha = saffon, perfume,fragrance;ballaveśa = krishna,  ballava(cowherd)+ veṣa( dress); sūnu = son, offspring ; sarva = whole, entire, all, every;vāñcita= wished,tricked, desire, beloved ; artha = object of desire; vāñcitārtha = one who full will all the desire', 'Her splendrous golden complexion steals the pride of a golden lotus flower anointed with a tinge of red kunkum powder.\\nHer sweet fragrance mocks the fame of the aroma of a lotus flower sprinkled with saffron powder.\\nShe is fully qualified to fulfill all the desires of the son of the king of cowherd men.\\nMay Sri Radhika always bestow upon me the service of Her own lotus feet', None)\n"
     ]
    }
   ],
   "source": [
    "mySongs.update_entry( *['song_idx','slokas_no'],sloka_hindi='test', song_idx=2, slokas_no=1)\n",
    "mySongs.read_entry()"
   ]
  },
  {
   "cell_type": "code",
   "execution_count": 22,
   "id": "0569e26a-fb40-411c-b077-4edc1d58ea28",
   "metadata": {},
   "outputs": [
    {
     "name": "stdout",
     "output_type": "stream",
     "text": [
      "DELETE FROM temp WHERE song_idx=2 and slokas_no=1;\n",
      "(1, 1, None, 'kuṅkumākta-kāñcanābja-garva-hāri-gaurabhā\\npītanāñcitābja-gandha-kīrti-nindi-saurabhā\\nballaveśa-sūnu-sarva-vāñcitārtha-sādhikā\\nmahyam ātma-pāda-padma-dāsya-dāstu rādhikā', 'kuṅkuma = Saffron; ākta = anointed, ointment, tinged , smeared over;kāñcana = golden; abja = lotus, born in water; gaura = blonde,fair, dignity, admiration, splendorous;ābhā = appearance, similar, splendor, glamour;pītana= saffron; añcita= worshipped; abja= lotus, born in water; saurabha = saffon, perfume,fragrance;ballaveśa = krishna,  ballava(cowherd)+ veṣa( dress); sūnu = son, offspring ; sarva = whole, entire, all, every;vāñcita= wished,tricked, desire, beloved ; artha = object of desire; vāñcitārtha = one who full will all the desire', 'Her splendrous golden complexion steals the pride of a golden lotus flower anointed with a tinge of red kunkum powder.\\nHer sweet fragrance mocks the fame of the aroma of a lotus flower sprinkled with saffron powder.\\nShe is fully qualified to fulfill all the desires of the son of the king of cowherd men.\\nMay Sri Radhika always bestow upon me the service of Her own lotus feet', None)\n"
     ]
    }
   ],
   "source": [
    "mySongs.delete_entry(song_idx=2, slokas_no=1)\n",
    "mySongs.read_entry()"
   ]
  },
  {
   "cell_type": "code",
   "execution_count": 24,
   "id": "cbf2cd90-157a-4ce5-84e0-3c3731abdd75",
   "metadata": {},
   "outputs": [
    {
     "name": "stdout",
     "output_type": "stream",
     "text": [
      "song_idx, slokas_no, sloka_eng\n",
      "(1, 1, 'kuṅkumākta-kāñcanābja-garva-hāri-gaurabhā\\npītanāñcitābja-gandha-kīrti-nindi-saurabhā\\nballaveśa-sūnu-sarva-vāñcitārtha-sādhikā\\nmahyam ātma-pāda-padma-dāsya-dāstu rādhikā')\n"
     ]
    }
   ],
   "source": [
    "mySongs.read_entry(*['song_idx', 'slokas_no', 'sloka_eng' ])"
   ]
  },
  {
   "cell_type": "code",
   "execution_count": null,
   "id": "5d1b9a6b-f0e6-4aef-994e-c19cc9336fb4",
   "metadata": {},
   "outputs": [],
   "source": []
  }
 ],
 "metadata": {
  "kernelspec": {
   "display_name": "Python 3 (ipykernel)",
   "language": "python",
   "name": "python3"
  },
  "language_info": {
   "codemirror_mode": {
    "name": "ipython",
    "version": 3
   },
   "file_extension": ".py",
   "mimetype": "text/x-python",
   "name": "python",
   "nbconvert_exporter": "python",
   "pygments_lexer": "ipython3",
   "version": "3.11.5"
  }
 },
 "nbformat": 4,
 "nbformat_minor": 5
}
