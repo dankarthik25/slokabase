{
 "cells": [
  {
   "cell_type": "markdown",
   "id": "2a6220db-7812-432c-8a6e-f29c6f409def",
   "metadata": {},
   "source": [
    "# `NOTE`:\n",
    "the translate and synonym part  make sure that it don't contain any quotation `\"` and `'` \\\n",
    "if present the code will break the during execution\n",
    "\n",
    "`Temp Solution:` Manually edit changes with sqlite browser app    "
   ]
  },
  {
   "cell_type": "code",
   "execution_count": 1,
   "id": "5d3b7581-4aa0-4e75-97f4-44f5a34c4d82",
   "metadata": {},
   "outputs": [],
   "source": [
    "from slokabase.SqliteModel import get_create_table_query, get_insert_query, get_read_query, get_update_query, get_delete_query\n",
    "from slokabase.SqliteModel import SqliteModel"
   ]
  },
  {
   "cell_type": "code",
   "execution_count": 2,
   "id": "c902d12c-5efc-4b40-b239-76119d034036",
   "metadata": {},
   "outputs": [],
   "source": [
    "import os, sqlite3 \n",
    "# db_name = 'slokabase_10.db'\n",
    "db_name = 'slokabase.db'\n",
    "db_path = os.path.join(os.getcwd(),db_name)"
   ]
  },
  {
   "cell_type": "code",
   "execution_count": 3,
   "id": "f29714d7-f3be-4450-ac52-3887f475d700",
   "metadata": {},
   "outputs": [],
   "source": [
    "SongIndex_sql = SqliteModel(db_path,'SongIndex')\n",
    "mySongs_sql = SqliteModel(db_path,'Songs')"
   ]
  },
  {
   "cell_type": "code",
   "execution_count": 4,
   "id": "38b8eb8e-de0b-4286-828c-aff08031510e",
   "metadata": {},
   "outputs": [
    {
     "name": "stdout",
     "output_type": "stream",
     "text": [
      "Table : SongIndex Created Successful !\n",
      "Table : Songs Created Successful !\n"
     ]
    }
   ],
   "source": [
    "# Create Table if Not Created \n",
    "\n",
    "SongIndex_sql.create_table(\n",
    "                    song_idx='INTEGER PRIMARY KEY' , \n",
    "                    song_name='VARCHAR(100) NOT NULL UNIQUE', \n",
    "                    song_short_name='VARCHAR(100) NOT NULL UNIQUE', \n",
    "                    sloka_statues='BOOLEAN NOT NULL CHECK (sloka_statues IN (0, 1))',\n",
    "                    division='VARCHAR(100)',\n",
    "                    division_no='INTEGER',\n",
    "                    total_slokas='INTEGER',\n",
    "                    groups='VARCHAR(100)',\n",
    "                    devotion_god='VARCHAR(100)',\n",
    "                    author='VARCHAR(100)',\n",
    "                    describtion='TEXT',\n",
    "                    other_links='TEXT'\n",
    "                    )\n",
    "\n",
    "\n",
    "mySongs_sql.create_table(song_idx='INTEGER', \n",
    "                    slokas_no='INTEGER NOT NULL', \n",
    "                    sloka_hindi= 'TEXT',\n",
    "                    sloka_eng= 'TEXT',\n",
    "                    synonyms= 'TEXT',\n",
    "                    translation= 'TEXT',\n",
    "                    purpot= 'TEXT',\n",
    "                    FOREIGN = 'KEY (song_idx) REFERENCES SongIndex(song_idx)',\n",
    "                    PRIMARY= 'KEY (song_idx, slokas_no)')"
   ]
  },
  {
   "cell_type": "markdown",
   "id": "ad0aa6d0-aecc-441f-a8af-366f808e502e",
   "metadata": {},
   "source": [
    "## Add Song Info to Database"
   ]
  },
  {
   "cell_type": "code",
   "execution_count": 5,
   "id": "183bc37b-d4ec-406f-927c-8c85b466e03b",
   "metadata": {},
   "outputs": [
    {
     "data": {
      "text/plain": [
       "{'song_name': 'oṁ saha nāvavatu',\n",
       " 'song_short_name': 'OṁSahaNāvavatu',\n",
       " 'sloka_statues': 1,\n",
       " 'division_no': 0}"
      ]
     },
     "execution_count": 5,
     "metadata": {},
     "output_type": "execute_result"
    }
   ],
   "source": [
    "songIdx_info = dict()\n",
    "songIdx_info['song_name'] = 'oṁ saha nāvavatu'\n",
    "songIdx_info['song_short_name'] = 'OṁSahaNāvavatu'\n",
    "songIdx_info['sloka_statues'] = 1\n",
    "songIdx_info['division_no'] = 0\n",
    "\n",
    "# songIdx_info['total_slokas']\n",
    "# songIdx_info['groups']\n",
    "# songIdx_info['devotion_god']\n",
    "# songIdx_info['author']= 'Jayadeva Goswami' \n",
    "# songIdx_info['describtion']= 'some' \n",
    "# songIdx_info['other_links '] = \"\"\"http://kksongs.org/songs/p/pralayapayodhijale.html <br>\n",
    "# http://kksongs.org/synonym/p/pralayapayodhijale.html\"\"\"\n",
    "\n",
    "# songIdx_info = dict()\n",
    "# songIdx_info['song_name'] = 'Sri Dasavatara Stotram'\n",
    "# songIdx_info['song_short_name'] = 'SDasaVatStot'\n",
    "# songIdx_info['sloka_statues'] = 1\n",
    "# songIdx_info['division_no'] = 0\n",
    "# # songIdx_info['total_slokas']\n",
    "# # songIdx_info['groups']\n",
    "# # songIdx_info['devotion_god']\n",
    "# songIdx_info['author']= 'Jayadeva Goswami' \n",
    "# songIdx_info['describtion']= 'some' \n",
    "# songIdx_info['other_links '] = \"\"\"http://kksongs.org/songs/p/pralayapayodhijale.html <br>\n",
    "# http://kksongs.org/synonym/p/pralayapayodhijale.html\"\"\"\n",
    "\n",
    "songIdx_info"
   ]
  },
  {
   "cell_type": "code",
   "execution_count": 6,
   "id": "2e37e0af-526b-4e37-be47-55574b2728df",
   "metadata": {},
   "outputs": [
    {
     "data": {
      "text/plain": [
       "5"
      ]
     },
     "execution_count": 6,
     "metadata": {},
     "output_type": "execute_result"
    }
   ],
   "source": [
    "# Create a new Entry(Insert) in SongIndex Table\n",
    "SongIndex_sql.create_entry(**songIdx_info)\n",
    "\n",
    "# Get the Newly Created Song Index\n",
    "SongIndex_sql.read_entry(*['song_idx'], **songIdx_info)[0]['song_idx'] # >>> 5"
   ]
  },
  {
   "cell_type": "markdown",
   "id": "b471178b-9cf4-4188-94e2-88b4a65e565c",
   "metadata": {},
   "source": [
    "# Load song(lang=devnagir_english), synonyms, translation"
   ]
  },
  {
   "cell_type": "code",
   "execution_count": 7,
   "id": "0d470d13-3bed-4a44-9deb-bd4fce0c0a98",
   "metadata": {},
   "outputs": [],
   "source": [
    "with open ('temp_sloka.txt','r') as f:\n",
    "   f_contents = f.read()              # read entire file\n",
    "list_of_song_verse = f_contents.split('\\n\\n')\n",
    "\n",
    "\n",
    "with open ('temp_translation.txt','r') as f:\n",
    "   f_contents = f.read()              # read entire file\n",
    "list_of_song_translate = f_contents.split('\\n\\n')\n",
    "\n",
    "with open ('temp_synonym.txt','r') as f:\n",
    "   f_contents = f.read()              # read entire file\n",
    "list_of_song_synonym = f_contents.split('\\n\\n') \n",
    "# list_of_song_synonym =f_contents.replace(\"–\",\"=\").split('\\n\\n')"
   ]
  },
  {
   "cell_type": "code",
   "execution_count": 9,
   "id": "0f29fb4b-08a3-40b0-8157-a2a014b1aef2",
   "metadata": {},
   "outputs": [
    {
     "data": {
      "text/plain": [
       "{'song_idx': 5,\n",
       " 'slokas_no': 1,\n",
       " 'sloka_eng': None,\n",
       " 'synonyms': None,\n",
       " 'translation': None}"
      ]
     },
     "execution_count": 9,
     "metadata": {},
     "output_type": "execute_result"
    }
   ],
   "source": [
    "mysong_info = dict()\n",
    "mysong_info ['song_idx'] = SongIndex_sql.read_entry(*['song_idx'], **songIdx_info)[0]['song_idx']\n",
    "mysong_info['slokas_no'] = 1\n",
    "# mysong_info['sloka_hindi'] =  None\n",
    "mysong_info['sloka_eng'] = None\n",
    "mysong_info['synonyms'] = None\n",
    "mysong_info['translation'] = None\n",
    "# mysong_info['purpot']=None\n",
    "\n",
    "mysong_info"
   ]
  },
  {
   "cell_type": "markdown",
   "id": "27d53b30-aa6f-455a-a9d0-78cce80e9273",
   "metadata": {},
   "source": [
    "##  Add All Sloka,Synonyms & Translation to db"
   ]
  },
  {
   "cell_type": "code",
   "execution_count": 10,
   "id": "1d2a570f-98eb-4b68-ae9c-e75aebd5ffc5",
   "metadata": {},
   "outputs": [
    {
     "name": "stdout",
     "output_type": "stream",
     "text": [
      "0\n"
     ]
    }
   ],
   "source": [
    "if len(list_of_song_verse) == len(list_of_song_translate):\n",
    "    for i in range(0,len(list_of_song_verse)):\n",
    "        print(i)\n",
    "        mysong_info['slokas_no']   = i+1\n",
    "        mysong_info['sloka_eng']   = list_of_song_verse[i]\n",
    "        mysong_info['synonyms']    = list_of_song_synonym[i]        \n",
    "        mysong_info['translation'] = list_of_song_translate[i]\n",
    "        mySongs_sql.create_entry(**mysong_info)\n",
    "        # mySongs_sql.update_entry(**mysong_info)\n"
   ]
  },
  {
   "cell_type": "markdown",
   "id": "b45578e2-d4ad-4ddf-ab17-c6bfbf93d3ca",
   "metadata": {},
   "source": [
    "# Delete a Song\n",
    "\n",
    "Below code is not working due to cascade or Two table are linked to each other"
   ]
  },
  {
   "cell_type": "code",
   "execution_count": 10,
   "id": "fb383314-eaa0-419c-ac13-4ebc7a5f5f2f",
   "metadata": {},
   "outputs": [
    {
     "name": "stdout",
     "output_type": "stream",
     "text": [
      "DELETE FROM Songs WHERE song_idx=1;\n",
      "Exception: database is locked\n"
     ]
    }
   ],
   "source": [
    "# SongIndex_sql = SqliteModel(db_path,'SongIndex')\n",
    "# mySongs_sql = SqliteModel(db_path,'Songs')\n",
    "\n",
    "# get seleted index \n",
    "mysong_index =SongIndex_sql.read_entry(*['song_idx'], **songIdx_info)[0]['song_idx']\n",
    "\n",
    "mySongs_sql.delete_entry(song_idx=mysong_index)"
   ]
  }
 ],
 "metadata": {
  "kernelspec": {
   "display_name": "Python 3 (ipykernel)",
   "language": "python",
   "name": "python3"
  },
  "language_info": {
   "codemirror_mode": {
    "name": "ipython",
    "version": 3
   },
   "file_extension": ".py",
   "mimetype": "text/x-python",
   "name": "python",
   "nbconvert_exporter": "python",
   "pygments_lexer": "ipython3",
   "version": "3.11.5"
  }
 },
 "nbformat": 4,
 "nbformat_minor": 5
}
