{
 "cells": [
  {
   "cell_type": "code",
   "execution_count": 2,
   "id": "42d8786b",
   "metadata": {},
   "outputs": [],
   "source": [
    "from bs4 import BeautifulSoup\n",
    "import requests"
   ]
  },
  {
   "cell_type": "code",
   "execution_count": 198,
   "id": "b7cafb98",
   "metadata": {},
   "outputs": [],
   "source": [
    "url ='https://www.sanskritarchives.in/lib/85'"
   ]
  },
  {
   "cell_type": "code",
   "execution_count": 199,
   "id": "96d579e5",
   "metadata": {},
   "outputs": [],
   "source": [
    "source = requests.get(url).text\n",
    "soup = BeautifulSoup(source)\n",
    "\n"
   ]
  },
  {
   "cell_type": "code",
   "execution_count": 201,
   "id": "819842ef",
   "metadata": {},
   "outputs": [
    {
     "name": "stdout",
     "output_type": "stream",
     "text": [
      "Totakashtakam-Full\n"
     ]
    },
    {
     "data": {
      "text/plain": [
       "'Totakashtakam-Full'"
      ]
     },
     "execution_count": 201,
     "metadata": {},
     "output_type": "execute_result"
    }
   ],
   "source": [
    "Song_Name = soup.find_all(\"h1\", {\"class\": 'sloka-title'})[0].text.strip()\n",
    "print(Song_Name)\n",
    "Short_name = Song_Name.replace(' ','')\n",
    "Short_name"
   ]
  },
  {
   "cell_type": "code",
   "execution_count": 202,
   "id": "74b737f5",
   "metadata": {},
   "outputs": [],
   "source": [
    "\n",
    "sloka_verser_eng=''\n",
    "# soup.find_all(\"p\", {\"class\": 'sloka-verser-eng'})[0].i.text.replace(\"  \",\"\").strip().replace('\\n\\n','\\n')+'\\n\\n'\n",
    "for song_eng in soup.find_all(\"p\", {\"class\": 'sloka-verser-eng'}):\n",
    "    verse=song_eng.i.text.strip().replace(\"  \",\"\").strip().replace('\\n\\n','\\n')\n",
    "    sloka_verser_eng +=verse+'\\n\\n'\n",
    "\n",
    "sloka_verser_eng = sloka_verser_eng.strip()\n",
    "\n",
    "with open('temp_sloka.txt', 'w') as f:\n",
    "    f.write(sloka_verser_eng)\n",
    "    \n",
    "# sloka_verser_eng "
   ]
  },
  {
   "cell_type": "code",
   "execution_count": 203,
   "id": "bc487b8b",
   "metadata": {},
   "outputs": [],
   "source": [
    "synonyms_all = soup.find_all(\"h1\", {\"class\": 'sloka-header'})\n",
    "synonym_eng=''\n",
    "for each_sloka in synonyms_all:\n",
    "    verse_all = each_sloka.parent.find_all('div') \n",
    "    for verse in verse_all :\n",
    "        temp = verse.text.replace('  ','').replace('\\n\\n','').strip()  # ['style'] = \"color: red;\"\n",
    "        synonym_eng +=temp +'\\n'\n",
    "#         print(temp)\n",
    "#     print()\n",
    "    synonym_eng +='\\n'\n",
    "\n",
    "synonym_eng =synonym_eng.replace('\\n\\n\\n','\\n\\n').replace(\":\",\"=\").strip()\n",
    "\n",
    "with open('temp_synonym.txt', 'w') as f:\n",
    "    f.write(synonym_eng)\n"
   ]
  },
  {
   "cell_type": "code",
   "execution_count": 204,
   "id": "a2fe919f",
   "metadata": {},
   "outputs": [],
   "source": [
    "# soup.find_all(\"p\", {\"class\": 'translation-text'})[0].text.replace('  ','').replace('\\n\\n','\\n').strip()\n",
    "translate_all = soup.find_all(\"p\", {\"class\": 'translation-text'})\n",
    "translate_txt=''\n",
    "for each_translate in translate_all:\n",
    "    each_tran_text = each_translate.text.replace('  ','').replace('\\n\\n','\\n').strip()\n",
    "    translate_txt += each_tran_text + '\\n\\n'\n",
    "translate_txt= translate_txt.strip()\n",
    "# temp_translation.txt      \n",
    "with open('temp_translation.txt', 'w') as f:\n",
    "    f.write(translate_txt)"
   ]
  },
  {
   "cell_type": "code",
   "execution_count": null,
   "id": "f4bed1c1",
   "metadata": {},
   "outputs": [],
   "source": []
  },
  {
   "cell_type": "code",
   "execution_count": null,
   "id": "bf40ce82",
   "metadata": {},
   "outputs": [],
   "source": []
  }
 ],
 "metadata": {
  "kernelspec": {
   "display_name": "Python 3 (ipykernel)",
   "language": "python",
   "name": "python3"
  },
  "language_info": {
   "codemirror_mode": {
    "name": "ipython",
    "version": 3
   },
   "file_extension": ".py",
   "mimetype": "text/x-python",
   "name": "python",
   "nbconvert_exporter": "python",
   "pygments_lexer": "ipython3",
   "version": "3.11.5"
  }
 },
 "nbformat": 4,
 "nbformat_minor": 5
}
