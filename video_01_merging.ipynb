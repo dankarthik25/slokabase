{
 "cells": [
  {
   "cell_type": "markdown",
   "id": "ec99f487-2ba1-47b9-a87c-869ba71002b1",
   "metadata": {},
   "source": [
    "#### Aim: Add Sub Title `subtitle_img` image and make video-frame  `frame_img` opace to 0.1\n",
    "You have a video and audio file and you <br>\n",
    "- convert video to image folder (video-editing720) <br>\n",
    "```sh    \n",
    "fmpeg -i <video-input.mp4> %04d.png        # Video to images Create frames from video : \n",
    "```\n",
    "- want to add the sub-title image (subtitle_frame, frame_img) and  \n",
    "- reduce the opacity of video frame \n",
    "```python\n",
    "weightedSum = cv2.addWeighted(frame_img, 0.1, resize_img2, 0.9, 0)\n",
    "```\n",
    "- generate new frame in `dir-name` with merging sub image and frame with opacity \n",
    "- convert image to video\n",
    " ```sh\n",
    "ffmpeg -i %04d.png -c:v libx264 -r 25 -s 1280x720 -pix_fmt yuv420p output.mp4 \n",
    "ffmpeg -i <dir-name>/%04d.png -c:v libx264 -r 25 -s 1280x720 -pix_fmt yuv420p output.mp4 \n",
    " ```\n",
    "- in blender add audio and video "
   ]
  },
  {
   "cell_type": "markdown",
   "id": "278857b3-afe7-44d4-882a-8522e96894b1",
   "metadata": {},
   "source": [
    "#### ffmpeg notation \n",
    "```sh\n",
    "# Video info : \n",
    "fmpeg -i input.mp4 -f null\n",
    "# >>> Video: h264 (Main) (avc1 / 0x31637661), \n",
    "# >>> yuv420p(tv, bt709), 1280x720 [SAR 1:1 DAR 16:9], 559 kb/s, \n",
    "# >>> 25 fps, 25 tbr, 12800 tbn, 50 tbc (default)\n",
    "\n",
    "# Video to Images  \n",
    "ffmpeg -i input.mp4 <dir-name>/%04d.png  \n",
    "ffmpeg -i <video-input.mp4> video-editing720p/%04d.png   \n",
    "# This will generate frame images in child dir `video-editing720p` \n",
    "\n",
    "# Image to video \n",
    "ffmpeg -framerate 25 -i <dir-name>/04%d.jpg -c:v libx264 -r 30 output.mp4\n",
    " -framerate : input frame rate : default framerate=25\n",
    " - i input file \n",
    " - r frame rate output\n",
    " - pix_fmt :yuv420p(formate)\n",
    " - s 1280x720  (720p ) \n",
    "```\n"
   ]
  },
  {
   "cell_type": "code",
   "execution_count": 4,
   "id": "cc73aea5-5d6c-4331-b7bf-0bd929e75118",
   "metadata": {},
   "outputs": [],
   "source": [
    "import cv2 \n",
    "import os    "
   ]
  },
  {
   "cell_type": "code",
   "execution_count": 2,
   "id": "036b728a-4a4e-4cb7-b34a-b23423c978e6",
   "metadata": {},
   "outputs": [],
   "source": [
    "subtitle_frame = [\"Screenshots_2023-09-26T22-38-39.png\",\n",
    "\"Screenshots_2023-09-26T22-39-41.png\",\n",
    "\"Screenshots_2023-09-26T22-40-31.png\",\n",
    "\"Screenshots_2023-09-26T22-40-47.png\",\n",
    "\"Screenshots_2023-09-26T22-41-06.png\",\n",
    "\"Screenshots_2023-09-26T22-41-57.png\",\n",
    "\"Screenshots_2023-09-26T22-42-16.png\",\n",
    "\"Screenshots_2023-09-26T22-42-46.png\",\n",
    "\"Screenshots_2023-09-26T22-43-06.png\"]"
   ]
  },
  {
   "cell_type": "code",
   "execution_count": 3,
   "id": "f274bd70-50b0-4cbb-bde6-b4ad48495319",
   "metadata": {},
   "outputs": [],
   "source": [
    "subtitle_list= [0,1791,3524,5258,6992,8724,10455,12188,13922,15821]\n",
    "path = os.getcwd()                             # >>>  path '/media/karthik/myVolume/Spritual/Devotion/radhikashtakam'\n",
    "frame_path = os.path.join('video-editing720p') # >>> frame_path 'video-editing720p'\n",
    "frame_name_list = os.listdir(frame_path)       # >>> ['0001.png',  ... '15102.png']"
   ]
  },
  {
   "cell_type": "code",
   "execution_count": null,
   "id": "e602867f-1d34-490c-8ad9-9fb832edc73d",
   "metadata": {},
   "outputs": [],
   "source": [
    "for frame_idx in range(1791,3524):\n",
    "    frame_name = f'{frame_idx:04}.png'\n",
    "    for  idx, frame in enumerate(subtitle_list) :\n",
    "        if frame_idx > frame :\n",
    "            continue\n",
    "        else:\n",
    "            subtitle_idx = idx\n",
    "            break\n",
    "    print(f\"frame_idx='{frame_idx}' frame:{frame}, idx={idx}\" )\n",
    "    frame_img = cv2.imread(f'video-editing720p/{frame_name}') \n",
    "    # print('\\t Video Imgage size: ' , frame_img.shape)\n",
    "    print(frame_idx, idx)\n",
    "    subtitle_img = cv2.imread(f'radhikastam-imgs/{subtitle_frame[idx-1]}')\n",
    "\n",
    "    subtitle_rimg = cv2.resize(subtitle_img, ( frame_img.shape[1],frame_img.shape[0]))  \n",
    "    weightedSum = cv2.addWeighted(frame_img, 0.1, subtitle_rimg, 0.9, 0)\n",
    "    cv2.imwrite(f'recorded-video/{frame_name}', weightedSum)"
   ]
  },
  {
   "cell_type": "code",
   "execution_count": 5,
   "id": "1ce51fef-8d7c-48e3-ae75-054a7bb54ac3",
   "metadata": {},
   "outputs": [],
   "source": [
    "#>>> ffmpeg -i %04d.png -c:v libx264 -r 25 -s 1280x720 -pix_fmt yuv420p output.mp4 \n",
    "#>>> ffmpeg -i <dir-name>/%04d.png -c:v libx264 -r 25 -s 1280x720 -pix_fmt yuv420p output.mp4 "
   ]
  },
  {
   "cell_type": "code",
   "execution_count": null,
   "id": "f168d937-9145-454f-ac5b-732ce57fa66e",
   "metadata": {},
   "outputs": [],
   "source": []
  }
 ],
 "metadata": {
  "kernelspec": {
   "display_name": "Python 3 (ipykernel)",
   "language": "python",
   "name": "python3"
  },
  "language_info": {
   "codemirror_mode": {
    "name": "ipython",
    "version": 3
   },
   "file_extension": ".py",
   "mimetype": "text/x-python",
   "name": "python",
   "nbconvert_exporter": "python",
   "pygments_lexer": "ipython3",
   "version": "3.11.5"
  }
 },
 "nbformat": 4,
 "nbformat_minor": 5
}
