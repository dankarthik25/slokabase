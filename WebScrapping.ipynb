{
 "cells": [
  {
   "cell_type": "code",
   "execution_count": 1,
   "id": "1b68d148-1904-49f1-8f71-01d9d823cdc4",
   "metadata": {},
   "outputs": [],
   "source": [
    "from bs4 import BeautifulSoup\n",
    "import requests"
   ]
  },
  {
   "cell_type": "code",
   "execution_count": 6,
   "id": "e6f22c62-f032-4e4b-b710-fda3007d157a",
   "metadata": {},
   "outputs": [],
   "source": [
    "# url = 'http://kksongs.org/songs/k/kunkumaktakancanabja.html'\n",
    "url ='http://kksongs.org/songs/p/pralayapayodhijale.html'\n",
    "source = requests.get(url).text\n",
    "soup = BeautifulSoup(source)\n",
    "simple_text = soup.get_text()"
   ]
  },
  {
   "cell_type": "markdown",
   "id": "cf47fbdc-1aba-45a6-9653-b9cdfbfce17f",
   "metadata": {},
   "source": [
    " # `NOTE:` This code is not working \n",
    " as above url changes the LYRICS is again need to manually edit it is better to code for lyrics to string and give as input to function"
   ]
  },
  {
   "cell_type": "code",
   "execution_count": 7,
   "id": "f5b4efd2-f026-4066-a2cc-662f0f1d3bf8",
   "metadata": {},
   "outputs": [
    {
     "data": {
      "text/plain": [
       "'Jayadeva Goswami'"
      ]
     },
     "execution_count": 7,
     "metadata": {},
     "output_type": "execute_result"
    }
   ],
   "source": [
    "# soup.find_all('WordSection1;')\n",
    "def get_author(simple_text):\n",
    "    author = simple_text.split('\\nAuthor:\\n')[1].split('\\n')[0]\n",
    "    return author\n",
    "get_author(simple_text)    # >>> 'Jayadeva Goswami'"
   ]
  },
  {
   "cell_type": "code",
   "execution_count": 8,
   "id": "a42312f3-350c-4132-9a9a-e4b1b4605927",
   "metadata": {},
   "outputs": [
    {
     "data": {
      "text/plain": [
       "['\\npralaya-payodhi-jale\\ndhṛtavān asi vedaḿ\\nvihita-vahitra-caritram akhedam\\nkeśava dhṛta-mīna-śarīra jaya jagadīśa hare',\n",
       " '\\nkṣitir\\niha vipulatare tiṣṭhati tava pṛṣṭhe\\ndharaṇi-dhāraṇa-kiṇa-cakra-gariṣṭhe\\nkeśava dhṛta-kūrma-śarīra jaya jagadīśa\\nhare',\n",
       " '\\nvasati\\ndaśana-śikhare dharaṇī tava lagnā\\nśaśini kalańka-kaleva nimagnā\\nkeśava dhṛta-śūkara-rūpa jaya jagadīśa hare',\n",
       " '\\ntava\\nkara-kamala-vare nakham adbhuta-śṛńgaḿ\\ndalita-hiraṇyakaśipu-tanu-bhṛńgam\\nkeśava dhṛta-narahari-rūpa jaya jagadīśa hare',\n",
       " '\\nchalayasi\\nvikramaṇe balim adbhuta-vāmana\\npada-nakha-nīra-janita-jana-pāvana\\nkeśava dhṛta-vāmana-rūpa jaya jagadīśa hare',\n",
       " '\\nkṣatriya-rudhira-maye\\njagad-apagata-pāpam\\nsnapayasi payasi śamita-bhava-tāpam\\nkeśava dhṛta-bhṛgupati-rūpa jaya jagadiśa hare',\n",
       " '\\nvitarasi\\ndikṣu raṇe dik-pati-kamanīyaḿ\\ndaśa-mukha-mauli-balim ramaṇīyam\\nkeśava dhṛta-rāma-śarīra jaya jagadiśa hare',\n",
       " '\\nvahasi\\nvapuṣi viśade vasanaḿ jaladābhaḿ\\nhala-hati-bhīti-milita-yamunābham\\nkeśava dhṛta-haladhara-rūpa jaya jagadiśa hare',\n",
       " '\\nnindasi\\nyajña-vidher ahaha śruti-jātaḿ\\nsadaya-hṛdaya darśita-paśu-ghātam\\nkeśava dhṛta-buddha-śarīra jaya jagadīśa hare',\n",
       " '\\nmleccha-nivaha-nidhane\\nkalayasi karavālaḿ\\ndhūmaketum iva kim api karālam\\nkeśava dhṛta-kalki-śarīra jaya jagadīśa hare',\n",
       " '\\nśrī-jayedeva-kaver\\nidam uditam udāraḿ\\nśṛṇu sukha-daḿ śubha-daḿ bhava-sāram\\nkeśava dhṛta-daśa-vidha-rūpa jaya jagadīśa hare',\n",
       " '\\nvedān\\nuddharate jaganti vahate bhū-golam udbibhrate\\ndaityaḿ dārayate baliḿ chalayate\\nkṣatra-kṣayaḿ kurvate\\npaulastyaḿ jayate halaḿ kalayate kāruṇyam ātanvate\\nmlecchān mūrchayate daśakṛti-kṛte\\nkṛṣṇāya tubhyaḿ namaḥ\\n']"
      ]
     },
     "execution_count": 8,
     "metadata": {},
     "output_type": "execute_result"
    }
   ],
   "source": [
    "def get_lyrics(simple_text):\n",
    "    LYRICS = simple_text.split('\\nLYRICS:\\n')[1].split('\\nWORD\\nFOR WORD TRANSLATION:')[0]\n",
    "    LYRICS = LYRICS.replace('\\xa0','')\n",
    "    # LYRICS\n",
    "    import re\n",
    "    song_list = re.sub(r\"\\d\", \"\",LYRICS ).replace('()','').split('\\n\\n')\n",
    "    return song_list \n",
    "get_lyrics(simple_text)"
   ]
  },
  {
   "cell_type": "code",
   "execution_count": 25,
   "id": "a1e5ef95-987f-4061-a560-d9ec0360b9a8",
   "metadata": {},
   "outputs": [],
   "source": [
    "def get_translation(simple_text):\n",
    "    TRASNLATION = simple_text.split('\\n\\xa0\\nTRASNLATION\\n\\n')[1].split('REMARKS/EXTRA\\nINFORMATION:\\n')[0]\n",
    "    import re\n",
    "    final_trans = re.sub(r\"\\d\\)\\n\", \"\",TRASNLATION).split('\\n\\xa0\\n')\n",
    "    for index, index_line in enumerate(final_trans):\n",
    "        final_trans[index] = index_line.replace('\\n',' ').strip()\n",
    "    if len(final_trans[-1]) == 0 :\n",
    "        del final_trans[-1]\n",
    "    # print('\\n\\n'.join(final_trans))        \n",
    "    return final_trans\n",
    "get_translation(simple_text)"
   ]
  },
  {
   "cell_type": "code",
   "execution_count": null,
   "id": "1723676e-0962-4386-9624-3652bb5fcbeb",
   "metadata": {},
   "outputs": [],
   "source": []
  },
  {
   "cell_type": "code",
   "execution_count": null,
   "id": "57e889ce-1c65-41d3-8564-d1e5b19d043c",
   "metadata": {},
   "outputs": [],
   "source": []
  },
  {
   "cell_type": "code",
   "execution_count": null,
   "id": "059a373e-5f93-4b87-aabd-0619466a7ffa",
   "metadata": {},
   "outputs": [],
   "source": []
  },
  {
   "cell_type": "code",
   "execution_count": null,
   "id": "16c7dc06-b1b3-4d2c-95df-92b2ebad1d60",
   "metadata": {},
   "outputs": [],
   "source": []
  }
 ],
 "metadata": {
  "kernelspec": {
   "display_name": "Python 3 (ipykernel)",
   "language": "python",
   "name": "python3"
  },
  "language_info": {
   "codemirror_mode": {
    "name": "ipython",
    "version": 3
   },
   "file_extension": ".py",
   "mimetype": "text/x-python",
   "name": "python",
   "nbconvert_exporter": "python",
   "pygments_lexer": "ipython3",
   "version": "3.11.5"
  }
 },
 "nbformat": 4,
 "nbformat_minor": 5
}
