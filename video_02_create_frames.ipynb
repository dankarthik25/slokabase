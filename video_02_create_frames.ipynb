{
 "cells": [
  {
   "cell_type": "code",
   "execution_count": 1,
   "id": "520f0a8a-bffd-4666-a452-bd9fd86b1367",
   "metadata": {},
   "outputs": [],
   "source": [
    "import cv2 \n",
    "import os    "
   ]
  },
  {
   "cell_type": "code",
   "execution_count": 1,
   "id": "2986c84f-f9cb-4636-b1a2-381dc89bd21b",
   "metadata": {},
   "outputs": [],
   "source": [
    "subtitle_frame = [\n",
    "\"Screenshots_2023-09-28T10-05-12.png\", #  song_title : 0\n",
    "\"Screenshots_2023-09-28T14-40-05.png\", #  dedicated : 50\n",
    "\"Screenshots_2023-09-29T10-38-57.png\", #  sloka1 start frame no : 74\n",
    "\"Screenshots_2023-09-29T10-39-07.png\", #  sk2 301\n",
    "\"Screenshots_2023-09-29T10-39-15.png\", #  sk3 542\n",
    "\"Screenshots_2023-09-29T10-39-25.png\", #  sk4 763 \n",
    "\"Screenshots_2023-09-29T10-39-36.png\", #  sk5 988\n",
    "\"Screenshots_2023-09-29T10-39-58.png\", #  sk6 1215 \n",
    "\"Screenshots_2023-09-29T10-40-09.png\", #  sk7 1443\n",
    "\"Screenshots_2023-09-29T10-40-22.png\", #  sk8 1673 \n",
    "\"Screenshots_2023-09-29T10-40-35.png\", #  sk9 1923\n",
    "\"Screenshots_2023-09-29T10-40-45.png\", #  sk10 2157 \n",
    "\"Screenshots_2023-09-29T10-41-13.png\", #  sk11 2383\n",
    "\"Screenshots_2023-09-29T10-41-23.png\", #  sk12 2607\n",
    "\"Screenshots_2023-09-29T10-41-31.png\", #  sk13 2832\n",
    "\"Screenshots_2023-09-29T10-41-43.png\", #  sk14 3067 \n",
    "\"Screenshots_2023-09-29T10-41-52.png\", #  sk15 3309\n",
    "\"Screenshots_2023-09-29T10-42-23.png\", #  sk16 3544\n",
    "\"Screenshots_2023-09-29T10-42-31.png\", #  sk17 3773\n",
    "\"Screenshots_2023-09-29T10-42-37.png\", #  sk18 4010\n",
    "\"Screenshots_2023-09-29T10-42-46.png\", #  sk19 4246\n",
    "\"Screenshots_2023-09-29T10-42-55.png\", #  sk20 4476 \n",
    "\"Screenshots_2023-09-29T10-43-06.png\", #  sk21 4690\n",
    "\"Screenshots_2023-09-29T10-43-27.png\", #  sk22 4922\n",
    "\"Screenshots_2023-09-29T10-43-36.png\", #  sk23 5143\n",
    "\"Screenshots_2023-09-29T10-43-51.png\", #  sk24 5360 \n",
    "\"Screenshots_2023-09-29T10-43-59.png\", #  sk25 5588 \n",
    "\"Screenshots_2023-09-29T10-44-29.png\", #  sk26 5814  \n",
    "\"Screenshots_2023-09-29T10-44-38.png\", #  sk27 6038\n",
    "\"Screenshots_2023-09-29T10-44-47.png\", #  sk28 6266 \n",
    "\"Screenshots_2023-09-29T10-44-56.png\", #  sk29 6485 \n",
    "\"Screenshots_2023-09-29T10-45-04.png\", #  sk30 6721\n",
    "\"Screenshots_2023-09-29T10-45-17.png\", #  sk31 6934\n",
    "\"Screenshots_2023-09-29T10-45-22.png\", #  sk32 7454\n",
    "] # last_frame : 7801"
   ]
  },
  {
   "cell_type": "code",
   "execution_count": 2,
   "id": "5e96b87d-66b6-48dc-a4ae-de6052979eee",
   "metadata": {},
   "outputs": [],
   "source": [
    "subtitle_list= [0,50,74, 301,542,763,988,1215,1443,1673,1923,2157,2383,2607,2832, 3067,3309,3544,3773,\n",
    "                4010,4246,4476,4690,4922,5143,5360,5588,5814,6038,6266,6485,6721,6934,7454,7801]"
   ]
  },
  {
   "cell_type": "code",
   "execution_count": null,
   "id": "ce11bfa8-b36f-4f63-a2d6-aa0e0a2f4137",
   "metadata": {},
   "outputs": [],
   "source": [
    "path = os.getcwd() \n",
    "                        # >>>  path '/media/karthik/myVolume/Spritual/Devotion/radhikashtakam'\n",
    "# frame_path = os.path.join(path,'lyrics-imgs') \n",
    "                        # >>> frame_path 'video-editing720p'\n",
    "\n",
    "# frame_name_list = os.listdir(frame_path) \n",
    "                        # >>> ['0001.png',  ... '15102.png']\n",
    "# print(frame_name_list)"
   ]
  },
  {
   "cell_type": "code",
   "execution_count": null,
   "id": "595e0373-975e-484b-a10b-68e07e4451cc",
   "metadata": {},
   "outputs": [],
   "source": [
    "last_frame_no = subtitle_list[-1]+1\n",
    "for frame_idx in range(0,last_frame_no):\n",
    "    frame_name = f'{frame_idx:06}.png'\n",
    "    for  idx, subtitle_last_frame in enumerate(subtitle_list) :\n",
    "        if frame_idx > subtitle_last_frame :\n",
    "            continue\n",
    "        else:\n",
    "            subtitle_idx = idx\n",
    "            break\n",
    "    print(f\"frame_idx='{frame_idx}' frame:{subtitle_last_frame}, idx={idx}\" )\n",
    "    print(frame_idx, idx)\n",
    "    image2 = cv2.imread(f'lyrics-imgs/{subtitle_frame[idx-1]}')\n",
    "    cv2.imwrite(f'recorded-video/{frame_name}', image2)\n",
    "\n",
    "\n"
   ]
  }
 ],
 "metadata": {
  "kernelspec": {
   "display_name": "Python 3 (ipykernel)",
   "language": "python",
   "name": "python3"
  },
  "language_info": {
   "codemirror_mode": {
    "name": "ipython",
    "version": 3
   },
   "file_extension": ".py",
   "mimetype": "text/x-python",
   "name": "python",
   "nbconvert_exporter": "python",
   "pygments_lexer": "ipython3",
   "version": "3.10.13"
  }
 },
 "nbformat": 4,
 "nbformat_minor": 5
}
