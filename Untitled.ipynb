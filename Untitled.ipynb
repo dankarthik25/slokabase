{
 "cells": [
  {
   "cell_type": "code",
   "execution_count": 39,
   "id": "904ec45e-ff2c-4473-8366-c2d71433a769",
   "metadata": {},
   "outputs": [
    {
     "data": {
      "text/plain": [
       "\"INSERT INTO Song_Index (song_name, song_short_name, sloka_statues) VALUES ('Nector of Instruction', 'noi', 1);\""
      ]
     },
     "execution_count": 39,
     "metadata": {},
     "output_type": "execute_result"
    }
   ],
   "source": [
    "def get_insert_query(table_name,**kwargs):\n",
    "    # get_insert_query(Song_Index ,song_name = 'Nector of Instruction', song_short_name ='noi', sloka_statues=1)\n",
    "    # print(type(kwargs))\n",
    "    comma = r', '    \n",
    "    Entry_Field =   ', '.join(list(kwargs.keys())) \n",
    "    # print(Entry_Field) # >>> song_name, song_short_name, sloka_statues\n",
    "    Entry_Value = ''\n",
    "    \n",
    "    for key, value in kwargs.items():\n",
    "        if isinstance(value, str): # type(value) == 'str': \n",
    "            Entry_Value = Entry_Value + \"\"\"'{}'{}\"\"\".format(str(value),comma)    \n",
    "        else:\n",
    "            Entry_Value = Entry_Value + \"\"\"{}{}\"\"\".format(str(value),comma)    \n",
    "            # Entry_Value +  str() + '=' + str(value) + comma\n",
    "    Entry_Value = Entry_Value.rstrip(comma)\n",
    "    # print(Entry_Value)  # >>> 'Nector of Instruction', 'noi', 1\n",
    "\n",
    "    query = \"\"\"INSERT INTO {} ({}) VALUES ({});\"\"\".format(table_name,Entry_Field, Entry_Value)        \n",
    "    # >>> INSERT INTO SongIndex (song_name, song_short_name, sloka_statues) VALUES ('Nector of Instruction', 'noi', 1);\n",
    "    return query\n",
    "# get_insert_query('Song_Index' ,song_name = 'Nector of Instruction', song_short_name ='noi', sloka_statues=1)\n",
    "        # \"INSERT INTO Song_Index (song_name, song_short_name, sloka_statues) VALUES ('Nector of Instruction', 'noi', 1);\""
   ]
  },
  {
   "cell_type": "code",
   "execution_count": 36,
   "id": "1c1d42f6-4c2f-41a3-89ee-cd9a0f6f93ea",
   "metadata": {},
   "outputs": [],
   "source": [
    "def get_update_query(table_name, *args, **kwargs):\n",
    "    query = \"UPDATE {} SET \".format(table_name)\n",
    "\n",
    "    print(args)\n",
    "    if len(args) == 0: \n",
    "        last_key = list(kwargs.keys())[-1]\n",
    "        if isinstance(kwargs[last_key], str):\n",
    "            cond_query = \" WHERE {}='{}'\".format(last_key, kwargs[last_key])\n",
    "        else:\n",
    "            cond_query = \" WHERE {}={}\".format(last_key, kwargs[last_key])\n",
    "        del kwargs[last_key]\n",
    "    else: \n",
    "        \n",
    "        cond_query = \" WHERE \"\n",
    "        for key in args:\n",
    "            if isinstance(kwargs[key], str):\n",
    "                cond_query =  \"\"\"{} {}='{}'{} \"\"\".format(cond_query, key,kwargs[key],' and')\n",
    "            else:\n",
    "                cond_query =  \"\"\"{} {}={}{} \"\"\".format(cond_query, key,kwargs[key],' and')                \n",
    "            del kwargs[key]\n",
    "        cond_query = cond_query.rstrip(' and') \n",
    "            \n",
    "    \n",
    "    comma = ', '\n",
    "    for key, value in kwargs.items():\n",
    "        if isinstance(value, str):\n",
    "            query =  \"\"\"{} {}='{}'{} \"\"\".format(query, key,value,comma)  #  query + str(key) + '=' + str(value) + comma\n",
    "        else:\n",
    "            query =  \"\"\"{} {}={}{} \"\"\".format(query, key,str(value),comma)  \n",
    "\n",
    "    query = query.rstrip(comma) \n",
    "    \n",
    "    query += cond_query\n",
    "    \n",
    "    # print(query)   # >>> UPDATE store SET quantity=10, price=15 WHERE item=10\n",
    "    return query\n",
    "    \n",
    "# get_update_query('store', quantity=10, price=15, item='indian mango')\n",
    "        # UPDATE store SET quantity=10, price=15 WHERE item='indian mango'\n",
    "# get_update_query('store', quantity=10, price=15, item=10)\n",
    "        # UPDATE store SET quantity=10, price=15 WHERE item=10\n",
    "\n"
   ]
  },
  {
   "cell_type": "code",
   "execution_count": 49,
   "id": "3a4b8b15-b97e-46c8-bcb6-2820fe4e35bc",
   "metadata": {},
   "outputs": [],
   "source": [
    "def get_delete_query(table_name, **kwargs):\n",
    "    # if len(kwargs) > 1:\n",
    "    cond_query = \"\"\n",
    "    for key, value in kwargs.items():\n",
    "        if isinstance(value, str): # type(value) == 'str': \n",
    "            cond_query = cond_query + \"\"\"{}='{}'{}\"\"\".format(key, str(value),' and ')    \n",
    "        else:\n",
    "            cond_query = cond_query + \"\"\"{}={}{}\"\"\".format(key, str(value),' and ')    \n",
    "    cond_query = cond_query.rstrip(' and ')\n",
    "        \n",
    "    # table_index = list(kwargs.keys())[0]\n",
    "    query = \"DELETE FROM {} WHERE {};\".format(table_name, cond_query )\n",
    "    # print(query)\n",
    "    return query\n",
    "\n",
    "# get_delete_query('Song', song_idx=1,sloka_no = 5)"
   ]
  },
  {
   "cell_type": "code",
   "execution_count": 50,
   "id": "d26e1dbc-f748-47f8-9e26-1e48cf79b74f",
   "metadata": {},
   "outputs": [],
   "source": [
    "def get_create_table_query(table_name, **kwargs):\n",
    "    query = \"CREATE TABLE IF NOT EXISTS {} (\".format(table_name)\n",
    "    comma = ', '\n",
    "    for key, value in kwargs.items():\n",
    "        query = query + key + ' ' + value + comma\n",
    "    query = query.rstrip(comma) + \");\"\n",
    "    print(query)\n",
    "    # return self.cursor.execute(query)\n",
    "\n",
    "# get_create_table_query('store', item='TEXT', quantity='INTEGER', price='REAL')\n",
    "        # CREATE TABLE IF NOT EXISTS store (item TEXT, quantity INTEGER, price REAL)"
   ]
  },
  {
   "cell_type": "code",
   "execution_count": 3,
   "id": "fc084386-284d-48ad-95d0-a227660fdba0",
   "metadata": {},
   "outputs": [],
   "source": [
    "class Model():\n",
    "    def __init__(self,db_path,table_name):\n",
    "        self.db_path = db_path\n",
    "        self.table_name = table_name\n",
    "        self.db_connect = sqlite3.connect(db_path) # OperationalError: database is locked may occur to reduce try  <db.connections.close_all()>\n",
    "                                                # https://www.geeksforgeeks.org/how-to-list-tables-using-sqlite3-in-python/?ref=lbp\n",
    "    \n",
    "    def create_table(self):\n",
    "        # self.db_connect = sqlite3.connect(db_path)\n",
    "        self.db_cursor = self.db_connect.cursor()\n",
    "        \n",
    "        self.db_cursor.execute(\"\"\"CREATE TABLE  if not exists  Songs (\n",
    "                                    \tsong_idx INTEGER , \n",
    "                                    \tslokas_no INTEGER NOT NULL,\n",
    "                                        sloka_hindi TEXT,\n",
    "                                        sloka_eng TEXT,\n",
    "                                        synonyms TEXT,\n",
    "                                        translation TEXT,\n",
    "                                        purpot TEXT,\n",
    "                                        FOREIGN KEY (song_idx)\n",
    "                                           REFERENCES SongIndex(song_idx)\n",
    "                                       PRIMARY KEY ( song_idx, slokas_no)\n",
    "                                        )\"\"\")\n",
    "        self.db_connect.commit()\n",
    "        # auto_increment and delete on cascade https://stackoverflow.com/questions/29037793/sqlite-integrityerror-unique-constraint-failed\n",
    "        self.db_cursor.close()\n",
    "        # self.db_connect.close()\n",
    "\n",
    "    def create_entry(self, **kwargs):\n",
    "        query = get_insert_query(self.table_name,**kwargs)\n",
    "        self.db_cursor = self.db_connect.cursor()\n",
    "        print(query)\n",
    "        try :\n",
    "            self.db_cursor.execute(query)        \n",
    "            self.db_connect.commit()\n",
    "        except sqlite3.IntegrityError as e:\n",
    "            print('Exception: {}'.format(e))\n",
    "\n",
    "        finally:\n",
    "            self.db_cursor.close()      \n",
    "    \n",
    "    def read_entry(self):\n",
    "        query = \"SELECT * FROM {};\".format(self.table_name)\n",
    "        self.db_cursor = self.db_connect.cursor()\n",
    "        try :\n",
    "            self.db_cursor.execute(query)\n",
    "            rows = self.db_cursor.fetchall()\n",
    "\n",
    "            for row in rows:\n",
    "                print(row)\n",
    "\n",
    "        except sqlite3.Error as e:\n",
    "            print('Exception: {}'.format(e))\n",
    "        finally:\n",
    "            self.db_cursor.close()\n",
    "\n",
    "    def update_entry(self, **kwargs):\n",
    "        query = get_update_query(self.table_name,**kwargs)\n",
    "        self.db_cursor = self.db_connect.cursor()\n",
    "        print(query)\n",
    "        try :\n",
    "            self.db_cursor.execute(query)        \n",
    "            self.db_connect.commit()\n",
    "        except sqlite3.Error as e:\n",
    "            print('Exception: {}'.format(e))\n",
    "\n",
    "        finally:\n",
    "            self.db_cursor.close()\n",
    "\n",
    "    def delete_entry(self, **kwargs):\n",
    "        self.db_cursor = self.db_connect.cursor()\n",
    "\n",
    "    \n",
    "        query = get_delete_query(self.table_name, **kwargs)\n",
    "        print(query)\n",
    "        try :\n",
    "            self.db_cursor.execute(query)        \n",
    "            self.db_connect.commit()\n",
    "        except sqlite3.Error as e:\n",
    "            print('Exception: {}'.format(e))\n",
    "\n",
    "        finally:\n",
    "            self.db_cursor.close()\n",
    "            \n",
    "    def db_close(self):\n",
    "        self.db_connect.close()\n",
    "\n",
    "     def __del__( self ,):\n",
    "         self.db_connect.close()"
   ]
  },
  {
   "cell_type": "code",
   "execution_count": 4,
   "id": "3d2d6298-3ab4-44e5-adbb-081a6fcc359d",
   "metadata": {},
   "outputs": [
    {
     "name": "stdout",
     "output_type": "stream",
     "text": [
      "/media/karthik/myVolume/workspace/workspae_vedabase/slokabase.db\n"
     ]
    }
   ],
   "source": [
    "import os, sqlite3 \n",
    "\n",
    "db_name = 'slokabase.db'\n",
    "db_path = os.path.join(os.getcwd(),db_name)\n",
    "table_name = 'Songs'\n",
    "print(db_path)\n"
   ]
  },
  {
   "cell_type": "code",
   "execution_count": 5,
   "id": "6c494cbb-1aa9-456c-ac20-6ceb665e08d3",
   "metadata": {},
   "outputs": [],
   "source": [
    "mySongs = Songs(db_path,table_name) # Connect to Table inside a given db "
   ]
  },
  {
   "cell_type": "code",
   "execution_count": 6,
   "id": "97981c6c-7375-4232-84f5-c55edbd3ede4",
   "metadata": {},
   "outputs": [],
   "source": [
    "mySongs.create_table() # Create table"
   ]
  },
  {
   "cell_type": "code",
   "execution_count": 7,
   "id": "9db9666a-5d16-4f74-be48-71fd6c595739",
   "metadata": {},
   "outputs": [
    {
     "name": "stdout",
     "output_type": "stream",
     "text": [
      "kuṅkumākta-kāñcanābja-garva-hāri-gaurabhā\n",
      "pītanāñcitābja-gandha-kīrti-nindi-saurabhā\n",
      "ballaveśa-sūnu-sarva-vāñcitārtha-sādhikā\n",
      "mahyam ātma-pāda-padma-dāsya-dāstu rādhikā\n",
      "\n",
      "kuṅkuma = Saffron; ākta = anointed, ointment, tinged , smeared over;kāñcana = golden; abja = lotus, born in water; gaura = blonde,fair, dignity, admiration, splendorous;ābhā = appearance, similar, splendor, glamour;pītana= saffron; añcita= worshipped; abja= lotus, born in water; saurabha = saffon, perfume,fragrance;ballaveśa = krishna,  ballava(cowherd)+ veṣa( dress); sūnu = son, offspring ; sarva = whole, entire, all, every;vāñcita= wished,tricked, desire, beloved ; artha = object of desire; vāñcitārtha = one who full will all the desire\n",
      "\n",
      "Her splendrous golden complexion steals the pride of a golden lotus flower anointed with a tinge of red kunkum powder.\n",
      "Her sweet fragrance mocks the fame of the aroma of a lotus flower sprinkled with saffron powder.\n",
      "She is fully qualified to fulfill all the desires of the son of the king of cowherd men.\n",
      "May Sri Radhika always bestow upon me the service of Her own lotus feet\n",
      "\n",
      "{'song_idx': 2, 'slokas_no': 1, 'sloka_eng': 'kuṅkumākta-kāñcanābja-garva-hāri-gaurabhā\\npītanāñcitābja-gandha-kīrti-nindi-saurabhā\\nballaveśa-sūnu-sarva-vāñcitārtha-sādhikā\\nmahyam ātma-pāda-padma-dāsya-dāstu rādhikā', 'synonyms': 'kuṅkuma = Saffron; ākta = anointed, ointment, tinged , smeared over;kāñcana = golden; abja = lotus, born in water; gaura = blonde,fair, dignity, admiration, splendorous;ābhā = appearance, similar, splendor, glamour;pītana= saffron; añcita= worshipped; abja= lotus, born in water; saurabha = saffon, perfume,fragrance;ballaveśa = krishna,  ballava(cowherd)+ veṣa( dress); sūnu = son, offspring ; sarva = whole, entire, all, every;vāñcita= wished,tricked, desire, beloved ; artha = object of desire; vāñcitārtha = one who full will all the desire', 'translation': 'Her splendrous golden complexion steals the pride of a golden lotus flower anointed with a tinge of red kunkum powder.\\nHer sweet fragrance mocks the fame of the aroma of a lotus flower sprinkled with saffron powder.\\nShe is fully qualified to fulfill all the desires of the son of the king of cowherd men.\\nMay Sri Radhika always bestow upon me the service of Her own lotus feet'}\n"
     ]
    }
   ],
   "source": [
    "temp_song = dict()\n",
    "temp_song['song_idx'] = 2\n",
    "temp_song['slokas_no'] = 1\n",
    "# temp_song['sloka_hindi'] =  \n",
    "temp_song['sloka_eng'] = \"\"\"kuṅkumākta-kāñcanābja-garva-hāri-gaurabhā\n",
    "pītanāñcitābja-gandha-kīrti-nindi-saurabhā\n",
    "ballaveśa-sūnu-sarva-vāñcitārtha-sādhikā\n",
    "mahyam ātma-pāda-padma-dāsya-dāstu rādhikā\"\"\" \n",
    "\n",
    "temp_song['synonyms'] = \"\"\"kuṅkuma = Saffron; ākta = anointed, ointment, tinged , smeared over;\n",
    "kāñcana = golden; abja = lotus, born in water; gaura = blonde,fair, dignity, admiration, splendorous;\n",
    "ābhā = appearance, similar, splendor, glamour;\n",
    "pītana= saffron; añcita= worshipped; abja= lotus, born in water; saurabha = saffon, perfume,fragrance;\n",
    "ballaveśa = krishna,  ballava(cowherd)+ veṣa( dress); sūnu = son, offspring ; sarva = whole, entire, all, every;\n",
    "vāñcita= wished,tricked, desire, beloved ; artha = object of desire; vāñcitārtha = one who full will all the desire\"\"\" \n",
    "temp_song['synonyms']= temp_song['synonyms'].replace('\\n','')\n",
    "\n",
    "temp_song['translation'] = \"\"\"Her splendrous golden complexion steals the pride of a golden lotus flower anointed with a tinge of red kunkum powder.\n",
    "Her sweet fragrance mocks the fame of the aroma of a lotus flower sprinkled with saffron powder.\n",
    "She is fully qualified to fulfill all the desires of the son of the king of cowherd men.\n",
    "May Sri Radhika always bestow upon me the service of Her own lotus feet\"\"\"\n",
    "# temp_song['purpot']\n",
    "\n",
    "print(temp_song['sloka_eng'])\n",
    "print()\n",
    "print(temp_song['synonyms'])\n",
    "print()\n",
    "print(temp_song['translation'])\n",
    "\n",
    "print()\n",
    "print(temp_song)\n",
    "# print(temp_song['sloka_eng'].split('\\n'))\n",
    "# print(temp_song['synonyms'].split('\\n'))\n",
    "# print(temp_song['translation'].split('\\n'))\n",
    "\n",
    "\n"
   ]
  },
  {
   "cell_type": "code",
   "execution_count": 8,
   "id": "b84fcb58-8606-4ab7-9a2c-7a3b7378b88c",
   "metadata": {},
   "outputs": [
    {
     "name": "stdout",
     "output_type": "stream",
     "text": [
      "(4, 1, None, 'kuṅkumākta-kāñcanābja-garva-hāri-gaurabhā\\npītanāñcitābja-gandha-kīrti-nindi-saurabhā\\nballaveśa-sūnu-sarva-vāñcitārtha-sādhikā\\nmahyam ātma-pāda-padma-dāsya-dāstu rādhikā | 1 |', 'kuṅkuma = Saffron; ākta = anointed, ointment, tinged , smeared over;\\nkāñcana = golden; abja = lotus, born in water; gaura = blonde,fair, dignity, admiration, splendorous;\\nābhā = appearance, similar, splendor, glamour;\\npītana= saffron; añcita= worshipped; abja= lotus, born in water; saurabha = saffon, perfume,fragrance;\\nballaveśa = krishna,  ballava(cowherd)+ veṣa( dress); sūnu = son, offspring ; sarva = whole, entire, all, every;\\nvāñcita= wished,tricked, desire, beloved ; artha = object of desire; vāñcitārtha = one who full will all the desire', 'Her splendrous golden complexion steals the pride of a golden lotus flower anointed with a tinge of red kunkum powder.\\nHer sweet fragrance mocks the fame of the aroma of a lotus flower sprinkled with saffron powder.\\nShe is fully qualified to fulfill all the desires of the son of the king of cowherd men.\\nMay Sri Radhika always bestow upon me the service of Her own lotus feet. | 1 |', None)\n",
      "(4, 2, None, 'kauravinda-kānti-nindi-citra-paṭṭa-śāṭikā\\nkṛṣṇa-matta-bhṛṅga-keli-phulla-puṣpa-vāṭikā\\nkṛṣṇa-nitya-saṅgamārtha-padma-bandhu-rādhikā\\nmahyam ātma-pāda-padma-dāsya-dāstu rādhikā | 2 |', None, 'Her amazing and colorful silken garments make the splendour of coral feel ashamed.\\nShe is a garden of blossoming flowers where the maddened bumblebee named Krishna performs amorous pastimes.\\nShe worships the Sun-god daily in order to attain the continual association of Her beloved Krishna.\\nMay Sri Radhika always bestow upon me the service of Her own lotus feet. | 2 |', None)\n",
      "(4, 3, None, 'saukumārya-sṛṣṭa-pallavāli-kīrti-nigrahā\\ncandra-candanotpalendu-sevya-śīta-vigrahā\\nsvābhimarśa-ballavīśa-kāma-tāpa-bādhikā\\nmahyam ātma-pāda-padma-dāsya-dāstu rādhikā | 3 |', None, 'Her charming youthful delicacy negates the fame of freshly-sprouted leaves.\\nHer refreshing form is worthy of being served by the cooling moon, sandalwood paste, lotus flowers, and camphor.\\nWhen She touches the master of the gopis, She dispels the burning heat of His lusty desires.\\nMay Sri Radhika always bestow upon me the service of Her own lotus feet. | 3 |', None)\n",
      "(4, 4, None, 'viśva-vandya-yauvatābhivanditāpi yā ramā\\nrūpa-navya-yauvanādi-saṁpadā na yat-samā\\nśīla-hārda-līlayā ca sā yato ‘sti nādhikā\\nmahyam ātma-pāda-padma-dāsya-dāstu rādhikā | 4 |', None, 'Although the goddess of fortune Lakshmi Devi is adored by other youthful goddesses, who are themselves glorified throughout all the universe,\\nstill she is nowhere near Sri Radhika in the matter of beauty, praiseworthy youthfulness, or other divine feminine opulences.\\nThere is no one in the material or spiritual worlds superior to Radhika in the expression of naturally loving pastimes.\\nMay Sri Radhika always bestow upon me the service of Her own lotus feet. | 4 |', None)\n",
      "(4, 5, None, 'rāsa-lāsya-gīta-narma-sat-kalāli-paṇḍitā\\nprema-ramya-rūpa-veśa-sad-guṇāli-maṇḍitā\\nviśva-navya-gopa-yoṣid-ālito ‘pi yādhikā\\nmahyam ātma-pāda-padma-dāsya-dāstu rādhikā | 5 |', None, 'She is very learned in many transcendental arts, such as performing in the rasa dance, singing, and joking.\\nShe is decorated with many divine qualities, such as loving nature, exquisite beauty, and wonderful garments and ornaments.\\nEven among the cowherd damsels of Vraja, who are praised by the entire universe, She is the best in every way.\\nMay Sri Radhika always bestow upon me the service of Her own lotus feet. | 5 |', None)\n",
      "(4, 6, None, 'nitya-navya-rūpa-keli-kṛṣṇa-bhāva-sampadā\\nkṛṣṇa-rāga-bandha-gopa-yauvateṣu kampadā\\nkṛṣṇa-rūpa-veśa-keli-lagna-sat-samādhikā\\nmahyam ātma-pāda-padma-dāsya-dāstu rādhikā | 6 |', None, \"She possesses the opulence's of eternal youthful beauty, eternal pastimes, and eternal love for Krishna.\\nHer ecstatic feelings of love for Krishna cause the gopis, who are also in love with Krishna, to tremble.\\nShe is always attached to meditating on Sri Krishna's beautiful form, ornaments, garments, and pastimes.\\nMay Sri Radhika always bestow upon me the service of Her own lotus feet. | 6 |\", None)\n",
      "(4, 7, None, 'sveda-kampa-kaṇṭakāśru-gadgadādi-sañcitā\\nmarṣa-harṣa-vāmatādi-bhāva-bhuṣaṇāñcitā \\nkṛṣṇa-netra-toṣi-ratna-maṇḍanāli-dādhikā\\nmahyam ātma-pāda-padma-dāsya-dāstu rādhikā | 7 |', None, 'She is graced with eight ecstatic symptoms (sattvika-bhava), such as trembling, perspiring, standing up on bodily hairs, tears, faltering of the voice, and so forth.\\nShe is adorned with different ecstatic emotional ornaments, such as impatience, joy, contrariness, and so forth.\\nShe is decorated with beautiful jewels that give total delight to the eyes of Krishna.\\nMay Sri Radhika always bestow upon me the service of Her own lotus feet. | 7 |', None)\n",
      "(4, 8, None, 'yā kṣaṇārdha-kṛṣṇa-viprayoga-santatoditāneka-\\ndainya-cāpalādi-bhāva-vṛnda-toditā \\nyatna-labdha-kṛṣṇa-saṅga-nirgatākhilādhikā\\nmahyam ātma-pāda-padma-dāsya-dāstu rādhikā | 8 |', None, 'If She is apart from Krsna, for even half a moment, She becomes stricken with wretched suffering, restlessness, and a multitude of other ecstatic symptoms of separation.\\nWhen She regains the association of Krishna after some effort, then all Her anguish immediately vanishes.\\nMay Sri Radhika always bestow upon me the service of Her own lotus feet. | 8 |', None)\n",
      "(4, 9, None, 'aṣṭakena yas tv anena nauti kṛṣṇa-vallabhāḿ\\ndarśane ‘pi śailajādi-yoṣidāli-durlabhām\\nkṛṣṇa-sańga-nanditātma-dāsya-sīdhu-bhājanaḿ\\ntaḿ karoti nanditāli-sañcayāśu sā janam | 9 |', None, 'It is very difficult for Parvati and other exalted goddesses to attain even a glimpse of Srimati Radharani, who is dear to Lord Krsna.\\nBut if someone glorifies Her by reciting these eight verses, then She who is delighted by Krsnas continuous association will grant the sweet nectar of Her personal service to that person, who thereby enters the assembly of Her similarly delighted girlfriends.| 9 |', None)\n",
      "INSERT INTO Songs (song_idx, slokas_no, sloka_eng, synonyms, translation) VALUES (2, 1, '''kuṅkumākta-kāñcanābja-garva-hāri-gaurabhā\n",
      "pītanāñcitābja-gandha-kīrti-nindi-saurabhā\n",
      "ballaveśa-sūnu-sarva-vāñcitārtha-sādhikā\n",
      "mahyam ātma-pāda-padma-dāsya-dāstu rādhikā''', '''kuṅkuma = Saffron; ākta = anointed, ointment, tinged , smeared over;kāñcana = golden; abja = lotus, born in water; gaura = blonde,fair, dignity, admiration, splendorous;ābhā = appearance, similar, splendor, glamour;pītana= saffron; añcita= worshipped; abja= lotus, born in water; saurabha = saffon, perfume,fragrance;ballaveśa = krishna,  ballava(cowherd)+ veṣa( dress); sūnu = son, offspring ; sarva = whole, entire, all, every;vāñcita= wished,tricked, desire, beloved ; artha = object of desire; vāñcitārtha = one who full will all the desire''', '''Her splendrous golden complexion steals the pride of a golden lotus flower anointed with a tinge of red kunkum powder.\n",
      "Her sweet fragrance mocks the fame of the aroma of a lotus flower sprinkled with saffron powder.\n",
      "She is fully qualified to fulfill all the desires of the son of the king of cowherd men.\n",
      "May Sri Radhika always bestow upon me the service of Her own lotus feet''');\n"
     ]
    }
   ],
   "source": [
    "mySongs.read_entry()\n",
    "mySongs.create_entry(**temp_song)\n"
   ]
  },
  {
   "cell_type": "code",
   "execution_count": 10,
   "id": "2fb73f15-e4ea-487d-9093-32a6bec41093",
   "metadata": {},
   "outputs": [
    {
     "name": "stdout",
     "output_type": "stream",
     "text": [
      "(4, 1, None, 'kuṅkumākta-kāñcanābja-garva-hāri-gaurabhā\\npītanāñcitābja-gandha-kīrti-nindi-saurabhā\\nballaveśa-sūnu-sarva-vāñcitārtha-sādhikā\\nmahyam ātma-pāda-padma-dāsya-dāstu rādhikā | 1 |', 'kuṅkuma = Saffron; ākta = anointed, ointment, tinged , smeared over;\\nkāñcana = golden; abja = lotus, born in water; gaura = blonde,fair, dignity, admiration, splendorous;\\nābhā = appearance, similar, splendor, glamour;\\npītana= saffron; añcita= worshipped; abja= lotus, born in water; saurabha = saffon, perfume,fragrance;\\nballaveśa = krishna,  ballava(cowherd)+ veṣa( dress); sūnu = son, offspring ; sarva = whole, entire, all, every;\\nvāñcita= wished,tricked, desire, beloved ; artha = object of desire; vāñcitārtha = one who full will all the desire', 'Her splendrous golden complexion steals the pride of a golden lotus flower anointed with a tinge of red kunkum powder.\\nHer sweet fragrance mocks the fame of the aroma of a lotus flower sprinkled with saffron powder.\\nShe is fully qualified to fulfill all the desires of the son of the king of cowherd men.\\nMay Sri Radhika always bestow upon me the service of Her own lotus feet. | 1 |', None)\n",
      "(4, 2, None, 'kauravinda-kānti-nindi-citra-paṭṭa-śāṭikā\\nkṛṣṇa-matta-bhṛṅga-keli-phulla-puṣpa-vāṭikā\\nkṛṣṇa-nitya-saṅgamārtha-padma-bandhu-rādhikā\\nmahyam ātma-pāda-padma-dāsya-dāstu rādhikā | 2 |', None, 'Her amazing and colorful silken garments make the splendour of coral feel ashamed.\\nShe is a garden of blossoming flowers where the maddened bumblebee named Krishna performs amorous pastimes.\\nShe worships the Sun-god daily in order to attain the continual association of Her beloved Krishna.\\nMay Sri Radhika always bestow upon me the service of Her own lotus feet. | 2 |', None)\n",
      "(4, 3, None, 'saukumārya-sṛṣṭa-pallavāli-kīrti-nigrahā\\ncandra-candanotpalendu-sevya-śīta-vigrahā\\nsvābhimarśa-ballavīśa-kāma-tāpa-bādhikā\\nmahyam ātma-pāda-padma-dāsya-dāstu rādhikā | 3 |', None, 'Her charming youthful delicacy negates the fame of freshly-sprouted leaves.\\nHer refreshing form is worthy of being served by the cooling moon, sandalwood paste, lotus flowers, and camphor.\\nWhen She touches the master of the gopis, She dispels the burning heat of His lusty desires.\\nMay Sri Radhika always bestow upon me the service of Her own lotus feet. | 3 |', None)\n",
      "(4, 4, None, 'viśva-vandya-yauvatābhivanditāpi yā ramā\\nrūpa-navya-yauvanādi-saṁpadā na yat-samā\\nśīla-hārda-līlayā ca sā yato ‘sti nādhikā\\nmahyam ātma-pāda-padma-dāsya-dāstu rādhikā | 4 |', None, 'Although the goddess of fortune Lakshmi Devi is adored by other youthful goddesses, who are themselves glorified throughout all the universe,\\nstill she is nowhere near Sri Radhika in the matter of beauty, praiseworthy youthfulness, or other divine feminine opulences.\\nThere is no one in the material or spiritual worlds superior to Radhika in the expression of naturally loving pastimes.\\nMay Sri Radhika always bestow upon me the service of Her own lotus feet. | 4 |', None)\n",
      "(4, 5, None, 'rāsa-lāsya-gīta-narma-sat-kalāli-paṇḍitā\\nprema-ramya-rūpa-veśa-sad-guṇāli-maṇḍitā\\nviśva-navya-gopa-yoṣid-ālito ‘pi yādhikā\\nmahyam ātma-pāda-padma-dāsya-dāstu rādhikā | 5 |', None, 'She is very learned in many transcendental arts, such as performing in the rasa dance, singing, and joking.\\nShe is decorated with many divine qualities, such as loving nature, exquisite beauty, and wonderful garments and ornaments.\\nEven among the cowherd damsels of Vraja, who are praised by the entire universe, She is the best in every way.\\nMay Sri Radhika always bestow upon me the service of Her own lotus feet. | 5 |', None)\n",
      "(4, 6, None, 'nitya-navya-rūpa-keli-kṛṣṇa-bhāva-sampadā\\nkṛṣṇa-rāga-bandha-gopa-yauvateṣu kampadā\\nkṛṣṇa-rūpa-veśa-keli-lagna-sat-samādhikā\\nmahyam ātma-pāda-padma-dāsya-dāstu rādhikā | 6 |', None, \"She possesses the opulence's of eternal youthful beauty, eternal pastimes, and eternal love for Krishna.\\nHer ecstatic feelings of love for Krishna cause the gopis, who are also in love with Krishna, to tremble.\\nShe is always attached to meditating on Sri Krishna's beautiful form, ornaments, garments, and pastimes.\\nMay Sri Radhika always bestow upon me the service of Her own lotus feet. | 6 |\", None)\n",
      "(4, 7, None, 'sveda-kampa-kaṇṭakāśru-gadgadādi-sañcitā\\nmarṣa-harṣa-vāmatādi-bhāva-bhuṣaṇāñcitā \\nkṛṣṇa-netra-toṣi-ratna-maṇḍanāli-dādhikā\\nmahyam ātma-pāda-padma-dāsya-dāstu rādhikā | 7 |', None, 'She is graced with eight ecstatic symptoms (sattvika-bhava), such as trembling, perspiring, standing up on bodily hairs, tears, faltering of the voice, and so forth.\\nShe is adorned with different ecstatic emotional ornaments, such as impatience, joy, contrariness, and so forth.\\nShe is decorated with beautiful jewels that give total delight to the eyes of Krishna.\\nMay Sri Radhika always bestow upon me the service of Her own lotus feet. | 7 |', None)\n",
      "(4, 8, None, 'yā kṣaṇārdha-kṛṣṇa-viprayoga-santatoditāneka-\\ndainya-cāpalādi-bhāva-vṛnda-toditā \\nyatna-labdha-kṛṣṇa-saṅga-nirgatākhilādhikā\\nmahyam ātma-pāda-padma-dāsya-dāstu rādhikā | 8 |', None, 'If She is apart from Krsna, for even half a moment, She becomes stricken with wretched suffering, restlessness, and a multitude of other ecstatic symptoms of separation.\\nWhen She regains the association of Krishna after some effort, then all Her anguish immediately vanishes.\\nMay Sri Radhika always bestow upon me the service of Her own lotus feet. | 8 |', None)\n",
      "(4, 9, None, 'aṣṭakena yas tv anena nauti kṛṣṇa-vallabhāḿ\\ndarśane ‘pi śailajādi-yoṣidāli-durlabhām\\nkṛṣṇa-sańga-nanditātma-dāsya-sīdhu-bhājanaḿ\\ntaḿ karoti nanditāli-sañcayāśu sā janam | 9 |', None, 'It is very difficult for Parvati and other exalted goddesses to attain even a glimpse of Srimati Radharani, who is dear to Lord Krsna.\\nBut if someone glorifies Her by reciting these eight verses, then She who is delighted by Krsnas continuous association will grant the sweet nectar of Her personal service to that person, who thereby enters the assembly of Her similarly delighted girlfriends.| 9 |', None)\n"
     ]
    }
   ],
   "source": [
    "mySongs.read_entry()"
   ]
  },
  {
   "cell_type": "code",
   "execution_count": 13,
   "id": "b1fe8db5-8fc7-4c0c-8c88-628a24d699b7",
   "metadata": {},
   "outputs": [],
   "source": [
    "mySongs.db_close()"
   ]
  },
  {
   "cell_type": "code",
   "execution_count": 10,
   "id": "95880f86-8dd0-488b-8d8f-40c7ee29161e",
   "metadata": {},
   "outputs": [],
   "source": [
    "song_eng_full=\"\"\"kuṅkumākta-kāñcanābja-garva-hāri-gaurabhā\n",
    "pītanāñcitābja-gandha-kīrti-nindi-saurabhā\n",
    "ballaveśa-sūnu-sarva-vāñcitārtha-sādhikā\n",
    "mahyam ātma-pāda-padma-dāsya-dāstu rādhikā | 1 |\n",
    "\n",
    "kauravinda-kānti-nindi-citra-paṭṭa-śāṭikā\n",
    "kṛṣṇa-matta-bhṛṅga-keli-phulla-puṣpa-vāṭikā\n",
    "kṛṣṇa-nitya-saṅgamārtha-padma-bandhu-rādhikā\n",
    "mahyam ātma-pāda-padma-dāsya-dāstu rādhikā | 2 |\n",
    "\n",
    "saukumārya-sṛṣṭa-pallavāli-kīrti-nigrahā\n",
    "candra-candanotpalendu-sevya-śīta-vigrahā\n",
    "svābhimarśa-ballavīśa-kāma-tāpa-bādhikā\n",
    "mahyam ātma-pāda-padma-dāsya-dāstu rādhikā | 3 |\n",
    "\n",
    "viśva-vandya-yauvatābhivanditāpi yā ramā\n",
    "rūpa-navya-yauvanādi-saṁpadā na yat-samā\n",
    "śīla-hārda-līlayā ca sā yato ‘sti nādhikā\n",
    "mahyam ātma-pāda-padma-dāsya-dāstu rādhikā | 4 |\n",
    "\n",
    "rāsa-lāsya-gīta-narma-sat-kalāli-paṇḍitā\n",
    "prema-ramya-rūpa-veśa-sad-guṇāli-maṇḍitā\n",
    "viśva-navya-gopa-yoṣid-ālito ‘pi yādhikā\n",
    "mahyam ātma-pāda-padma-dāsya-dāstu rādhikā | 5 |\n",
    "\n",
    "nitya-navya-rūpa-keli-kṛṣṇa-bhāva-sampadā\n",
    "kṛṣṇa-rāga-bandha-gopa-yauvateṣu kampadā\n",
    "kṛṣṇa-rūpa-veśa-keli-lagna-sat-samādhikā\n",
    "mahyam ātma-pāda-padma-dāsya-dāstu rādhikā | 6 |\n",
    "\n",
    "sveda-kampa-kaṇṭakāśru-gadgadādi-sañcitā\n",
    "marṣa-harṣa-vāmatādi-bhāva-bhuṣaṇāñcitā \n",
    "kṛṣṇa-netra-toṣi-ratna-maṇḍanāli-dādhikā\n",
    "mahyam ātma-pāda-padma-dāsya-dāstu rādhikā | 7 |\n",
    "\n",
    "yā kṣaṇārdha-kṛṣṇa-viprayoga-santatoditāneka-\n",
    "dainya-cāpalādi-bhāva-vṛnda-toditā \n",
    "yatna-labdha-kṛṣṇa-saṅga-nirgatākhilādhikā\n",
    "mahyam ātma-pāda-padma-dāsya-dāstu rādhikā | 8 |\n",
    "\n",
    "aṣṭakena yas tv anena nauti kṛṣṇa-vallabhāḿ\n",
    "darśane ‘pi śailajādi-yoṣidāli-durlabhām\n",
    "kṛṣṇa-sańga-nanditātma-dāsya-sīdhu-bhājanaḿ\n",
    "taḿ karoti nanditāli-sañcayāśu sā janam | 9 |\"\"\""
   ]
  },
  {
   "cell_type": "code",
   "execution_count": 11,
   "id": "bd983f3e-dc6a-4111-ab10-65c0d5fda47f",
   "metadata": {},
   "outputs": [
    {
     "name": "stdout",
     "output_type": "stream",
     "text": [
      "9\n"
     ]
    },
    {
     "data": {
      "text/plain": [
       "['kuṅkumākta-kāñcanābja-garva-hāri-gaurabhā\\npītanāñcitābja-gandha-kīrti-nindi-saurabhā\\nballaveśa-sūnu-sarva-vāñcitārtha-sādhikā\\nmahyam ātma-pāda-padma-dāsya-dāstu rādhikā | 1 |',\n",
       " 'kauravinda-kānti-nindi-citra-paṭṭa-śāṭikā\\nkṛṣṇa-matta-bhṛṅga-keli-phulla-puṣpa-vāṭikā\\nkṛṣṇa-nitya-saṅgamārtha-padma-bandhu-rādhikā\\nmahyam ātma-pāda-padma-dāsya-dāstu rādhikā | 2 |',\n",
       " 'saukumārya-sṛṣṭa-pallavāli-kīrti-nigrahā\\ncandra-candanotpalendu-sevya-śīta-vigrahā\\nsvābhimarśa-ballavīśa-kāma-tāpa-bādhikā\\nmahyam ātma-pāda-padma-dāsya-dāstu rādhikā | 3 |',\n",
       " 'viśva-vandya-yauvatābhivanditāpi yā ramā\\nrūpa-navya-yauvanādi-saṁpadā na yat-samā\\nśīla-hārda-līlayā ca sā yato ‘sti nādhikā\\nmahyam ātma-pāda-padma-dāsya-dāstu rādhikā | 4 |',\n",
       " 'rāsa-lāsya-gīta-narma-sat-kalāli-paṇḍitā\\nprema-ramya-rūpa-veśa-sad-guṇāli-maṇḍitā\\nviśva-navya-gopa-yoṣid-ālito ‘pi yādhikā\\nmahyam ātma-pāda-padma-dāsya-dāstu rādhikā | 5 |',\n",
       " 'nitya-navya-rūpa-keli-kṛṣṇa-bhāva-sampadā\\nkṛṣṇa-rāga-bandha-gopa-yauvateṣu kampadā\\nkṛṣṇa-rūpa-veśa-keli-lagna-sat-samādhikā\\nmahyam ātma-pāda-padma-dāsya-dāstu rādhikā | 6 |',\n",
       " 'sveda-kampa-kaṇṭakāśru-gadgadādi-sañcitā\\nmarṣa-harṣa-vāmatādi-bhāva-bhuṣaṇāñcitā \\nkṛṣṇa-netra-toṣi-ratna-maṇḍanāli-dādhikā\\nmahyam ātma-pāda-padma-dāsya-dāstu rādhikā | 7 |',\n",
       " 'yā kṣaṇārdha-kṛṣṇa-viprayoga-santatoditāneka-\\ndainya-cāpalādi-bhāva-vṛnda-toditā \\nyatna-labdha-kṛṣṇa-saṅga-nirgatākhilādhikā\\nmahyam ātma-pāda-padma-dāsya-dāstu rādhikā | 8 |',\n",
       " 'aṣṭakena yas tv anena nauti kṛṣṇa-vallabhāḿ\\ndarśane ‘pi śailajādi-yoṣidāli-durlabhām\\nkṛṣṇa-sańga-nanditātma-dāsya-sīdhu-bhājanaḿ\\ntaḿ karoti nanditāli-sañcayāśu sā janam | 9 |']"
      ]
     },
     "execution_count": 11,
     "metadata": {},
     "output_type": "execute_result"
    }
   ],
   "source": [
    "print(len(song_eng_full.split('\\n\\n')))\n",
    "song_eng_full.split('\\n\\n')"
   ]
  },
  {
   "cell_type": "code",
   "execution_count": 27,
   "id": "652fb7f0-a2bb-4125-843a-de04721f60b7",
   "metadata": {},
   "outputs": [],
   "source": [
    "song_trans_full =\"\"\"Her splendrous golden complexion steals the pride of a golden lotus flower anointed with a tinge of red kunkum powder.\n",
    "Her sweet fragrance mocks the fame of the aroma of a lotus flower sprinkled with saffron powder.\n",
    "She is fully qualified to fulfill all the desires of the son of the king of cowherd men.\n",
    "May Sri Radhika always bestow upon me the service of Her own lotus feet. | 1 |\n",
    "\n",
    "Her amazing and colorful silken garments make the splendour of coral feel ashamed.\n",
    "She is a garden of blossoming flowers where the maddened bumblebee named Krishna performs amorous pastimes.\n",
    "She worships the Sun-god daily in order to attain the continual association of Her beloved Krishna.\n",
    "May Sri Radhika always bestow upon me the service of Her own lotus feet. | 2 |\n",
    "\n",
    "Her charming youthful delicacy negates the fame of freshly-sprouted leaves.\n",
    "Her refreshing form is worthy of being served by the cooling moon, sandalwood paste, lotus flowers, and camphor.\n",
    "When She touches the master of the gopis, She dispels the burning heat of His lusty desires.\n",
    "May Sri Radhika always bestow upon me the service of Her own lotus feet. | 3 |\n",
    "\n",
    "Although the goddess of fortune Lakshmi Devi is adored by other youthful goddesses, who are themselves glorified throughout all the universe,\n",
    "still she is nowhere near Sri Radhika in the matter of beauty, praiseworthy youthfulness, or other divine feminine opulences.\n",
    "There is no one in the material or spiritual worlds superior to Radhika in the expression of naturally loving pastimes.\n",
    "May Sri Radhika always bestow upon me the service of Her own lotus feet. | 4 |\n",
    "\n",
    "She is very learned in many transcendental arts, such as performing in the rasa dance, singing, and joking.\n",
    "She is decorated with many divine qualities, such as loving nature, exquisite beauty, and wonderful garments and ornaments.\n",
    "Even among the cowherd damsels of Vraja, who are praised by the entire universe, She is the best in every way.\n",
    "May Sri Radhika always bestow upon me the service of Her own lotus feet. | 5 |\n",
    "\n",
    "She possesses the opulences of eternal youthful beauty, eternal pastimes, and eternal love for Krishna.\n",
    "Her ecstatic feelings of love for Krishna cause the gopis, who are also in love with Krishna, to tremble.\n",
    "She is always attached to meditating on Sri Krishnas beautiful form, ornaments, garments, and pastimes.\n",
    "May Sri Radhika always bestow upon me the service of Her own lotus feet. | 6 |\n",
    "\n",
    "She is graced with eight ecstatic symptoms (sattvika-bhava), such as trembling, perspiring, standing up on bodily hairs, tears, faltering of the voice, and so forth.\n",
    "She is adorned with different ecstatic emotional ornaments, such as impatience, joy, contrariness, and so forth.\n",
    "She is decorated with beautiful jewels that give total delight to the eyes of Krishna.\n",
    "May Sri Radhika always bestow upon me the service of Her own lotus feet. | 7 |\n",
    "\n",
    "If She is apart from Krsna, for even half a moment, She becomes stricken with wretched suffering, restlessness, and a multitude of other ecstatic symptoms of separation.\n",
    "When She regains the association of Krishna after some effort, then all Her anguish immediately vanishes.\n",
    "May Sri Radhika always bestow upon me the service of Her own lotus feet. | 8 |\n",
    "\n",
    "It is very difficult for Parvati and other exalted goddesses to attain even a glimpse of Srimati Radharani, who is dear to Lord Krsna.\n",
    "But if someone glorifies Her by reciting these eight verses, then She who is delighted by Krsnas continuous association will grant the sweet nectar of Her personal service to that person, who thereby enters the assembly of Her similarly delighted girlfriends.| 9 |\"\"\""
   ]
  },
  {
   "cell_type": "code",
   "execution_count": 28,
   "id": "e496ed20-4f43-4b0a-862d-0a17355ab026",
   "metadata": {},
   "outputs": [
    {
     "name": "stdout",
     "output_type": "stream",
     "text": [
      "9\n"
     ]
    },
    {
     "data": {
      "text/plain": [
       "['Her splendrous golden complexion steals the pride of a golden lotus flower anointed with a tinge of red kunkum powder.\\nHer sweet fragrance mocks the fame of the aroma of a lotus flower sprinkled with saffron powder.\\nShe is fully qualified to fulfill all the desires of the son of the king of cowherd men.\\nMay Sri Radhika always bestow upon me the service of Her own lotus feet. | 1 |',\n",
       " 'Her amazing and colorful silken garments make the splendour of coral feel ashamed.\\nShe is a garden of blossoming flowers where the maddened bumblebee named Krishna performs amorous pastimes.\\nShe worships the Sun-god daily in order to attain the continual association of Her beloved Krishna.\\nMay Sri Radhika always bestow upon me the service of Her own lotus feet. | 2 |',\n",
       " 'Her charming youthful delicacy negates the fame of freshly-sprouted leaves.\\nHer refreshing form is worthy of being served by the cooling moon, sandalwood paste, lotus flowers, and camphor.\\nWhen She touches the master of the gopis, She dispels the burning heat of His lusty desires.\\nMay Sri Radhika always bestow upon me the service of Her own lotus feet. | 3 |',\n",
       " 'Although the goddess of fortune Lakshmi Devi is adored by other youthful goddesses, who are themselves glorified throughout all the universe,\\nstill she is nowhere near Sri Radhika in the matter of beauty, praiseworthy youthfulness, or other divine feminine opulences.\\nThere is no one in the material or spiritual worlds superior to Radhika in the expression of naturally loving pastimes.\\nMay Sri Radhika always bestow upon me the service of Her own lotus feet. | 4 |',\n",
       " 'She is very learned in many transcendental arts, such as performing in the rasa dance, singing, and joking.\\nShe is decorated with many divine qualities, such as loving nature, exquisite beauty, and wonderful garments and ornaments.\\nEven among the cowherd damsels of Vraja, who are praised by the entire universe, She is the best in every way.\\nMay Sri Radhika always bestow upon me the service of Her own lotus feet. | 5 |',\n",
       " 'She possesses the opulences of eternal youthful beauty, eternal pastimes, and eternal love for Krishna.\\nHer ecstatic feelings of love for Krishna cause the gopis, who are also in love with Krishna, to tremble.\\nShe is always attached to meditating on Sri Krishnas beautiful form, ornaments, garments, and pastimes.\\nMay Sri Radhika always bestow upon me the service of Her own lotus feet. | 6 |',\n",
       " 'She is graced with eight ecstatic symptoms (sattvika-bhava), such as trembling, perspiring, standing up on bodily hairs, tears, faltering of the voice, and so forth.\\nShe is adorned with different ecstatic emotional ornaments, such as impatience, joy, contrariness, and so forth.\\nShe is decorated with beautiful jewels that give total delight to the eyes of Krishna.\\nMay Sri Radhika always bestow upon me the service of Her own lotus feet. | 7 |',\n",
       " 'If She is apart from Krsna, for even half a moment, She becomes stricken with wretched suffering, restlessness, and a multitude of other ecstatic symptoms of separation.\\nWhen She regains the association of Krishna after some effort, then all Her anguish immediately vanishes.\\nMay Sri Radhika always bestow upon me the service of Her own lotus feet. | 8 |',\n",
       " 'It is very difficult for Parvati and other exalted goddesses to attain even a glimpse of Srimati Radharani, who is dear to Lord Krsna.\\nBut if someone glorifies Her by reciting these eight verses, then She who is delighted by Krsnas continuous association will grant the sweet nectar of Her personal service to that person, who thereby enters the assembly of Her similarly delighted girlfriends.| 9 |']"
      ]
     },
     "execution_count": 28,
     "metadata": {},
     "output_type": "execute_result"
    }
   ],
   "source": [
    "print(len(song_trans_full.split('\\n\\n')))\n",
    "song_trans_full.split('\\n\\n')"
   ]
  },
  {
   "cell_type": "code",
   "execution_count": 29,
   "id": "af4c01e6-83c5-46a7-b24e-f5cd979477ee",
   "metadata": {},
   "outputs": [
    {
     "name": "stdout",
     "output_type": "stream",
     "text": [
      "INSERT INTO Songs (song_idx, slokas_no, sloka_eng, translation) VALUES (4, 1, '''kuṅkumākta-kāñcanābja-garva-hāri-gaurabhā\n",
      "pītanāñcitābja-gandha-kīrti-nindi-saurabhā\n",
      "ballaveśa-sūnu-sarva-vāñcitārtha-sādhikā\n",
      "mahyam ātma-pāda-padma-dāsya-dāstu rādhikā | 1 |''', '''Her splendrous golden complexion steals the pride of a golden lotus flower anointed with a tinge of red kunkum powder.\n",
      "Her sweet fragrance mocks the fame of the aroma of a lotus flower sprinkled with saffron powder.\n",
      "She is fully qualified to fulfill all the desires of the son of the king of cowherd men.\n",
      "May Sri Radhika always bestow upon me the service of Her own lotus feet. | 1 |''');\n",
      "INSERT INTO Songs (song_idx, slokas_no, sloka_eng, translation) VALUES (4, 2, '''kauravinda-kānti-nindi-citra-paṭṭa-śāṭikā\n",
      "kṛṣṇa-matta-bhṛṅga-keli-phulla-puṣpa-vāṭikā\n",
      "kṛṣṇa-nitya-saṅgamārtha-padma-bandhu-rādhikā\n",
      "mahyam ātma-pāda-padma-dāsya-dāstu rādhikā | 2 |''', '''Her amazing and colorful silken garments make the splendour of coral feel ashamed.\n",
      "She is a garden of blossoming flowers where the maddened bumblebee named Krishna performs amorous pastimes.\n",
      "She worships the Sun-god daily in order to attain the continual association of Her beloved Krishna.\n",
      "May Sri Radhika always bestow upon me the service of Her own lotus feet. | 2 |''');\n",
      "INSERT INTO Songs (song_idx, slokas_no, sloka_eng, translation) VALUES (4, 3, '''saukumārya-sṛṣṭa-pallavāli-kīrti-nigrahā\n",
      "candra-candanotpalendu-sevya-śīta-vigrahā\n",
      "svābhimarśa-ballavīśa-kāma-tāpa-bādhikā\n",
      "mahyam ātma-pāda-padma-dāsya-dāstu rādhikā | 3 |''', '''Her charming youthful delicacy negates the fame of freshly-sprouted leaves.\n",
      "Her refreshing form is worthy of being served by the cooling moon, sandalwood paste, lotus flowers, and camphor.\n",
      "When She touches the master of the gopis, She dispels the burning heat of His lusty desires.\n",
      "May Sri Radhika always bestow upon me the service of Her own lotus feet. | 3 |''');\n",
      "INSERT INTO Songs (song_idx, slokas_no, sloka_eng, translation) VALUES (4, 4, '''viśva-vandya-yauvatābhivanditāpi yā ramā\n",
      "rūpa-navya-yauvanādi-saṁpadā na yat-samā\n",
      "śīla-hārda-līlayā ca sā yato ‘sti nādhikā\n",
      "mahyam ātma-pāda-padma-dāsya-dāstu rādhikā | 4 |''', '''Although the goddess of fortune Lakshmi Devi is adored by other youthful goddesses, who are themselves glorified throughout all the universe,\n",
      "still she is nowhere near Sri Radhika in the matter of beauty, praiseworthy youthfulness, or other divine feminine opulences.\n",
      "There is no one in the material or spiritual worlds superior to Radhika in the expression of naturally loving pastimes.\n",
      "May Sri Radhika always bestow upon me the service of Her own lotus feet. | 4 |''');\n",
      "INSERT INTO Songs (song_idx, slokas_no, sloka_eng, translation) VALUES (4, 5, '''rāsa-lāsya-gīta-narma-sat-kalāli-paṇḍitā\n",
      "prema-ramya-rūpa-veśa-sad-guṇāli-maṇḍitā\n",
      "viśva-navya-gopa-yoṣid-ālito ‘pi yādhikā\n",
      "mahyam ātma-pāda-padma-dāsya-dāstu rādhikā | 5 |''', '''She is very learned in many transcendental arts, such as performing in the rasa dance, singing, and joking.\n",
      "She is decorated with many divine qualities, such as loving nature, exquisite beauty, and wonderful garments and ornaments.\n",
      "Even among the cowherd damsels of Vraja, who are praised by the entire universe, She is the best in every way.\n",
      "May Sri Radhika always bestow upon me the service of Her own lotus feet. | 5 |''');\n",
      "INSERT INTO Songs (song_idx, slokas_no, sloka_eng, translation) VALUES (4, 6, '''nitya-navya-rūpa-keli-kṛṣṇa-bhāva-sampadā\n",
      "kṛṣṇa-rāga-bandha-gopa-yauvateṣu kampadā\n",
      "kṛṣṇa-rūpa-veśa-keli-lagna-sat-samādhikā\n",
      "mahyam ātma-pāda-padma-dāsya-dāstu rādhikā | 6 |''', '''She possesses the opulences of eternal youthful beauty, eternal pastimes, and eternal love for Krishna.\n",
      "Her ecstatic feelings of love for Krishna cause the gopis, who are also in love with Krishna, to tremble.\n",
      "She is always attached to meditating on Sri Krishnas beautiful form, ornaments, garments, and pastimes.\n",
      "May Sri Radhika always bestow upon me the service of Her own lotus feet. | 6 |''');\n",
      "INSERT INTO Songs (song_idx, slokas_no, sloka_eng, translation) VALUES (4, 7, '''sveda-kampa-kaṇṭakāśru-gadgadādi-sañcitā\n",
      "marṣa-harṣa-vāmatādi-bhāva-bhuṣaṇāñcitā \n",
      "kṛṣṇa-netra-toṣi-ratna-maṇḍanāli-dādhikā\n",
      "mahyam ātma-pāda-padma-dāsya-dāstu rādhikā | 7 |''', '''She is graced with eight ecstatic symptoms (sattvika-bhava), such as trembling, perspiring, standing up on bodily hairs, tears, faltering of the voice, and so forth.\n",
      "She is adorned with different ecstatic emotional ornaments, such as impatience, joy, contrariness, and so forth.\n",
      "She is decorated with beautiful jewels that give total delight to the eyes of Krishna.\n",
      "May Sri Radhika always bestow upon me the service of Her own lotus feet. | 7 |''');\n",
      "INSERT INTO Songs (song_idx, slokas_no, sloka_eng, translation) VALUES (4, 8, '''yā kṣaṇārdha-kṛṣṇa-viprayoga-santatoditāneka-\n",
      "dainya-cāpalādi-bhāva-vṛnda-toditā \n",
      "yatna-labdha-kṛṣṇa-saṅga-nirgatākhilādhikā\n",
      "mahyam ātma-pāda-padma-dāsya-dāstu rādhikā | 8 |''', '''If She is apart from Krsna, for even half a moment, She becomes stricken with wretched suffering, restlessness, and a multitude of other ecstatic symptoms of separation.\n",
      "When She regains the association of Krishna after some effort, then all Her anguish immediately vanishes.\n",
      "May Sri Radhika always bestow upon me the service of Her own lotus feet. | 8 |''');\n",
      "INSERT INTO Songs (song_idx, slokas_no, sloka_eng, translation) VALUES (4, 9, '''aṣṭakena yas tv anena nauti kṛṣṇa-vallabhāḿ\n",
      "darśane ‘pi śailajādi-yoṣidāli-durlabhām\n",
      "kṛṣṇa-sańga-nanditātma-dāsya-sīdhu-bhājanaḿ\n",
      "taḿ karoti nanditāli-sañcayāśu sā janam | 9 |''', '''It is very difficult for Parvati and other exalted goddesses to attain even a glimpse of Srimati Radharani, who is dear to Lord Krsna.\n",
      "But if someone glorifies Her by reciting these eight verses, then She who is delighted by Krsnas continuous association will grant the sweet nectar of Her personal service to that person, who thereby enters the assembly of Her similarly delighted girlfriends.| 9 |''');\n",
      "(4, 1, None, \"'kuṅkumākta-kāñcanābja-garva-hāri-gaurabhā\\npītanāñcitābja-gandha-kīrti-nindi-saurabhā\\nballaveśa-sūnu-sarva-vāñcitārtha-sādhikā\\nmahyam ātma-pāda-padma-dāsya-dāstu rādhikā | 1 |'\", None, \"'Her splendrous golden complexion steals the pride of a golden lotus flower anointed with a tinge of red kunkum powder.\\nHer sweet fragrance mocks the fame of the aroma of a lotus flower sprinkled with saffron powder.\\nShe is fully qualified to fulfill all the desires of the son of the king of cowherd men.\\nMay Sri Radhika always bestow upon me the service of Her own lotus feet. | 1 |'\", None)\n",
      "(4, 2, None, \"'kauravinda-kānti-nindi-citra-paṭṭa-śāṭikā\\nkṛṣṇa-matta-bhṛṅga-keli-phulla-puṣpa-vāṭikā\\nkṛṣṇa-nitya-saṅgamārtha-padma-bandhu-rādhikā\\nmahyam ātma-pāda-padma-dāsya-dāstu rādhikā | 2 |'\", None, \"'Her amazing and colorful silken garments make the splendour of coral feel ashamed.\\nShe is a garden of blossoming flowers where the maddened bumblebee named Krishna performs amorous pastimes.\\nShe worships the Sun-god daily in order to attain the continual association of Her beloved Krishna.\\nMay Sri Radhika always bestow upon me the service of Her own lotus feet. | 2 |'\", None)\n",
      "(4, 3, None, \"'saukumārya-sṛṣṭa-pallavāli-kīrti-nigrahā\\ncandra-candanotpalendu-sevya-śīta-vigrahā\\nsvābhimarśa-ballavīśa-kāma-tāpa-bādhikā\\nmahyam ātma-pāda-padma-dāsya-dāstu rādhikā | 3 |'\", None, \"'Her charming youthful delicacy negates the fame of freshly-sprouted leaves.\\nHer refreshing form is worthy of being served by the cooling moon, sandalwood paste, lotus flowers, and camphor.\\nWhen She touches the master of the gopis, She dispels the burning heat of His lusty desires.\\nMay Sri Radhika always bestow upon me the service of Her own lotus feet. | 3 |'\", None)\n",
      "(4, 4, None, \"'viśva-vandya-yauvatābhivanditāpi yā ramā\\nrūpa-navya-yauvanādi-saṁpadā na yat-samā\\nśīla-hārda-līlayā ca sā yato ‘sti nādhikā\\nmahyam ātma-pāda-padma-dāsya-dāstu rādhikā | 4 |'\", None, \"'Although the goddess of fortune Lakshmi Devi is adored by other youthful goddesses, who are themselves glorified throughout all the universe,\\nstill she is nowhere near Sri Radhika in the matter of beauty, praiseworthy youthfulness, or other divine feminine opulences.\\nThere is no one in the material or spiritual worlds superior to Radhika in the expression of naturally loving pastimes.\\nMay Sri Radhika always bestow upon me the service of Her own lotus feet. | 4 |'\", None)\n",
      "(4, 5, None, \"'rāsa-lāsya-gīta-narma-sat-kalāli-paṇḍitā\\nprema-ramya-rūpa-veśa-sad-guṇāli-maṇḍitā\\nviśva-navya-gopa-yoṣid-ālito ‘pi yādhikā\\nmahyam ātma-pāda-padma-dāsya-dāstu rādhikā | 5 |'\", None, \"'She is very learned in many transcendental arts, such as performing in the rasa dance, singing, and joking.\\nShe is decorated with many divine qualities, such as loving nature, exquisite beauty, and wonderful garments and ornaments.\\nEven among the cowherd damsels of Vraja, who are praised by the entire universe, She is the best in every way.\\nMay Sri Radhika always bestow upon me the service of Her own lotus feet. | 5 |'\", None)\n",
      "(4, 6, None, \"'nitya-navya-rūpa-keli-kṛṣṇa-bhāva-sampadā\\nkṛṣṇa-rāga-bandha-gopa-yauvateṣu kampadā\\nkṛṣṇa-rūpa-veśa-keli-lagna-sat-samādhikā\\nmahyam ātma-pāda-padma-dāsya-dāstu rādhikā | 6 |'\", None, \"'She possesses the opulences of eternal youthful beauty, eternal pastimes, and eternal love for Krishna.\\nHer ecstatic feelings of love for Krishna cause the gopis, who are also in love with Krishna, to tremble.\\nShe is always attached to meditating on Sri Krishnas beautiful form, ornaments, garments, and pastimes.\\nMay Sri Radhika always bestow upon me the service of Her own lotus feet. | 6 |'\", None)\n",
      "(4, 7, None, \"'sveda-kampa-kaṇṭakāśru-gadgadādi-sañcitā\\nmarṣa-harṣa-vāmatādi-bhāva-bhuṣaṇāñcitā \\nkṛṣṇa-netra-toṣi-ratna-maṇḍanāli-dādhikā\\nmahyam ātma-pāda-padma-dāsya-dāstu rādhikā | 7 |'\", None, \"'She is graced with eight ecstatic symptoms (sattvika-bhava), such as trembling, perspiring, standing up on bodily hairs, tears, faltering of the voice, and so forth.\\nShe is adorned with different ecstatic emotional ornaments, such as impatience, joy, contrariness, and so forth.\\nShe is decorated with beautiful jewels that give total delight to the eyes of Krishna.\\nMay Sri Radhika always bestow upon me the service of Her own lotus feet. | 7 |'\", None)\n",
      "(4, 8, None, \"'yā kṣaṇārdha-kṛṣṇa-viprayoga-santatoditāneka-\\ndainya-cāpalādi-bhāva-vṛnda-toditā \\nyatna-labdha-kṛṣṇa-saṅga-nirgatākhilādhikā\\nmahyam ātma-pāda-padma-dāsya-dāstu rādhikā | 8 |'\", None, \"'If She is apart from Krsna, for even half a moment, She becomes stricken with wretched suffering, restlessness, and a multitude of other ecstatic symptoms of separation.\\nWhen She regains the association of Krishna after some effort, then all Her anguish immediately vanishes.\\nMay Sri Radhika always bestow upon me the service of Her own lotus feet. | 8 |'\", None)\n",
      "(4, 9, None, \"'aṣṭakena yas tv anena nauti kṛṣṇa-vallabhāḿ\\ndarśane ‘pi śailajādi-yoṣidāli-durlabhām\\nkṛṣṇa-sańga-nanditātma-dāsya-sīdhu-bhājanaḿ\\ntaḿ karoti nanditāli-sañcayāśu sā janam | 9 |'\", None, \"'It is very difficult for Parvati and other exalted goddesses to attain even a glimpse of Srimati Radharani, who is dear to Lord Krsna.\\nBut if someone glorifies Her by reciting these eight verses, then She who is delighted by Krsnas continuous association will grant the sweet nectar of Her personal service to that person, who thereby enters the assembly of Her similarly delighted girlfriends.| 9 |'\", None)\n"
     ]
    }
   ],
   "source": [
    "temp_song = dict()\n",
    "temp_song['song_idx'] = 4\n",
    "temp_song['slokas_no'] = 1\n",
    "# temp_song['sloka_hindi'] =  None\n",
    "temp_song['sloka_eng'] = None\n",
    "# temp_song['synonyms'] = None\n",
    "temp_song['translation'] = None\n",
    "# temp_song['purpot']= None\n",
    "for i in range(0,9):\n",
    "    temp_song['slokas_no'] = i+1\n",
    "    temp_song['sloka_eng'] = song_eng_full.split('\\n\\n')[i]\n",
    "    temp_song['translation'] = song_trans_full.split('\\n\\n')[i]\n",
    "    # print(temp_song)\n",
    "    # print()\n",
    "    mySongs.create_entry(**temp_song)\n",
    "\n",
    "mySongs.read_entry()\n",
    "    # print(i)"
   ]
  },
  {
   "cell_type": "code",
   "execution_count": 16,
   "id": "a17b6340-f375-4de7-9e5e-72ab030f9da3",
   "metadata": {},
   "outputs": [
    {
     "name": "stdout",
     "output_type": "stream",
     "text": [
      "adsafdsa's\n"
     ]
    }
   ],
   "source": [
    "# print('adsafdsa\\'s')"
   ]
  },
  {
   "cell_type": "code",
   "execution_count": 33,
   "id": "d986b8df-88b8-40b2-b39a-1cfcf8d497ea",
   "metadata": {},
   "outputs": [
    {
     "data": {
      "text/plain": [
       "\"adsdfa'sadsfadsfaasdfasd\""
      ]
     },
     "execution_count": 33,
     "metadata": {},
     "output_type": "execute_result"
    }
   ],
   "source": [
    "r\"adsdfa'sadsfadsfa{}\".format('asdfasd')"
   ]
  },
  {
   "cell_type": "code",
   "execution_count": 11,
   "id": "0b40acff-8e1f-40c3-bf5e-13a34e80881b",
   "metadata": {},
   "outputs": [
    {
     "name": "stdout",
     "output_type": "stream",
     "text": [
      "['kuṅkuma = Saffron', 'ākta = anointed, ointment, tinged , smeared over', 'kāñcana = golden', 'abja = lotus, born in water', 'gaura = blonde,fair, dignity, admiration, splendorous', 'ābhā = appearance, similar, splendor, glamour', 'pītana= saffron', 'añcita= worshipped', 'abja= lotus, born in water', 'saurabha = saffon, perfume,fragrance', 'ballaveśa = krishna,  ballava(cowherd)+ veṣa( dress)', 'sūnu = son, offspring ', 'sarva = whole, entire, all, every', 'vāñcita= wished,tricked, desire, beloved ', 'artha = object of desire', 'vāñcitārtha = one who full will all the desire']\n"
     ]
    }
   ],
   "source": [
    "\n",
    "synonyms= \"\"\"kuṅkuma = Saffron; ākta = anointed, ointment, tinged , smeared over;\n",
    "kāñcana = golden; abja = lotus, born in water; gaura = blonde,fair, dignity, admiration, splendorous;\n",
    "ābhā = appearance, similar, splendor, glamour;\n",
    "pītana= saffron; añcita= worshipped; abja= lotus, born in water; saurabha = saffon, perfume,fragrance;\n",
    "ballaveśa = krishna,  ballava(cowherd)+ veṣa( dress); sūnu = son, offspring ; sarva = whole, entire, all, every;\n",
    "vāñcita= wished,tricked, desire, beloved ; artha = object of desire; vāñcitārtha = one who full will all the desire\"\"\"\n",
    "\n",
    "print(' '.join(synonyms.split('\\n')).split('; '))"
   ]
  },
  {
   "cell_type": "code",
   "execution_count": 15,
   "id": "4857e713-2381-4aa5-9b99-1277ac34abbf",
   "metadata": {},
   "outputs": [
    {
     "name": "stdout",
     "output_type": "stream",
     "text": [
      "[{'kuṅkuma': 'Saffron'}, {'ākta': 'anointed, ointment, tinged , smeared over'}, {'kāñcana': 'golden'}, {'abja': 'lotus, born in water'}, {'gaura': 'blonde,fair, dignity, admiration, splendorous'}, {'ābhā': 'appearance, similar, splendor, glamour'}, {'pītana': 'saffron'}, {'añcita': 'worshipped'}, {'abja': 'lotus, born in water'}, {'saurabha': 'saffon, perfume,fragrance'}, {'ballaveśa': 'krishna,  ballava(cowherd)+ veṣa( dress)'}, {'sūnu': 'son, offspring'}, {'sarva': 'whole, entire, all, every'}, {'vāñcita': 'wished,tricked, desire, beloved'}, {'artha': 'object of desire'}, {'vāñcitārtha': 'one who full will all the desire'}]\n"
     ]
    }
   ],
   "source": [
    "new_synonyms = ' '.join(synonyms.split('\\n')).split('; ')\n",
    "\n",
    "result = []\n",
    "for item in new_synonyms:\n",
    "    pairs = item.split('=')\n",
    "    # print(pairs)\n",
    "    temp_dic=dict()\n",
    "    temp_dic[pairs[0].strip()] = pairs[1].strip()\n",
    "    result.append(temp_dic)\n",
    "\n",
    "print(result)\n"
   ]
  },
  {
   "cell_type": "code",
   "execution_count": null,
   "id": "865b9ca2-acef-4a50-9b41-237f199f2bcb",
   "metadata": {},
   "outputs": [],
   "source": []
  }
 ],
 "metadata": {
  "kernelspec": {
   "display_name": "Python 3 (ipykernel)",
   "language": "python",
   "name": "python3"
  },
  "language_info": {
   "codemirror_mode": {
    "name": "ipython",
    "version": 3
   },
   "file_extension": ".py",
   "mimetype": "text/x-python",
   "name": "python",
   "nbconvert_exporter": "python",
   "pygments_lexer": "ipython3",
   "version": "3.11.5"
  }
 },
 "nbformat": 4,
 "nbformat_minor": 5
}
