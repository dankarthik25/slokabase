{
 "cells": [
  {
   "cell_type": "code",
   "execution_count": 1,
   "id": "7f03d85f-abd1-4683-b043-6c3cd1bb844f",
   "metadata": {},
   "outputs": [],
   "source": [
    "def get_insert_query(table_name,**kwargs):\n",
    "    # get_insert_query(Song_Index ,song_name = 'Nector of Instruction', song_short_name ='noi', sloka_statues=1)\n",
    "    # print(type(kwargs))\n",
    "    comma = r', '    \n",
    "    Entry_Field =   ', '.join(list(kwargs.keys())) \n",
    "    # print(Entry_Field) # >>> song_name, song_short_name, sloka_statues\n",
    "    Entry_Value = ''\n",
    "    \n",
    "    for key, value in kwargs.items():\n",
    "        if isinstance(value, str): # type(value) == 'str': \n",
    "            Entry_Value = Entry_Value + \"\"\"'{}'{}\"\"\".format(str(value),comma)    \n",
    "        else:\n",
    "            Entry_Value = Entry_Value + \"\"\"{}{}\"\"\".format(str(value),comma)    \n",
    "            # Entry_Value +  str() + '=' + str(value) + comma\n",
    "    Entry_Value = Entry_Value.rstrip(comma)\n",
    "    # print(Entry_Value)  # >>> 'Nector of Instruction', 'noi', 1\n",
    "\n",
    "    query = \"\"\"INSERT INTO {} ({}) VALUES ({});\"\"\".format(table_name,Entry_Field, Entry_Value)        \n",
    "    # >>> INSERT INTO SongIndex (song_name, song_short_name, sloka_statues) VALUES ('Nector of Instruction', 'noi', 1);\n",
    "\n",
    "    return query\n",
    "\n",
    "\n",
    "\n",
    "\n",
    "def get_update_query(table_name, **kwargs):\n",
    "    query = \"UPDATE {} SET \".format(table_name)\n",
    "\n",
    "    last_key = list(kwargs.keys())[-1]\n",
    "    if isinstance(kwargs[last_key], str):\n",
    "        query_ending = \" WHERE {}='{}'\".format(last_key, kwargs[last_key])\n",
    "    else:\n",
    "        query_ending = \" WHERE {}={}\".format(last_key, kwargs[last_key])\n",
    "    del kwargs[last_key]\n",
    "    \n",
    "    comma = r', '\n",
    "    for key, value in kwargs.items():\n",
    "        if isinstance(value, str):\n",
    "            query =  \"\"\"{} {}='{}'{} \"\"\".format(query, key,value,comma)  #  query + str(key) + '=' + str(value) + comma\n",
    "        else:\n",
    "            query =  \"\"\"{} {}={}{} \"\"\".format(query, key,str(value),comma)  \n",
    "\n",
    "    query = query.rstrip(comma) \n",
    "    \n",
    "    query += query_ending\n",
    "    \n",
    "    # print(query)   # >>> UPDATE store SET quantity=10, price=15 WHERE item=10\n",
    "    return query\n",
    "    \n",
    "# get_update_query('store', quantity=10, price=15, item='indian mango')\n",
    "        # UPDATE store SET quantity=10, price=15 WHERE item='indian mango'\n",
    "# get_update_query('store', quantity=10, price=15, item=10)\n",
    "        # UPDATE store SET quantity=10, price=15 WHERE item=10\n",
    "\n",
    "def get_delete_query(table_name, **kwargs):\n",
    "    table_index = list(kwargs.keys())[0]\n",
    "    query = \"DELETE FROM {} WHERE {} = {};\".format(table_name,table_index, kwargs[table_index] )\n",
    "    return query\n"
   ]
  },
  {
   "cell_type": "code",
   "execution_count": 2,
   "id": "c89700f2-09cf-444d-aa78-a70bab415d5a",
   "metadata": {},
   "outputs": [
    {
     "name": "stdout",
     "output_type": "stream",
     "text": [
      "/media/karthik/myVolume/workspace/workspae_vedabase/slokabase.db\n"
     ]
    }
   ],
   "source": [
    "import os, sqlite3 \n",
    "\n",
    "db_name = 'slokabase.db'\n",
    "db_path = os.path.join(os.getcwd(),db_name)\n",
    "table_name = 'SongIndex'\n",
    "print(db_path)\n",
    "\n",
    "        \n",
    "class SongIndex():\n",
    "    def __init__(self,db_path,table_name):\n",
    "        self.db_path = db_path\n",
    "        self.table_name = table_name\n",
    "        self.db_connect = sqlite3.connect(db_path) # OperationalError: database is locked may occur to reduce try  <db.connections.close_all()>\n",
    "                                                # https://www.geeksforgeeks.org/how-to-list-tables-using-sqlite3-in-python/?ref=lbp\n",
    "    \n",
    "    def create_table(self):\n",
    "        # self.db_connect = sqlite3.connect(db_path)\n",
    "        self.db_cursor = self.db_connect.cursor()\n",
    "        \n",
    "        self.db_cursor.execute(\"\"\"CREATE TABLE  if not exists  SongIndex (\n",
    "                                    \tsong_idx INTEGER PRIMARY KEY , \n",
    "                                    \tsong_name VARCHAR(100) NOT NULL UNIQUE, \n",
    "                                    \tsong_short_name VARCHAR(100) NOT NULL UNIQUE, \n",
    "                                    \tsloka_statues BOOLEAN NOT NULL CHECK (sloka_statues IN (0, 1)),                                     \n",
    "                                    \tdivision VARCHAR(100), \n",
    "                                    \tdivision_no INTEGER, \n",
    "                                    \ttotal_slokas INTEGER, \n",
    "                                        groups VARCHAR(100), \n",
    "                                    \tdevotion_god VARCHAR(100), \n",
    "                                    \tauthor VARCHAR(100), \n",
    "                                    \tdescribtion TEXT, \n",
    "                                    \tother_links TEXT\n",
    "                                        )\"\"\")\n",
    "        self.db_connect.commit()\n",
    "        # auto_increment and delete on cascade https://stackoverflow.com/questions/29037793/sqlite-integrityerror-unique-constraint-failed\n",
    "        self.db_cursor.close()\n",
    "        # self.db_connect.close()\n",
    "\n",
    "    def create_entry(self, **kwargs):\n",
    "        # print(kwargs)\n",
    "        # print(get_insert_query(**kwargs))\n",
    "        query = get_insert_query(self.table_name,**kwargs)\n",
    "        # source code : https://sqlite.oDELETE FROM COMPANY WHERE ID = 7;rg/forum/info/fa9e5bf90aed1d720bae5428b307bbfff0b1b3b98ec71643f1d98c3ed3e2bc5a\n",
    "        # self.db_connect = sqlite3.connect(db_path)\n",
    "        self.db_cursor = self.db_connect.cursor()\n",
    "        # query = \"\"\"INSERT INTO SongIndex ( \"song_name\", \"song_short_name\", \"sloka_statues\")\n",
    "        #             VALUES ( 'Nector of Instruction', 'noi', 0);\"\"\" # .formate\n",
    "        try :\n",
    "            self.db_cursor.execute(query)        \n",
    "            self.db_connect.commit()\n",
    "            # self.db_cursor.execute(\"\"\"INSERT INTO SongIndex (song_name, song_short_name, sloka_statues)VALUES (?,?,?);\"\"\", \n",
    "            #                        ( 'Nector of Instruction', 'noi', 0))                    \n",
    "            # raise IntegrityError\n",
    "        except sqlite3.IntegrityError as e:\n",
    "            print('Exception: {}'.format(e))\n",
    "\n",
    "        finally:\n",
    "            self.db_cursor.close()      \n",
    "            # self.db_connect.close()\n",
    "            # self.db.connections.close_all()\n",
    "    \n",
    "    def read_entry(self):\n",
    "        query = \"SELECT * FROM {};\".format(self.table_name)\n",
    "        self.db_cursor = self.db_connect.cursor()\n",
    "        try :\n",
    "            self.db_cursor.execute(query)\n",
    "            rows = self.db_cursor.fetchall()\n",
    "\n",
    "            for row in rows:\n",
    "                print(row)\n",
    "\n",
    "        except Error as e:\n",
    "            print('Exception: {}'.format(e))\n",
    "        finally:\n",
    "            self.db_cursor.close()\n",
    "\n",
    "    def update_entry(self, **kwargs):\n",
    "        query = get_update_query(self.table_name,**kwargs)\n",
    "        self.db_cursor = self.db_connect.cursor()\n",
    "        print(query)\n",
    "        try :\n",
    "            self.db_cursor.execute(query)        \n",
    "            self.db_connect.commit()\n",
    "        except sqlite3.Error as e:\n",
    "            print('Exception: {}'.format(e))\n",
    "\n",
    "        finally:\n",
    "            self.db_cursor.close()\n",
    "\n",
    "    def delete_entry(self, **kwargs):\n",
    "        self.db_cursor = self.db_connect.cursor()\n",
    "        self.db_connect.commit()\n",
    "    \n",
    "        query = get_delete_query(self.table_name, **kwargs)\n",
    "        print(query)\n",
    "        try :\n",
    "            self.db_cursor.execute(query)        \n",
    "        except sqlite3.Error as e:\n",
    "            print('Exception: {}'.format(e))\n",
    "\n",
    "        finally:\n",
    "            self.db_cursor.close()\n",
    "            \n",
    "    def db_close(self):\n",
    "        self.db_connect.close()\n",
    "        \n",
    "    \n"
   ]
  },
  {
   "cell_type": "code",
   "execution_count": 3,
   "id": "8c77c21f-4668-471b-bc88-b88266127e48",
   "metadata": {},
   "outputs": [],
   "source": [
    "mySlokaIndex = SongIndex(db_path,table_name) # Connect to Table inside a given db "
   ]
  },
  {
   "cell_type": "code",
   "execution_count": 4,
   "id": "703281f5-c0cd-43b8-95b0-abfb06b93c5c",
   "metadata": {},
   "outputs": [],
   "source": [
    " \n",
    "mySlokaIndex.create_table() # Create table\n",
    "mySlokaIndex.create_entry(song_name = 'Nector of Instruction', song_short_name ='noi', sloka_statues=1,division_no=0)\n",
    "mySlokaIndex.create_entry(song_name = 'Brahma-saṁhitā', song_short_name ='bs', sloka_statues=1,division_no=0)\n",
    "mySlokaIndex.create_entry(song_name = 'Śrī Īśopaniṣad', song_short_name ='iso', sloka_statues=1,division_no=0)\n",
    "# Śrī Īśopaniṣad"
   ]
  },
  {
   "cell_type": "code",
   "execution_count": 5,
   "id": "d7d1151e-e2f3-4833-9fff-c326beab2dc7",
   "metadata": {},
   "outputs": [
    {
     "name": "stdout",
     "output_type": "stream",
     "text": [
      "Exception: UNIQUE constraint failed: SongIndex.song_short_name\n"
     ]
    }
   ],
   "source": [
    "mySlokaIndex.create_entry(song_name = 'Nector of Instruction', song_short_name ='noi', sloka_statues=1,division_no=0)"
   ]
  },
  {
   "cell_type": "code",
   "execution_count": 6,
   "id": "9e72c012-fe34-4baa-97f5-2b0271ff99ce",
   "metadata": {},
   "outputs": [
    {
     "name": "stdout",
     "output_type": "stream",
     "text": [
      "(1, 'Nector of Instruction', 'noi', 1, None, 0, None, None, None, None, None, None)\n",
      "(2, 'Brahma-saṁhitā', 'bs', 1, None, 0, None, None, None, None, None, None)\n",
      "(3, 'Śrī Īśopaniṣad', 'iso', 1, None, 0, None, None, None, None, None, None)\n"
     ]
    }
   ],
   "source": [
    "mySlokaIndex.read_entry()"
   ]
  },
  {
   "cell_type": "code",
   "execution_count": 7,
   "id": "ab92a9b2-f25e-482b-95f7-22d5c679619d",
   "metadata": {},
   "outputs": [
    {
     "name": "stdout",
     "output_type": "stream",
     "text": [
      "UPDATE SongIndex SET  song_name='Nector of Instruction 2',   song_short_name='noi',   sloka_statues=1 WHERE song_idx=1\n",
      "(1, 'Nector of Instruction 2', 'noi', 1, None, 0, None, None, None, None, None, None)\n",
      "(2, 'Brahma-saṁhitā', 'bs', 1, None, 0, None, None, None, None, None, None)\n",
      "(3, 'Śrī Īśopaniṣad', 'iso', 1, None, 0, None, None, None, None, None, None)\n"
     ]
    }
   ],
   "source": [
    "mySlokaIndex.update_entry(song_name = 'Nector of Instruction 2', song_short_name ='noi', sloka_statues=1, song_idx=1)\n",
    "mySlokaIndex.read_entry()"
   ]
  },
  {
   "cell_type": "code",
   "execution_count": 8,
   "id": "56257272-c5b5-46f2-9f51-59bbbd0c7211",
   "metadata": {},
   "outputs": [
    {
     "name": "stdout",
     "output_type": "stream",
     "text": [
      "DELETE FROM SongIndex WHERE song_idx = 1;\n",
      "(2, 'Brahma-saṁhitā', 'bs', 1, None, 0, None, None, None, None, None, None)\n",
      "(3, 'Śrī Īśopaniṣad', 'iso', 1, None, 0, None, None, None, None, None, None)\n"
     ]
    }
   ],
   "source": [
    "mySlokaIndex.delete_entry(song_idx=1)\n",
    "mySlokaIndex.read_entry()"
   ]
  },
  {
   "cell_type": "code",
   "execution_count": 9,
   "id": "7cdb95ac-c90f-4db8-ba57-de69cbd5759c",
   "metadata": {},
   "outputs": [
    {
     "name": "stdout",
     "output_type": "stream",
     "text": [
      "(2, 'Brahma-saṁhitā', 'bs', 1, None, 0, None, None, None, None, None, None)\n",
      "(3, 'Śrī Īśopaniṣad', 'iso', 1, None, 0, None, None, None, None, None, None)\n",
      "(4, 'Nector of Instruction', 'noi', 1, None, 0, None, None, None, None, None, None)\n"
     ]
    }
   ],
   "source": [
    "mySlokaIndex.create_entry(song_name = 'Nector of Instruction', song_short_name ='noi', sloka_statues=1,division_no=0)\n",
    "mySlokaIndex.read_entry()"
   ]
  },
  {
   "cell_type": "code",
   "execution_count": 7,
   "id": "30c3bdd0-c273-48be-acdb-0ff9963f54bd",
   "metadata": {},
   "outputs": [
    {
     "name": "stdout",
     "output_type": "stream",
     "text": [
      "(1, 'Nector of Instruction', 'noi', 1, None, 0, None, None, None, None, None, None)\n",
      "(2, 'Brahma-saṁhitā', 'bs', 1, None, 0, None, None, None, None, None, None)\n",
      "(3, 'Śrī Īśopaniṣad', 'iso', 1, None, 0, None, None, None, None, None, None)\n",
      "(4, 'Radhika Astakam', 'radastk', 1, None, 0, None, None, None, 'Krishnadasa Kaviraja Goswami', None, None)\n"
     ]
    }
   ],
   "source": [
    "mySlokaIndex.create_entry(song_name = 'Radhika Astakam', song_short_name ='radastk', sloka_statues=1,division_no=0,author='Krishnadasa Kaviraja Goswami')\n",
    "mySlokaIndex.read_entry() "
   ]
  },
  {
   "cell_type": "code",
   "execution_count": 8,
   "id": "f8acaf5f-0a7f-4b90-981f-95cdf08b4ba9",
   "metadata": {},
   "outputs": [],
   "source": [
    "mySlokaIndex.db_close()"
   ]
  },
  {
   "cell_type": "code",
   "execution_count": null,
   "id": "eb314f02-a5ea-45e8-9a6c-808e1b0162c6",
   "metadata": {},
   "outputs": [],
   "source": []
  }
 ],
 "metadata": {
  "kernelspec": {
   "display_name": "Python 3 (ipykernel)",
   "language": "python",
   "name": "python3"
  },
  "language_info": {
   "codemirror_mode": {
    "name": "ipython",
    "version": 3
   },
   "file_extension": ".py",
   "mimetype": "text/x-python",
   "name": "python",
   "nbconvert_exporter": "python",
   "pygments_lexer": "ipython3",
   "version": "3.11.5"
  }
 },
 "nbformat": 4,
 "nbformat_minor": 5
}
