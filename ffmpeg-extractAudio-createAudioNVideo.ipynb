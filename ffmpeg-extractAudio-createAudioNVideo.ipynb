{
 "cells": [
  {
   "cell_type": "code",
   "execution_count": 13,
   "id": "16bcf16a-c47f-441d-b621-e4925dab5e30",
   "metadata": {},
   "outputs": [],
   "source": [
    "import subprocess\n",
    "import os \n",
    "\n",
    "video_file_name ='AigiriNandini-MahishasuraMardiniStuti.mp4'\n",
    "\n",
    "video_file_path = os.path.join(os.getcwd(),'AigiriNandini-MahishasuraMardiniStuti.mp4')\n",
    "# If video file is not in the jupyter current dir then video path is bleow :\n",
    "# video_file_path = '/media/karthik/myVolume/Spritual/mashisasura/AigiriNandini-MahishasuraMardiniStuti.mp4'\n",
    "\n",
    "frame_dir = 'recorded-video' \n",
    "frame_img_reg = '%06d.png'\n",
    "frame_rate = '25'\n",
    "screen_aspect_ratio = '1280x720'\n",
    "output_video = 'output4.mp4'\n",
    "resolution = 'yuv420p'  # pixel formate 720p"
   ]
  },
  {
   "cell_type": "markdown",
   "id": "c5dcc719-9f3e-4197-bdcd-aacc2f44deef",
   "metadata": {},
   "source": [
    "# Extract audio from video with ffmpeg\n",
    "\n",
    "```python\n",
    "ffmpeg -i input-video.avi -vn -acodec copy output-audio.aac  # source : https://stackoverflow.com/questions/9913032/how-can-i-extract-audio-from-video-with-ffmpeg\n",
    "# -vn is no video.\n",
    "# -acodec copy says use the same audio stream that's already in there.\n",
    "\n",
    "ffmpeg -i sample.avi -q:a 0 -map a sample.mp3\n",
    "# -q      : is variable bitrate\n",
    "# -map a  : map only <a> audio \n",
    "\n",
    "ffmpeg -i input.mov -map 0:a -c copy output.mov # \n",
    "f'ffmpeg -i {frame_dir}/{frame_img_reg} -c:v libx264 -r {frame_rate} -s {screen_aspect_ratio}  -pix_fmt {resolution} {output_video}'\n",
    "```"
   ]
  },
  {
   "cell_type": "code",
   "execution_count": 18,
   "id": "ad96e827-e0c5-49c7-bfd4-e0e0cdb8f8df",
   "metadata": {},
   "outputs": [
    {
     "name": "stdout",
     "output_type": "stream",
     "text": [
      "ffmpeg -i AigiriNandini-MahishasuraMardiniStuti.mp4 -map 0:a -c copy AigiriNandini-MahishasuraMardiniStuti.mov\n"
     ]
    }
   ],
   "source": [
    "# shell_cmd = f'''ffmpeg -i {video_file_name} -q:a 0 -map a {os.path.splitext(video_file_name)[0]+'.acc'}'''\n",
    "shell_cmd = f'''ffmpeg -i {video_file_name} -map 0:a -c copy {os.path.splitext(video_file_name)[0]+'.mov'}'''\n",
    "# shell_cmd = f'''ffmpeg -i {video_file_name} -vn -acodec copy {os.path.splitext(video_file_name)[0]+'.acc'}'''\n",
    "\n",
    "print(shell_cmd)\n",
    "res = subprocess.run (shell_cmd,shell=True,  stdout=subprocess.PIPE)\n"
   ]
  },
  {
   "cell_type": "code",
   "execution_count": null,
   "id": "1e78ca4e-1929-465f-b7fb-4805d1db85cf",
   "metadata": {},
   "outputs": [],
   "source": [
    "# Create video with images and audio file\n",
    "# ffmpeg -i still.png -i narrate.wav -acodec libvo_aacenc -vcodec libx264 final.flv\n",
    "# source: https://superuser.com/questions/1041816/combine-one-image-one-audio-file-to-make-one-video-using-ffmpeg"
   ]
  },
  {
   "cell_type": "code",
   "execution_count": null,
   "id": "dcc8c402-29bd-45a0-971a-8148141c0167",
   "metadata": {},
   "outputs": [],
   "source": []
  },
  {
   "cell_type": "code",
   "execution_count": 23,
   "id": "b34d3c68-ff0c-483e-8783-65547cbad3af",
   "metadata": {},
   "outputs": [
    {
     "name": "stdout",
     "output_type": "stream",
     "text": [
      "ffmpeg -i recorded-video/%06d.png -i AigiriNandini-MahishasuraMardiniStuti.mov -acodec copy  -vcodec libx264 -r 25 -s 1280x720  -pix_fmt yuv420p output4.mp4\n"
     ]
    },
    {
     "name": "stderr",
     "output_type": "stream",
     "text": [
      "ffmpeg version 4.2.2 Copyright (c) 2000-2019 the FFmpeg developers\n",
      "  built with gcc 7.3.0 (crosstool-NG 1.23.0.449-a04d0)\n",
      "  configuration: --prefix=/tmp/build/80754af9/ffmpeg_1587154242452/_h_env_placehold_placehold_placehold_placehold_placehold_placehold_placehold_placehold_placehold_placehold_placehold_placehold_placehold_placehold_placehold_placehold_placehold_placehold_placehold_placehold_placeho --cc=/tmp/build/80754af9/ffmpeg_1587154242452/_build_env/bin/x86_64-conda_cos6-linux-gnu-cc --disable-doc --enable-avresample --enable-gmp --enable-hardcoded-tables --enable-libfreetype --enable-libvpx --enable-pthreads --enable-libopus --enable-postproc --enable-pic --enable-pthreads --enable-shared --enable-static --enable-version3 --enable-zlib --enable-libmp3lame --disable-nonfree --enable-gpl --enable-gnutls --disable-openssl --enable-libopenh264 --enable-libx264\n",
      "  libavutil      56. 31.100 / 56. 31.100\n",
      "  libavcodec     58. 54.100 / 58. 54.100\n",
      "  libavformat    58. 29.100 / 58. 29.100\n",
      "  libavdevice    58.  8.100 / 58.  8.100\n",
      "  libavfilter     7. 57.100 /  7. 57.100\n",
      "  libavresample   4.  0.  0 /  4.  0.  0\n",
      "  libswscale      5.  5.100 /  5.  5.100\n",
      "  libswresample   3.  5.100 /  3.  5.100\n",
      "  libpostproc    55.  5.100 / 55.  5.100\n",
      "Input #0, image2, from 'recorded-video/%06d.png':\n",
      "  Duration: 00:14:16.92, start: 0.000000, bitrate: N/A\n",
      "    Stream #0:0: Video: png, rgb24(pc), 1366x768, 25 fps, 25 tbr, 25 tbn, 25 tbc\n",
      "Input #1, mov,mp4,m4a,3gp,3g2,mj2, from 'AigiriNandini-MahishasuraMardiniStuti.mov':\n",
      "  Metadata:\n",
      "    major_brand     : qt  \n",
      "    minor_version   : 512\n",
      "    compatible_brands: qt  \n",
      "    encoder         : Lavf58.29.100\n",
      "  Duration: 00:14:16.93, start: 0.000000, bitrate: 129 kb/s\n",
      "    Stream #1:0: Audio: aac (LC) (mp4a / 0x6134706D), 44100 Hz, stereo, fltp, 128 kb/s (default)\n",
      "    Metadata:\n",
      "      handler_name    : ISO Media file produced by Google Inc. Created on: 08/16/2021.\n",
      "Stream mapping:\n",
      "  Stream #0:0 -> #0:0 (png (native) -> h264 (libx264))\n",
      "  Stream #1:0 -> #0:1 (copy)\n",
      "Press [q] to stop, [?] for help\n",
      "[image2 @ 0x561f429e1540] Thread message queue blocking; consider raising the thread_queue_size option (current value: 8)\n",
      "[libx264 @ 0x561f429eb700] using cpu capabilities: MMX2 SSE2Fast SSSE3 SSE4.2 AVX FMA3 BMI2 AVX2\n",
      "[libx264 @ 0x561f429eb700] profile High, level 3.1, 4:2:0, 8-bit\n",
      "[libx264 @ 0x561f429eb700] 264 - core 157 - H.264/MPEG-4 AVC codec - Copyleft 2003-2018 - http://www.videolan.org/x264.html - options: cabac=1 ref=3 deblock=1:0:0 analyse=0x3:0x113 me=hex subme=7 psy=1 psy_rd=1.00:0.00 mixed_ref=1 me_range=16 chroma_me=1 trellis=1 8x8dct=1 cqm=0 deadzone=21,11 fast_pskip=1 chroma_qp_offset=-2 threads=6 lookahead_threads=1 sliced_threads=0 nr=0 decimate=1 interlaced=0 bluray_compat=0 constrained_intra=0 bframes=3 b_pyramid=2 b_adapt=1 b_bias=0 direct=1 weightb=1 open_gop=0 weightp=2 keyint=250 keyint_min=25 scenecut=40 intra_refresh=0 rc_lookahead=40 rc=crf mbtree=1 crf=23.0 qcomp=0.60 qpmin=0 qpmax=69 qpstep=4 ip_ratio=1.40 aq=1:1.00\n",
      "Output #0, mp4, to 'output4.mp4':\n",
      "  Metadata:\n",
      "    encoder         : Lavf58.29.100\n",
      "    Stream #0:0: Video: h264 (libx264) (avc1 / 0x31637661), yuv420p, 1280x720, q=-1--1, 25 fps, 12800 tbn, 25 tbc\n",
      "    Metadata:\n",
      "      encoder         : Lavc58.54.100 libx264\n",
      "    Side data:\n",
      "      cpb: bitrate max/min/avg: 0/0/0 buffer size: 0 vbv_delay: -1\n",
      "    Stream #0:1: Audio: aac (LC) (mp4a / 0x6134706D), 44100 Hz, stereo, fltp, 128 kb/s (default)\n",
      "    Metadata:\n",
      "      handler_name    : ISO Media file produced by Google Inc. Created on: 08/16/2021.\n",
      "frame=21423 fps= 87 q=-1.0 Lsize=   30829kB time=00:14:16.90 bitrate= 294.7kbits/s speed=3.47x    \n",
      "video:16736kB audio:13390kB subtitle:0kB other streams:0kB global headers:0kB muxing overhead: 2.333230%\n",
      "[libx264 @ 0x561f429eb700] frame I:92    Avg QP:15.04  size:166543\n",
      "[libx264 @ 0x561f429eb700] frame P:5395  Avg QP:14.54  size:   211\n",
      "[libx264 @ 0x561f429eb700] frame B:15936 Avg QP:22.57  size:    43\n",
      "[libx264 @ 0x561f429eb700] consecutive B-frames:  0.8%  0.0%  0.1% 99.1%\n",
      "[libx264 @ 0x561f429eb700] mb I  I16..4: 33.9% 25.5% 40.6%\n",
      "[libx264 @ 0x561f429eb700] mb P  I16..4:  0.0%  0.0%  0.0%  P16..4:  0.1%  0.0%  0.0%  0.0%  0.0%    skip:99.9%\n",
      "[libx264 @ 0x561f429eb700] mb B  I16..4:  0.0%  0.0%  0.0%  B16..8:  0.1%  0.0%  0.0%  direct: 0.0%  skip:99.8%  L0:40.9% L1:59.1% BI: 0.0%\n",
      "[libx264 @ 0x561f429eb700] 8x8 transform intra:30.0% inter:13.2%\n",
      "[libx264 @ 0x561f429eb700] coded y,uvDC,uvAC intra: 36.9% 43.8% 43.2% inter: 0.0% 0.0% 0.0%\n",
      "[libx264 @ 0x561f429eb700] i16 v,h,dc,p: 64% 36%  1%  0%\n",
      "[libx264 @ 0x561f429eb700] i8 v,h,dc,ddl,ddr,vr,hd,vl,hu: 30% 26% 35%  1%  1%  1%  1%  1%  3%\n",
      "[libx264 @ 0x561f429eb700] i4 v,h,dc,ddl,ddr,vr,hd,vl,hu: 29% 33% 10%  2%  5%  5%  6%  4%  6%\n",
      "[libx264 @ 0x561f429eb700] i8c dc,h,v,p: 65% 17% 15%  3%\n",
      "[libx264 @ 0x561f429eb700] Weighted P-Frames: Y:0.0% UV:0.0%\n",
      "[libx264 @ 0x561f429eb700] ref P L0: 81.3%  7.7%  9.6%  1.4%\n",
      "[libx264 @ 0x561f429eb700] ref B L0: 59.3% 40.2%  0.4%\n",
      "[libx264 @ 0x561f429eb700] ref B L1: 99.2%  0.8%\n",
      "[libx264 @ 0x561f429eb700] kb/s:159.98\n"
     ]
    }
   ],
   "source": [
    "# shell_cmd =f'''ffmpeg -i {frame_dir}/{frame_img_reg} -i {video_file_name+'.mov'} -c:v libx264 -r {frame_rate} -s {screen_aspect_ratio}  -pix_fmt {resolution} {output_video}'''\n",
    "shell_cmd =f'''ffmpeg -i {frame_dir}/{frame_img_reg} -i {os.path.splitext(video_file_name)[0]+'.mov'} -acodec copy  -vcodec libx264 -r {frame_rate} -s {screen_aspect_ratio}  -pix_fmt {resolution} {output_video}'''\n",
    "print(shell_cmd)\n",
    "res = subprocess.run (shell_cmd,shell=True,  stdout=subprocess.PIPE)\n",
    "# print('Returncode:',res.returncode)\n",
    "# print('Stderr:',res.stderr.decode())\n",
    "# print('Stdout:',res.stdout.decode())\n"
   ]
  },
  {
   "cell_type": "code",
   "execution_count": null,
   "id": "bef1f678-9ea8-4642-aeab-4d7b5fa4aeed",
   "metadata": {},
   "outputs": [],
   "source": []
  }
 ],
 "metadata": {
  "kernelspec": {
   "display_name": "Python 3 (ipykernel)",
   "language": "python",
   "name": "python3"
  },
  "language_info": {
   "codemirror_mode": {
    "name": "ipython",
    "version": 3
   },
   "file_extension": ".py",
   "mimetype": "text/x-python",
   "name": "python",
   "nbconvert_exporter": "python",
   "pygments_lexer": "ipython3",
   "version": "3.10.13"
  }
 },
 "nbformat": 4,
 "nbformat_minor": 5
}
