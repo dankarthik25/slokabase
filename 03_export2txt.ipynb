{
 "cells": [
  {
   "cell_type": "code",
   "execution_count": 1,
   "id": "5d3b7581-4aa0-4e75-97f4-44f5a34c4d82",
   "metadata": {},
   "outputs": [],
   "source": [
    "from slokabase.SqliteModel import get_create_table_query, get_insert_query, get_read_query, get_update_query, get_delete_query\n",
    "from slokabase.SqliteModel import SqliteModel"
   ]
  },
  {
   "cell_type": "code",
   "execution_count": 2,
   "id": "c902d12c-5efc-4b40-b239-76119d034036",
   "metadata": {},
   "outputs": [],
   "source": [
    "import os, sqlite3 \n",
    "# db_name = 'slokabase_10.db'\n",
    "db_name = 'slokabase.db'\n",
    "db_path = os.path.join(os.getcwd(),db_name)"
   ]
  },
  {
   "cell_type": "code",
   "execution_count": 3,
   "id": "f29714d7-f3be-4450-ac52-3887f475d700",
   "metadata": {},
   "outputs": [],
   "source": [
    "SongIndex_sql = SqliteModel(db_path,'SongIndex')\n",
    "mySongs_sql = SqliteModel(db_path,'Songs')"
   ]
  },
  {
   "cell_type": "code",
   "execution_count": 5,
   "id": "38b8eb8e-de0b-4286-828c-aff08031510e",
   "metadata": {},
   "outputs": [],
   "source": [
    "# Create Table if Not Created  and add song as showen in 02_AddNewSong.ipynb\n",
    "    # The Song List should not be empty if not we can't export the file"
   ]
  },
  {
   "cell_type": "markdown",
   "id": "ad0aa6d0-aecc-441f-a8af-366f808e502e",
   "metadata": {},
   "source": [
    "## Add Song Info to Database"
   ]
  },
  {
   "cell_type": "code",
   "execution_count": 6,
   "id": "183bc37b-d4ec-406f-927c-8c85b466e03b",
   "metadata": {},
   "outputs": [],
   "source": [
    "# get seleted song by 'song_idx' \n",
    "mysong_index =1\n"
   ]
  },
  {
   "cell_type": "code",
   "execution_count": 11,
   "id": "0c22348e-485d-42a3-b6b7-3cb14e5a0db8",
   "metadata": {},
   "outputs": [
    {
     "data": {
      "text/plain": [
       "{'song_idx': 5,\n",
       " 'song_name': 'Sri Dasavatara Stotram',\n",
       " 'song_short_name': 'SDasaVatStot',\n",
       " 'sloka_statues': 1,\n",
       " 'division': None,\n",
       " 'division_no': 0,\n",
       " 'total_slokas': None,\n",
       " 'groups': None,\n",
       " 'devotion_god': None,\n",
       " 'author': 'Jayadeva Goswami',\n",
       " 'describtion': 'some',\n",
       " 'other_links': 'http://kksongs.org/songs/p/pralayapayodhijale.html <br>\\nhttp://kksongs.org/synonym/p/pralayapayodhijale.html'}"
      ]
     },
     "execution_count": 11,
     "metadata": {},
     "output_type": "execute_result"
    }
   ],
   "source": [
    "# Get Song Info \n",
    "songIdx_info = SongIndex_sql.read_entry(song_idx=mysong_index)[0]\n",
    "songIdx_info\n",
    "# mysong_name = SongIndex_sql.read_entry(*['song_name'],song_idx=5)[0]['song_name'].replace(\" \",\"\")"
   ]
  },
  {
   "cell_type": "code",
   "execution_count": 6,
   "id": "25029886-82f3-487f-90c2-fdb40e8366e1",
   "metadata": {},
   "outputs": [],
   "source": [
    "file_path = 'Lyrics/test_copy.txt'\n",
    "mysong_idx = 4\n",
    "# song_type = 'sloka_eng'\n",
    "# song_type = 'synonyms'\n",
    "song_type = 'translation'\n",
    "\n",
    "def write_song(file_path, song_type, mySongs_sql, mysong_idx):\n",
    "    start_sloka_no=0\n",
    "    buffer = []\n",
    "    for line in mySongs_sql.read_entry(*[song_type,'slokas_no'],song_idx=mysong_idx):\n",
    "        buffer.append(line[song_type])\n",
    "        if start_sloka_no != line['slokas_no']:\n",
    "            buffer.append('\\n\\n')\n",
    "            start_sloka_no = line['slokas_no']\n",
    "    del buffer[-1]\n",
    "    # print(buffer)\n",
    "    # print(''.join(buffer))\n",
    "    with open(file_path, 'w') as wf:\n",
    "        wf.write(''.join(buffer))\n",
    "        \n",
    "write_song(file_path, song_type, mySongs_sql,mysong_idx)"
   ]
  },
  {
   "cell_type": "code",
   "execution_count": 7,
   "id": "69941d0d-ac21-4426-a64b-6fa751403720",
   "metadata": {},
   "outputs": [
    {
     "name": "stdout",
     "output_type": "stream",
     "text": [
      "{'song_idx': 4, 'song_name': 'Radhika Astakam', 'song_short_name': 'radastk', 'sloka_statues': 1, 'division': None, 'division_no': 0, 'total_slokas': None, 'groups': None, 'devotion_god': None, 'author': 'Krishnadasa Kaviraja Goswami', 'describtion': None, 'other_links': 'Sankrit Dictionary:\\nhttps://www.learnsanskrit.cc/translate\\nhttps://vedabase.io/en/search/synonyms/\\n\\nLyrics : \\nhttp://kksongs.org/songs/k/kunkumaktakancanabja.html\\n\\nYoutuve Video \\nhttps://www.youtube.com/watch?v=ZBk4MLiWIc8\\nhttps://www.youtube.com/watch?v=nIGuUCKjxP0&t=47s\\nhttps://www.youtube.com/watch?v=tdx1KybTnpE\\nhttps://www.youtube.com/watch?v=-54D7Y1Qis0\\n'}\n",
      "Lyrics/02-RadhikaAstakam-sloka_eng.txt sloka_eng\n",
      "Lyrics/02-RadhikaAstakam-synonyms.txt synonyms\n",
      "Lyrics/02-RadhikaAstakam-translation.txt translation\n",
      "Lyrics/02-RadhikaAstakam-info.json\n"
     ]
    }
   ],
   "source": [
    "# mysong_idx = 1 # Sri Dashavatara Stotram\n",
    "mysong_idx =4 # Radhika Astakam\n",
    "\n",
    "songIdx_info = SongIndex_sql.read_entry(song_idx=mysong_idx)[0]\n",
    "print(songIdx_info)\n",
    "mysong_name = songIdx_info['song_name'].replace(\" \",\"\")\n",
    "\n",
    "\n",
    "\n",
    "# manual_idx = None\n",
    "manual_idx = 2 # For Radhika Astakam\n",
    "song_type = ['sloka_eng', 'synonyms','translation']\n",
    "\n",
    "for type in song_type: \n",
    "    if manual_idx:\n",
    "        file_path = f'Lyrics/{manual_idx:02}-{mysong_name}-{type}.txt'\n",
    "    else:\n",
    "        file_path = f'Lyrics/{mysong_idx:02}-{mysong_name}-{type}.txt'\n",
    "    print(file_path,type)\n",
    "    write_song(file_path, type, mySongs_sql,mysong_idx)\n",
    "\n",
    "import json     \n",
    "if manual_idx:\n",
    "    file_path = f'Lyrics/{manual_idx:02}-{mysong_name}-info.json'\n",
    "else:\n",
    "    file_path = f'Lyrics/{mysong_idx:02}-{mysong_name}-info.json'\n",
    "\n",
    "# file_path = f'Lyrics/{mysong_idx:02}-{mysong_name}-info.json'\n",
    "with open(file_path, \"w\") as wjson:\n",
    "    json.dump(songIdx_info, wjson)\n",
    "print(file_path)"
   ]
  },
  {
   "cell_type": "code",
   "execution_count": null,
   "id": "365acf51-c757-4a0a-87b0-f51319ce6bc7",
   "metadata": {},
   "outputs": [],
   "source": []
  },
  {
   "cell_type": "code",
   "execution_count": null,
   "id": "f5bec4fd-0203-4cf4-92e3-0215313ca289",
   "metadata": {},
   "outputs": [],
   "source": []
  },
  {
   "cell_type": "code",
   "execution_count": null,
   "id": "f0126861-60c5-487c-a5c0-96e3f89c7273",
   "metadata": {},
   "outputs": [],
   "source": []
  }
 ],
 "metadata": {
  "kernelspec": {
   "display_name": "Python 3 (ipykernel)",
   "language": "python",
   "name": "python3"
  },
  "language_info": {
   "codemirror_mode": {
    "name": "ipython",
    "version": 3
   },
   "file_extension": ".py",
   "mimetype": "text/x-python",
   "name": "python",
   "nbconvert_exporter": "python",
   "pygments_lexer": "ipython3",
   "version": "3.11.5"
  }
 },
 "nbformat": 4,
 "nbformat_minor": 5
}
