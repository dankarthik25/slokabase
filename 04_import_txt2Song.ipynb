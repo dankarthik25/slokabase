{
 "cells": [
  {
   "cell_type": "markdown",
   "id": "ac6e92f4-1e59-4da3-b55a-f1e100d205be",
   "metadata": {},
   "source": [
    "# `NOTE`: \n",
    "In Lyrics/*.txt if there is character( ' ) or (\") replace with `` and ``` otherwise it show error \\\n",
    "It is better to text to import file in new temp db if every thing is working fine the we can import it directly to main db"
   ]
  },
  {
   "cell_type": "code",
   "execution_count": 1,
   "id": "0b15dfd0-845d-4f50-b54e-145c011473f5",
   "metadata": {},
   "outputs": [],
   "source": [
    "from slokabase.SqliteModel import get_create_table_query, get_insert_query, get_read_query, get_update_query, get_delete_query\n",
    "from slokabase.SqliteModel import SqliteModel"
   ]
  },
  {
   "cell_type": "code",
   "execution_count": 2,
   "id": "7b9262ba-e3f7-4ad4-b27a-c47dbb61874e",
   "metadata": {},
   "outputs": [
    {
     "name": "stdout",
     "output_type": "stream",
     "text": [
      "/media/karthik/myVolume/workspace/workspae_vedabase/slokabase.db\n"
     ]
    }
   ],
   "source": [
    "import os, sqlite3 \n",
    "db_name = 'slokabase.db'\n",
    "# db_name = 'slokabase_new.db'\n",
    "\n",
    "db_path = os.path.join(os.getcwd(),db_name)\n",
    "print(db_path)"
   ]
  },
  {
   "cell_type": "code",
   "execution_count": 3,
   "id": "5c4e93eb-9af3-4fd5-bfa5-f6967d93c78b",
   "metadata": {},
   "outputs": [],
   "source": [
    "SongIndex_sql = SqliteModel(db_path,'SongIndex')\n",
    "mySongs_sql = SqliteModel(db_path,'Songs')"
   ]
  },
  {
   "cell_type": "code",
   "execution_count": 4,
   "id": "c8cb9c23-65bf-4bde-b4f0-4fee97757acd",
   "metadata": {},
   "outputs": [
    {
     "name": "stdout",
     "output_type": "stream",
     "text": [
      "Table : SongIndex Created Successful !\n",
      "Table : Songs Created Successful !\n"
     ]
    }
   ],
   "source": [
    "# Create Table if Not Created \n",
    "\n",
    "SongIndex_sql.create_table(\n",
    "                    song_idx='INTEGER PRIMARY KEY' , \n",
    "                    song_name='VARCHAR(100) NOT NULL UNIQUE', \n",
    "                    song_short_name='VARCHAR(100) NOT NULL UNIQUE', \n",
    "                    sloka_statues='BOOLEAN NOT NULL CHECK (sloka_statues IN (0, 1))',\n",
    "                    division='VARCHAR(100)',\n",
    "                    division_no='INTEGER',\n",
    "                    total_slokas='INTEGER',\n",
    "                    groups='VARCHAR(100)',\n",
    "                    devotion_god='VARCHAR(100)',\n",
    "                    author='VARCHAR(100)',\n",
    "                    describtion='TEXT',\n",
    "                    other_links='TEXT'\n",
    "                    )\n",
    "\n",
    "\n",
    "mySongs_sql.create_table(song_idx='INTEGER', \n",
    "                    slokas_no='INTEGER NOT NULL', \n",
    "                    sloka_hindi= 'TEXT',\n",
    "                    sloka_eng= 'TEXT',\n",
    "                    synonyms= 'TEXT',\n",
    "                    translation= 'TEXT',\n",
    "                    purpot= 'TEXT',\n",
    "                    FOREIGN = 'KEY (song_idx) REFERENCES SongIndex(song_idx)',\n",
    "                    PRIMARY= 'KEY (song_idx, slokas_no)')"
   ]
  },
  {
   "cell_type": "code",
   "execution_count": null,
   "id": "4b50b5c4-3bcf-4c52-bdb9-cee7eb355552",
   "metadata": {},
   "outputs": [],
   "source": [
    "\n"
   ]
  },
  {
   "cell_type": "code",
   "execution_count": 5,
   "id": "3f558578-47d7-46d3-be2d-7995b66189f5",
   "metadata": {},
   "outputs": [
    {
     "name": "stdout",
     "output_type": "stream",
     "text": [
      "{'song_name': 'Śri Narasimha Kavacaṁ Stotraṁ', 'song_short_name': 'ŚriNarasimhaKavacaṁ', 'sloka_statues': 1, 'division_no': 0}\n",
      "None\n",
      "[{'song_idx': 4, 'song_name': 'Śri Narasimha Kavacaṁ Stotraṁ', 'song_short_name': 'ŚriNarasimhaKavacaṁ', 'sloka_statues': 1, 'division': None, 'division_no': 0, 'total_slokas': None, 'groups': None, 'devotion_god': None, 'author': None, 'describtion': None, 'other_links': None}]\n"
     ]
    }
   ],
   "source": [
    "import json\n",
    "\n",
    "# mysong_idx = 1\n",
    "# mysong_name = 'SriDasavataraStotram'\n",
    "\n",
    "# mysong_idx = 2\n",
    "# mysong_name = \"RadhikaAstakam\"\n",
    "\n",
    "\n",
    "# mysong_idx = 3\n",
    "# mysong_name = \"govinda_dāmodara_mādhaveti\" # \"RadhikaAstakam\" \n",
    "\n",
    "mysong_idx = 4\n",
    "mysong_name = \"SriNarashimaKavacaStotram\" # \"RadhikaAstakam\" \n",
    "\n",
    "# # # # # # # # # # # # # # # # # # # #\n",
    "# Upload Song Info (json) file to variable \n",
    "with open(f'Lyrics/{mysong_idx:02}-{mysong_name}-info.json') as json_file:\n",
    "    songIdx_info = json.load(json_file)\n",
    "print(songIdx_info)\n",
    "\n",
    "# songIdx_info['song_name'] = 'Śrī Govinda Dāmodara Stotram'\n",
    "\n",
    "# # # # # # # # # # # # # # # # # # # #\n",
    "# Create SongIndex for songIdx_info    \n",
    "print(SongIndex_sql.create_entry(**songIdx_info))\n",
    "\n",
    "print(SongIndex_sql.read_entry(**songIdx_info))\n",
    "\n"
   ]
  },
  {
   "cell_type": "code",
   "execution_count": 7,
   "id": "76790685-9b02-4288-be6e-3e48bd8a3c6d",
   "metadata": {},
   "outputs": [],
   "source": [
    "# # # # # # # # # # # # # # # # # # # #\n",
    "# Upload the Song file\n",
    "mysong_info = dict()\n",
    "mysong_info ['song_idx'] = SongIndex_sql.read_entry(*['song_idx'], **songIdx_info)[0]['song_idx']\n",
    "mysong_info['slokas_no'] = 1\n",
    "# mysong_info['sloka_hindi'] =  None\n",
    "mysong_info['sloka_eng'] = None\n",
    "# mysong_info['synonyms'] = None\n",
    "mysong_info['translation'] = None\n",
    "# mysong_info['purpot']=None\n"
   ]
  },
  {
   "cell_type": "code",
   "execution_count": 8,
   "id": "6fe282b7-ca25-4c89-9365-59af1342637d",
   "metadata": {},
   "outputs": [],
   "source": [
    "# song_type = ['sloka_eng', 'synonyms','translation']\n",
    "song_type = ['sloka_eng', 'translation']\n",
    "mysong = dict()\n",
    "for type in song_type:\n",
    "    with open(f'Lyrics/{mysong_idx:02}-{mysong_name}-{type}.txt') as f:\n",
    "        f_contents = f.read()              # read entire file\n",
    "    mysong[type] = f_contents.split('\\n\\n')"
   ]
  },
  {
   "cell_type": "code",
   "execution_count": 9,
   "id": "7bf19608-e09a-4656-93e5-5b774be09b49",
   "metadata": {},
   "outputs": [],
   "source": [
    "# print('\\n\\n'.join(mysong['sloka_eng']))\n",
    "# print('\\n\\n'.join()\n",
    "# mysong['sloka_eng'] = mysong['translation'][::2]\n",
    "# del mysong['sloka_eng'][-1]\n",
    "mysong['translation'] = mysong['translation'][1::2]\n",
    "      # mysong['sloka_eng'] = mysong['sloka_eng'][::2]\n"
   ]
  },
  {
   "cell_type": "code",
   "execution_count": 10,
   "id": "99e52a2c-21f2-4a8d-9b84-702f3ccad45d",
   "metadata": {},
   "outputs": [],
   "source": [
    "# print('\\n\\n'.join(mysong['sloka_eng']))\n",
    "# print('\\n\\n'.join(mysong['translation' ])) #  'sloka_eng']))\n",
    "# print(mysong['translation'])"
   ]
  },
  {
   "cell_type": "code",
   "execution_count": 11,
   "id": "fa1338c5-f805-43c1-96b8-061dd126bb2a",
   "metadata": {},
   "outputs": [
    {
     "name": "stdout",
     "output_type": "stream",
     "text": [
      "i 0\n",
      "i 1\n",
      "i 2\n",
      "i 3\n",
      "i 4\n",
      "i 5\n",
      "i 6\n",
      "i 7\n",
      "i 8\n",
      "i 9\n",
      "i 10\n",
      "i 11\n",
      "i 12\n",
      "i 13\n",
      "i 14\n",
      "i 15\n",
      "i 16\n",
      "i 17\n",
      "i 18\n",
      "i 19\n",
      "i 20\n",
      "i 21\n",
      "i 22\n",
      "i 23\n",
      "i 24\n",
      "i 25\n",
      "i 26\n",
      "i 27\n",
      "i 28\n",
      "i 29\n",
      "i 30\n",
      "i 31\n"
     ]
    }
   ],
   "source": [
    "# if ( len(mysong['sloka_eng']) == len(mysong['synonyms']) ) and (len(mysong['sloka_eng']) == len(mysong['translation'])):\n",
    "if (len(mysong['sloka_eng']) == len(mysong['translation'])):\n",
    "    # print(mysong['sloka_eng'])\n",
    "    for i in range(0,len(mysong['sloka_eng'])):\n",
    "        print('i',i)\n",
    "        mysong_info['slokas_no']   = i+1\n",
    "        mysong_info['sloka_eng']   = mysong['sloka_eng'][i]\n",
    "        # mysong_info['synonyms']    = mysong['synonyms'][i]        \n",
    "        mysong_info['translation'] = mysong['translation'][i]\n",
    "        # print(mysong_info)\n",
    "        mySongs_sql.create_entry(**mysong_info)\n",
    "        # mySongs_sql.update_entry(**mysong_info)\n",
    "else:\n",
    "    print(len(mysong['sloka_eng']), len(mysong['translation']))\n",
    "    print(\"Lenght of sloka, synonyms and translation is not matched\")"
   ]
  },
  {
   "cell_type": "code",
   "execution_count": 34,
   "id": "073288a1-7b85-4f37-a330-7b7aa4949d1e",
   "metadata": {},
   "outputs": [
    {
     "name": "stdout",
     "output_type": "stream",
     "text": [
      "32 32\n"
     ]
    }
   ],
   "source": [
    "# print(mysong_info)\n",
    "# SongIndex_sql.read_entry(**songIdx_info)\n",
    "print(len(mysong['sloka_eng']), len(mysong['translation']))"
   ]
  },
  {
   "cell_type": "code",
   "execution_count": 13,
   "id": "913fc7f8-f2b2-435d-8781-770edcbcc452",
   "metadata": {},
   "outputs": [
    {
     "data": {
      "text/plain": [
       "[{'song_idx': 1,\n",
       "  'slokas_no': 1,\n",
       "  'sloka_hindi': None,\n",
       "  'sloka_eng': 'pralaya-payodhi-jale dhṛtavān asi vedaḿ\\nvihita-vahitra-caritram akhedam\\nkeśava dhṛta-mīna-śarīra jaya jagadīśa hare',\n",
       "  'synonyms': 'pralaya-payodhi-jale=in the turbulent waters of devastation; dhṛtavān= holding; asi=You are; vedam=the Vedas; vihita=done; vahitra-caritram= acting as a boat; akhedam=easily; keśava=O Keśava, of fine hair!; dhṛtamīna-śarīra=You who have accepted the form of a giant fish; jaya=all glories to You!; jagat-īśa=O Lord of the universe!; hare=O Lord Hari!',\n",
       "  'translation': 'O Kesava! O Lord of the universe! O Lord Hari, who have assumed the form of a fish! All glories to You! You easily acted as a boat in the form of a giant fish just to give protection to the Vedas, which had become immersed in the turbulent sea of devastation.',\n",
       "  'purpot': None},\n",
       " {'song_idx': 1,\n",
       "  'slokas_no': 2,\n",
       "  'sloka_hindi': None,\n",
       "  'sloka_eng': 'kṣitir iha vipulatare tiṣṭhati tava pṛṣṭhe\\ndharaṇi-dhāraṇa-kiṇa-cakra-gariṣṭhe\\nkeśava dhṛta-kūrma-śarīra jaya jagadīśa hare',\n",
       "  'synonyms': 'kṣitiḥ=the great Mandara Mountain; iha=here; vipulatare=gigantic; tiṣṭhati=rests; tava pṛṣṭhe=upon Your back; dharaṇi-dhāraṇa=holding up the world; kiṇa-cakra=a large circular scar; gariṣṭhe=the heaviest; keśava=O Lord Keśava, of fine hair!; dhṛta-kūrma-śarīra=who have accepted the form of a tortoise;',\n",
       "  'translation': 'O Kesava! O Lord of the universe! O Lord Hari, who have assumed the form of a tortoise! All glories to You! In this incarnation as a divine tortoise the great Mandara Mountain rests upon Your gigantic back as a pivot for churning the ocean of milk. From holding up the huge mountain a large scar like depression is put in Your back, which has become most glorious.',\n",
       "  'purpot': None},\n",
       " {'song_idx': 1,\n",
       "  'slokas_no': 3,\n",
       "  'sloka_hindi': None,\n",
       "  'sloka_eng': 'vasati daśana-śikhare dharaṇī tava lagnā\\nśaśini kalańka-kaleva nimagnā\\nkeśava dhṛta-śūkara-rūpa jaya jagadīśa hare',\n",
       "  'synonyms': 'vasati=sits; daśana-śikhare=upon the tip of Your tusk; dharaṇī=the earth; tava=Your; lagnā=sits fixed; śaśini=of the moon; kalańka-kala=a faint spot; iva=just like; nimagnā=which had become immersed (in the Garbhodaka Ocean); keśava=O Lord Keśava, of fine hair!; dhṛta-śūkararūpa=who have accepted the form of a boar;',\n",
       "  'translation': 'O Kesava! O Lord of the universe! O Lord Hari, who have assumed the form of a boar! All glories to You! The earth, which had become I,merged in the Garbhodaka Ocean at the bottom of the universe, sits fixed upon the tip of Your tusk like a spot upon the moon.',\n",
       "  'purpot': None},\n",
       " {'song_idx': 1,\n",
       "  'slokas_no': 4,\n",
       "  'sloka_hindi': None,\n",
       "  'sloka_eng': 'tava kara-kamala-vare nakham adbhuta-śṛńgaḿ\\ndalita-hiraṇyakaśipu-tanu-bhṛńgam\\nkeśava dhṛta-narahari-rūpa jaya jagadīśa hare',\n",
       "  'synonyms': 'tava=Your; kara-kamala-vare=upon the beautiful lotus hands; nakham= the nails; adbhuta-śṛńgam=wonderfully sharp tips; dalita=ripped apart; hiraṇyakaśipu-tanu=the body of the demon Hiraṇyakaśipu; bhṛńgam=the wasp; keśava=O Lord Keśava, of fine hair!; dhṛta-narahari-rūpa=who have accepted the form of half-man, half-lion (nara=man, hari=lion);',\n",
       "  'translation': 'O Kesava! O Lord of the universe! O Lord Hari, who have assumed the form of half-man, half-lionl All glories to You! lust as one can easily crush a wasp between one s fingernails, so in the same way the body of the wasp like demon Hiranyakasipu has been ripped apart by the wonderful pointed nails on Your beautiful lotus hands.',\n",
       "  'purpot': None},\n",
       " {'song_idx': 1,\n",
       "  'slokas_no': 5,\n",
       "  'sloka_hindi': None,\n",
       "  'sloka_eng': 'chalayasi vikramaṇe balim adbhuta-vāmana\\npada-nakha-nīra-janita-jana-pāvana\\nkeśava dhṛta-vāmana-rūpa jaya jagadīśa hare',\n",
       "  'synonyms': 'chalayasi=You deceive; vikramaṇe=by Your massive steps; balim=King Bali; adbhuta-vāmana=O wonderful dwarf!; pada-nakha=from the nails of Your lotus feet; nīra-janita=by the (Ganges) water that has emanated; jana-pāvana=You deliver all living beings within this world; keśava=O Lord Keśava, of fine hair!; dhṛta-vāmana-rūpa=who have accepted the form of a dwarf-brāhmaṇa;',\n",
       "  'translation': 'O Kesava! O Lord of the universe! O Lord Hari, who have assumed the form of a dwarf-brahmana! All glories to You! O wonderful dwarf, by Your massive steps You deceive King Bali, and by the Ganges water that has emanated from the nails of your lotus feet, You deliver all living beings within this world.',\n",
       "  'purpot': None},\n",
       " {'song_idx': 1,\n",
       "  'slokas_no': 6,\n",
       "  'sloka_hindi': None,\n",
       "  'sloka_eng': 'kṣatriya-rudhira-maye jagad-apagata-pāpam\\nsnapayasi payasi śamita-bhava-tāpam\\nkeśava dhṛta-bhṛgupati-rūpa jaya jagadiśa hare',\n",
       "  'synonyms': 'kṣatriya-rudhira-maye=in the rivers of blood from the bodies of the demoniac kṣatriyas that You have slain; jagat=the earth; apagatapāpam=the sins are taken away; snapayasi=You cause to bathe; payasi=in the water; śamita=people are relieved; bhava-tāpam=from the blazing fire of material existence; keśava=O Lord Keśava, of fine hair!; dhṛta- bhṛgupati-rūpa=who have accepted the form of Paraśurāma, protector of the sages, bhṛgu(of the sages) pati(the protector);',\n",
       "  'translation': 'O Kesava! O Lord of the universe! O Lord Hari, who have assumed the form of Bhrgupati [Parasurama]! All glories to You! At Kuruksetra You bathe the earth in the rivers of blood from the bodies of I he demoniac ksatriyas that You have slain. The sins of the world are washed away by You, and because of You people are relieved room the blazing fire of material existence.',\n",
       "  'purpot': None},\n",
       " {'song_idx': 1,\n",
       "  'slokas_no': 7,\n",
       "  'sloka_hindi': None,\n",
       "  'sloka_eng': 'vitarasi dikṣu raṇe dik-pati-kamanīyaḿ\\ndaśa-mukha-mauli-balim ramaṇīyam\\nkeśava dhṛta-rāma-śarīra jaya jagadiśa hare',\n",
       "  'synonyms': 'vitarasi=You distribute; dikṣu=in all directions; raṇe=in the battle (of Lańkā); dik-pati=to the presiding deities of the ten directions; kamanīyam=which was desired by all of them; daśa-mukha=the tenheaded demon Rāvaṇa; mauli-balim=as a great offering; ramaṇīyam= delightful; keśava=O Lord Keśava, of fine hair!; dhṛta-rāma-śarīra=who have accepted the form of Rāmacandra;',\n",
       "  'translation': 'O Kesava! O Lord of the universe! O Lord Hari, who haze assumed the form of Ramacandra! All glories to You! In the battle of Lanka You destroy the ten-headed demon Ravana and distribute his heads as a delightful offering to the presiding deities of the ten directions, headed by Indira. This action was long desired by all of them, who were much harassed by this monster.',\n",
       "  'purpot': None},\n",
       " {'song_idx': 1,\n",
       "  'slokas_no': 8,\n",
       "  'sloka_hindi': None,\n",
       "  'sloka_eng': 'vahasi vapuṣi viśade vasanaḿ jaladābhaḿ\\nhala-hati-bhīti-milita-yamunābham\\nkeśava dhṛta-haladhara-rūpa jaya jagadiśa hare',\n",
       "  'synonyms': 'vahasi=You wear; vapuṣi viśade=on Your brilliant white body; vasanam= garments; jalada-ābham=the color of a fresh blue rain cloud; hala-hati= due to the striking of Your plowshare; bhīti=who feels great fear; milita= happened; yamunā-bham=the personified river Yamunā appeared; keśava=O Lord Keśava, of fine hair!; dhṛta-haladhara-rūpa=who have accepted the form of Lord Balarāma, the wielder of the plow (hala:plow, dhara:the holder);',\n",
       "  'translation': 'O Kesava! O Lord of the universe! O Lord Hari, who have assumed the form of Balarama, the yielder of the prowl All glories to You! On Your brilliant white body You wear garments the color of a fresh blue rain cloud. These garments are colored like the beautiful dark hue of the River Yamuna, who feels great fear due to the striking of Your plowshare.',\n",
       "  'purpot': None},\n",
       " {'song_idx': 1,\n",
       "  'slokas_no': 9,\n",
       "  'sloka_hindi': None,\n",
       "  'sloka_eng': 'nindasi yajña-vidher ahaha śruti-jātaḿ\\nsadaya-hṛdaya darśita-paśu-ghātam\\nkeśava dhṛta-buddha-śarīra jaya jagadīśa hare',\n",
       "  'synonyms': 'nindasi=You decry; yajña-vidheḥ=performed by the rules of Vedic sacrifice; ahaha=oh!; śruti-jātam=according to the scriptures; sadayahṛdaya=of compassionate heart; darśita=shown; paśu-ghātam=the slaughtering of poor animals; keśava=O Lord Keśava, of fine hair!; dhṛtabuddha-śarīra=who have accepted the form of Lord Buddha;',\n",
       "  'translation': 'O Kesava! O Lord of the universe! O Lord Hari, who have assumed the form of Buddha! All glories to You! O Buddha of compassionate heart, you decry the slaughtering of poor animals performed according to the rules of Vedic sacrifice',\n",
       "  'purpot': None},\n",
       " {'song_idx': 1,\n",
       "  'slokas_no': 10,\n",
       "  'sloka_hindi': None,\n",
       "  'sloka_eng': 'mleccha-nivaha-nidhane kalayasi karavālaḿ\\ndhūmaketum iva kim api karālam\\nkeśava dhṛta-kalki-śarīra jaya jagadīśa hare',\n",
       "  'synonyms': 'mleccha-nivaha=the multitude of wicked barbarian men (at the end of the Kali-yuga); nidhane=for annihilating; kalayasi=You carry; karavālam=a sword; dhūmaketum iva=appearing like a comet; kim api= indescribably; karālam=terrifying; keśava=O Lord Keśava, of fine hair!; dhṛta-kalki-śarīra=who have accepted the form of Lord Kalki;',\n",
       "  'translation': 'O Kesava! O Lord of the universe! O Lord Hari, who have assumed the form of Kalki! All glories to You! You appear like a comet and carry a terrifying sword for bringing about the annihilation of the wicked barbarian men at the end of the Kali-yuga.',\n",
       "  'purpot': None},\n",
       " {'song_idx': 1,\n",
       "  'slokas_no': 11,\n",
       "  'sloka_hindi': None,\n",
       "  'sloka_eng': 'śrī-jayedeva-kaver idam uditam udāraḿ\\nśṛṇu sukha-daḿ śubha-daḿ bhava-sāram\\nkeśava dhṛta-daśa-vidha-rūpa jaya jagadīśa hare',\n",
       "  'synonyms': 'śrī-jayadeva-kaveḥ=of the poet Jayadeva; idam=this hymn; uditam= which has arisen; udāram=which is most exalted; śṛṇu=please hear; sukha-dam=a bestower of happiness; śubha-dam=a bestower of auspiciousness; bhava-sāram=and is the best thing in this dark world; keśava=O Lord Keśava, of fine hair!; dhṛta=who have accepted; daśavidha-rūpa=these ten different forms of incarnation;',\n",
       "  'translation': 'O Kesava! O Lord of the universe! O Lord Hari, who have assumed these ten different forms of incarnation! All glories to You! O readers, please hear this hymn of the poet Jayadeva, which is most excellent, an awarder of happiness, a bestower of auspiciousness, and it is the best thing in this dark world.',\n",
       "  'purpot': None},\n",
       " {'song_idx': 1,\n",
       "  'slokas_no': 12,\n",
       "  'sloka_hindi': None,\n",
       "  'sloka_eng': 'vedān uddharate jaganti vahate bhū-golam udbibhrate\\ndaityaḿ dārayate baliḿ chalayate kṣatra-kṣayaḿ kurvate\\npaulastyaḿ jayate halaḿ kalayate kāruṇyam ātanvate\\nmlecchān mūrchayate daśakṛti-kṛte kṛṣṇāya tubhyaḿ namaḥ\\n',\n",
       "  'synonyms': 'vedān uddharate=rescuing the Vedas; jaganti vahate=bearing the Mandara Mountain on Your back; bhū-golam udbibhrate=lifting the earth; daityam dārayate=tearing apart the demon Hiraṇyakaśipu; balim chalayate=tricking the demon king Bali; kṣatra-kṣayam kurvate=slaying all of the wicked kṣatriyas; paulastyam jayate=conquering the son of Pulastya [the rākṣasa king Rāvaṇa]; halam kalayate=carrying a plow; kāruṇyam ātanvate=showing compassion; mlecchān mūrchayate=killing the degraded low-class men; daśa-ākṛti kṛte=O You who appears in the forms of these ten incarnations!; kṛṣṇāya=O Lord Kṛṣṇa!; tubhyam namaḥ=I offer my obeisances unto You\\n',\n",
       "  'translation': 'O Lord Krsna, I offer my obeisances unto You, who appear in the forms of these ten incarnations. In the form of Matsya You rescue the Vedas, and as Karma You bear the Mandara Mountain on Your back. As Varaha You lift the earth with Your tusk, and in the form of Narasimha You tear open the chest of the daitya Hiranyakasipu. In the form of Vamana You trick the daitya king Bali by asking him for only three steps of land, and then You take away the whole universe from him by expanding Your steps. As Parasurama You slay all of the wicked ksatriyas, and as Ramacandra You conquer the raksasa king Ravana. In the form of Balarama You carry a plow with which You subdue the wicked and draw toward You the River Yamuna. As Lord Buddha You show compassion toward all the living beings suffering in this world and at the end of the Kali-yuga You appear as Kalki to bewilder the mlecchas [degraded low-class men].\\n',\n",
       "  'purpot': None},\n",
       " {'song_idx': 2,\n",
       "  'slokas_no': 1,\n",
       "  'sloka_hindi': None,\n",
       "  'sloka_eng': 'kuṅkumākta-kāñcanābja-garva-hāri-gaurabhā\\npītanāñcitābja-gandha-kīrti-nindi-saurabhā\\nballaveśa-sūnu-sarva-vāñcitārtha-sādhikā\\nmahyam ātma-pāda-padma-dāsya-dāstu rādhikā | 1 |',\n",
       "  'synonyms': 'kuṅkuma = Saffron; ākta = anointed, ointment, tinged , smeared over;kāñcana = golden; abja = lotus, born in water, moon, conch; garva = pride; hāri=steals;gaura = blonde,fair, dignity, admiration, splendorous;ābhā = appearance, similar, splendor, glamour;\\npītana= saffron; añcita= worshipped; abja = lotus, born in water, moon, conch;gandha=scent;kīrti=fame,reputation,glory, merit;nindi=defeating,decrying,blasheming; saurabha = saffon, perfume,fragrance;\\nballaveśa = krishna,  ballava(cowherd)+ veṣa( dress); sūnu = son, offspring ; sarva = whole, entire, all, every;\\nvāñcita= wished,tricked, desire, beloved ; artha = object of desire; vāñcitārtha = one who full will all the desire; sādhikā=very deep, more than full, having surplus;\\nmahyam=me; ātma=self,complete;pāda-padma=on to the lotus feet; dāsya=rendering spontaneou unalloyed devotion service, the emotion of becoming a servant;dāstu=eager to become a devotion servant;rādhikā=rādhikā;',\n",
       "  'translation': 'Her splendrous golden complexion steals the pride of a golden lotus flower anointed with a tinge of red kunkum powder.\\nHer sweet fragrance mocks the fame of the aroma of a lotus flower sprinkled with saffron powder.\\nShe is fully qualified to fulfill all the desires of the son of the king of cowherd men.\\nMay Sri Radhika always bestow upon me the service of Her own lotus feet. | 1 |',\n",
       "  'purpot': None},\n",
       " {'song_idx': 2,\n",
       "  'slokas_no': 2,\n",
       "  'sloka_hindi': None,\n",
       "  'sloka_eng': 'kauravinda-kānti-nindi-citra-paṭṭa-śāṭikā\\nkṛṣṇa-matta-bhṛṅga-keli-phulla-puṣpa-vāṭikā\\nkṛṣṇa-nitya-saṅgamārtha-padma-bandhu-rādhikā\\nmahyam ātma-pāda-padma-dāsya-dāstu rādhikā | 2 |',\n",
       "  'synonyms': 'kauravinda=kauravinda; kānti=grace,charm,light,brightness, female beauty;  nindi= defeating, decrying, blasheming ;citra= painted,beautiful,wonderful,amazing; paṭṭa= silk,silk garments; śāṭikā=a cloth;kṛṣṇa= Lord Kṛṣṇa; matta=intoxicated,overjoyed,maddened,absorbed,captivated; bhṛṅga=bumblebees; keli=pasttime; phulla=blossoming; puṣpa= flowers; vāṭikā=garden;\\nkṛṣṇa-nitya-saṅgamārtha=Eager to attain the Ethernal association of kṛṣṇa;padma=Lotus; bandhu= friends and relatives,family members;padma-bandhu= friend of Lotus (Sun God);',\n",
       "  'translation': 'Her amazing and colorful silken garments make the splendour of coral feel ashamed.\\nShe is a garden of blossoming flowers where the maddened bumblebee named Krishna performs amorous pastimes.\\nShe worships the Sun-god daily in order to attain the continual association of Her beloved Krishna.\\nMay Sri Radhika always bestow upon me the service of Her own lotus feet. | 2 |',\n",
       "  'purpot': None},\n",
       " {'song_idx': 2,\n",
       "  'slokas_no': 3,\n",
       "  'sloka_hindi': None,\n",
       "  'sloka_eng': 'saukumārya-sṛṣṭa-pallavāli-kīrti-nigrahā\\ncandra-candanotpalendu-sevya-śīta-vigrahā\\nsvābhimarśa-ballavīśa-kāma-tāpa-bādhikā\\nmahyam ātma-pāda-padma-dāsya-dāstu rādhikā | 3 |',\n",
       "  'synonyms': 'saukumārya = tender,delicate,gentleness ; sṛṣṭa = created, in the creation ; pallava = leaves,like flower buds,sprout ; āli = woman``s female friend, friend,secure, pure,honey; kīrti = fame,reputation,glory, merit ; nigrahā = subjugatation, restraint, punishment,defeat ; candra = moon ; candanotpalendu = sandalwood(chandan) paste ; sevya = worshipable ; śīta = cold,winter ; vigrahā = shape,form ; sva = their own, personal ; abhimarśa = by the touch, lamenting ; ballaveśa = krishna, ballava(cowherd)+ veṣa( dress) ; kāma = desire ; tāpa = heat,burning ; bādhikā = disturbed ;',\n",
       "  'translation': 'Her charming youthful delicacy negates the fame of freshly-sprouted leaves.\\nHer refreshing form is worthy of being served by the cooling moon, sandalwood paste, lotus flowers, and camphor.\\nWhen She touches the master of the gopis, She dispels the burning heat of His lusty desires.\\nMay Sri Radhika always bestow upon me the service of Her own lotus feet. | 3 |',\n",
       "  'purpot': None},\n",
       " {'song_idx': 2,\n",
       "  'slokas_no': 4,\n",
       "  'sloka_hindi': None,\n",
       "  'sloka_eng': 'viśva-vandya-yauvatābhivanditāpi yā ramā\\nrūpa-navya-yauvanādi-saṁpadā na yat-samā\\nśīla-hārda-līlayā ca sā yato ‘sti nādhikā\\nmahyam ātma-pāda-padma-dāsya-dāstu rādhikā | 4 |',\n",
       "  'synonyms': 'viśva= universe; vandya = respectable, worthy to be worshiped, worshipable,praised;yauvana = youth; yauvatābhi=yauvatābhi; vandita = being worshiped; api= to, also, even;  \\nyā = what , that which, the lady, whosoever, whatever;\\nramā = goddess of fortune;rūpa= figure,form,apperance; navya = fashion, novelty,new; yauvan= youth;ādi = beginning, and so on, and more; saṁpadā = wealth; na= not;yat= because, whichever,with which, whatever,having which, having what, that; samā = equal,level;\\nśīla = behavior, noble character, godly qualites, good character, proper behavior; hārda= with affection, kindness, loving; līlayā = pastimes; ca= and,as well as, also,indeed; sā = this, she,the woman, goddess of fortune; yato=yato; asti=there is,is, there may be; nādhikā = holy basil, tulasi;',\n",
       "  'translation': 'Although the goddess of fortune Lakshmi Devi is adored by other youthful goddesses, who are themselves glorified throughout all the universe,\\nstill she is nowhere near Sri Radhika in the matter of beauty, praiseworthy youthfulness, or other divine feminine opulences.\\nThere is no one in the material or spiritual worlds superior to Radhika in the expression of naturally loving pastimes.\\nMay Sri Radhika always bestow upon me the service of Her own lotus feet. | 4 |',\n",
       "  'purpot': None},\n",
       " {'song_idx': 2,\n",
       "  'slokas_no': 5,\n",
       "  'sloka_hindi': None,\n",
       "  'sloka_eng': 'rāsa-lāsya-gīta-narma-sat-kalāli-paṇḍitā\\nprema-ramya-rūpa-veśa-sad-guṇāli-maṇḍitā\\nviśva-navya-gopa-yoṣid-ālito ‘pi yādhikā\\nmahyam ātma-pāda-padma-dāsya-dāstu rādhikā | 5 |',\n",
       "  'synonyms': 'rāsa= rāsa; lāsya= dance; gīta= singing; narma=joking, in sport, of joy; sat =good; kalāli= art; paṇḍitā = very learned scholars;\\nprema = love, loving devotion service; ramya= attractive, beautiful;rūpa= figure, form, apperance; veśa = dress; sad= good;  guṇāli = godly qualites, good character, proper behavior ; maṇḍitā= finely dressed;\\nviśva= universe; navya = fashion, novelty,new; yoṣit= women; ālito=ālito; api= to, also, even;yādhikā=yādhikā;',\n",
       "  'translation': 'She is very learned in many transcendental arts, such as performing in the rasa dance, singing, and joking.\\nShe is decorated with many divine qualities, such as loving nature, exquisite beauty, and wonderful garments and ornaments.\\nEven among the cowherd damsels of Vraja, who are praised by the entire universe, She is the best in every way.\\nMay Sri Radhika always bestow upon me the service of Her own lotus feet. | 5 |',\n",
       "  'purpot': None},\n",
       " {'song_idx': 2,\n",
       "  'slokas_no': 6,\n",
       "  'sloka_hindi': None,\n",
       "  'sloka_eng': 'nitya-navya-rūpa-keli-kṛṣṇa-bhāva-sampadā\\nkṛṣṇa-rāga-bandha-gopa-yauvateṣu kampadā\\nkṛṣṇa-rūpa-veśa-keli-lagna-sat-samādhikā\\nmahyam ātma-pāda-padma-dāsya-dāstu rādhikā | 6 |',\n",
       "  'synonyms': 'nitya = Eternal;  navya = fashion, novelty,new;rūpa =figure,form,apperance; keli= pastimes; kṛṣṇa= kṛṣṇa; bhāva= sentiment, emption; sampadā = opulence,wealth;\\nkṛṣṇa= kṛṣṇa;rāga=  emotion;bandha = bondage, conditioned, bindng;gopa =  gopi``s;yauvateṣu= youth;kampadā = vibration, trembling; kṛṣṇa= kṛṣṇa; rūpa =figure,form,apperance;veśa =dress; keli= pastime; lagna = reminding, remember; sat = good; samādhikā= trance ,deep meditation,in ecstasy,the stage of perfection;',\n",
       "  'translation': 'She possesses the opulence``s of eternal youthful beauty, eternal pastimes, and eternal love for Krishna.\\nHer ecstatic feelings of love for Krishna cause the gopis, who are also in love with Krishna, to tremble.\\nShe is always attached to meditating on Sri Krishna``s beautiful form, ornaments, garments, and pastimes.\\nMay Sri Radhika always bestow upon me the service of Her own lotus feet. | 6 |',\n",
       "  'purpot': None},\n",
       " {'song_idx': 2,\n",
       "  'slokas_no': 7,\n",
       "  'sloka_hindi': None,\n",
       "  'sloka_eng': 'sveda-kampa-kaṇṭakāśru-gadgadādi-sañcitā\\nmarṣa-harṣa-vāmatādi-bhāva-bhuṣaṇāñcitā \\nkṛṣṇa-netra-toṣi-ratna-maṇḍanāli-dādhikā\\nmahyam ātma-pāda-padma-dāsya-dāstu rādhikā | 7 |',\n",
       "  'synonyms': 'sveda = perspiration,sweat, moisture;\\nkampa = trembling, shivering;\\nkaṇṭa = neck,throat;\\nkaṇṭaka = thorn;\\naśru = tears;\\ngadgadādi = low inarticulate expression of joy or grief;\\nsañcitā = accumulated;\\nmarṣa= marṣa;\\nharṣa =  joy;\\nvāmatādi = opposition;\\nbhāva=sentiment, emotion;\\nbhuṣaṇ = decoration;\\nbhuṣaṇāñcitā = bhuṣaṇāñcitā;\\nkṛṣṇa=kṛṣṇa;\\nnetra= eye;\\ntoṣi= satisfying;\\nratna = jewels;\\nmaṇḍanāli=maṇḍanāli;\\ndādhikā=dādhikā;',\n",
       "  'translation': 'She is graced with eight ecstatic symptoms (sattvika-bhava), such as trembling, perspiring, standing up on bodily hairs, tears, faltering of the voice, and so forth.\\nShe is adorned with different ecstatic emotional ornaments, such as impatience, joy, contrariness, and so forth.\\nShe is decorated with beautiful jewels that give total delight to the eyes of Krishna.\\nMay Sri Radhika always bestow upon me the service of Her own lotus feet. | 7 |',\n",
       "  'purpot': None},\n",
       " {'song_idx': 2,\n",
       "  'slokas_no': 8,\n",
       "  'sloka_hindi': None,\n",
       "  'sloka_eng': 'yā kṣaṇārdha-kṛṣṇa-viprayoga-santatoditāneka-\\ndainya-cāpalādi-bhāva-vṛnda-toditā \\nyatna-labdha-kṛṣṇa-saṅga-nirgatākhilādhikā\\nmahyam ātma-pāda-padma-dāsya-dāstu rādhikā | 8 |',\n",
       "  'synonyms': 'yā = what , that which, the lady, the river which, all those, whosoever,such, the other, whatever, of which;\\nkṣaṇārdha= kṣaṇā (small unit of time); \\nkṛṣṇa=kṛṣṇa; \\nviprayoga = seperatoin form, want; \\nsantatoditāneka = santatoditāneka;\\naneka =  various, after many, many,numerous, in many ways;  \\ndainya = submissiveness, humility, degradation, poverty;\\ncāpala = ecstasy, restlessness,impotence(inability,helplessness);\\ncāpalādi= ecstasy,restlessness, helplessness and so on; \\nbhāva= sentiment, emption;\\nvṛnda= groups, multitude;\\ntoditā=toditā;\\nyatna= efforts, attempts, endeavor;\\nlabdha = achieved, having been perceived, obtained, received, regained,attaining;\\nkṛṣṇa= kṛṣṇa;\\nsaṅga = association, attachment, shelter,union, group;\\nnirgata = emitted, came out, went out, goint out, having exited,rejecting, spliting,leaving;\\nākhil = whole,complete, entire, universe; \\nādhi = anxiety, tribulations, the mental distress;\\nnirgatākhilādhikā = anxiety complete vanished immediately;',\n",
       "  'translation': 'If She is apart from Krsna, for even half a moment, She becomes stricken with wretched suffering, restlessness, and a multitude of other ecstatic symptoms of separation.\\nWhen She regains the association of Krishna after some effort, then all Her anguish immediately vanishes.\\nMay Sri Radhika always bestow upon me the service of Her own lotus feet. | 8 |',\n",
       "  'purpot': None},\n",
       " {'song_idx': 2,\n",
       "  'slokas_no': 9,\n",
       "  'sloka_hindi': None,\n",
       "  'sloka_eng': 'aṣṭakena yas tv anena nauti kṛṣṇa-vallabhāḿ\\ndarśane ‘pi śailajādi-yoṣidāli-durlabhām\\nkṛṣṇa-sańga-nanditātma-dāsya-sīdhu-bhājanaḿ\\ntaḿ karoti nanditāli-sañcayāśu sā janam | 9 |',\n",
       "  'synonyms': 'aṣṭa = eight;\\nkena = how, why;\\naṣṭakena = eight versers;\\nyas = stive after;\\ntv = tv;\\nanena= by this, by this sacrifice, by Him, by this process;\\nnauti= praise, sound;\\nkṛṣṇa=kṛṣṇa;  \\nvallabha= pleasing,dearmost, beloved, dear; \\nvallabhāḿ= very pleased, delighted;\\ndarśane= audience, by visiting, seeing; \\n‘pi=‘pi; \\nśaila = Mountains and hills;\\nśailajādi=śailajādi;\\nyoṣit= women;\\nyoṣidāli=yoṣit(women) āli; \\ndurlabhām = very rarely achieved, inaccessible, difficult to achieve;\\nkṛṣṇa=kṛṣṇa;\\nsaṅga = association, attachment, shelter,union, group;\\nnanditāḥ = delighted;\\nnanditātma = delighted(nanditāḥ) completly(ātma);\\ndāsya=the emotion of becoming a servant;\\nsīdhu= intoxicating, the ocean of wine;\\nbhājana = recipient, receiver, worthy of being offered;\\nbhājanaḿ =bhājanaḿ;\\ntaḿ=taḿ; \\nkaroti= performs,executes, carries put;  \\nnanditāli =delighted(nanditāḥ) female friend(āli);     \\nāli = woman``s female friend, friend,secure, pure,honey;\\nsañcaya = professional duty, collection\\nāśu = very soon, within no time, immediately, without delay,as soon as possible, rapidly;\\nsañcayāśu=sañcayāśu; \\nsā = that is, she;\\njanam= Life, born, people, living enity;\\n',\n",
       "  'translation': 'It is very difficult for Parvati and other exalted goddesses to attain even a glimpse of Srimati Radharani, who is dear to Lord Krsna.\\nBut if someone glorifies Her by reciting these eight verses, then She who is delighted by Krsnas continuous association will grant the sweet nectar of Her personal service to that person, who thereby enters the assembly of Her similarly delighted girlfriends.| 9 |\\n',\n",
       "  'purpot': None}]"
      ]
     },
     "execution_count": 13,
     "metadata": {},
     "output_type": "execute_result"
    }
   ],
   "source": [
    "mySongs_sql.read_entry()"
   ]
  },
  {
   "cell_type": "code",
   "execution_count": null,
   "id": "7ad47b28-6f55-4116-a2b5-5ab21105b2a1",
   "metadata": {},
   "outputs": [],
   "source": []
  }
 ],
 "metadata": {
  "kernelspec": {
   "display_name": "Python 3 (ipykernel)",
   "language": "python",
   "name": "python3"
  },
  "language_info": {
   "codemirror_mode": {
    "name": "ipython",
    "version": 3
   },
   "file_extension": ".py",
   "mimetype": "text/x-python",
   "name": "python",
   "nbconvert_exporter": "python",
   "pygments_lexer": "ipython3",
   "version": "3.11.5"
  }
 },
 "nbformat": 4,
 "nbformat_minor": 5
}
