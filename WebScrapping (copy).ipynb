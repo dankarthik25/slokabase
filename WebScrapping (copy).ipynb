{
 "cells": [
  {
   "cell_type": "code",
   "execution_count": 3,
   "id": "1b68d148-1904-49f1-8f71-01d9d823cdc4",
   "metadata": {},
   "outputs": [],
   "source": [
    "from bs4 import BeautifulSoup\n",
    "import requests"
   ]
  },
  {
   "cell_type": "code",
   "execution_count": 4,
   "id": "e6f22c62-f032-4e4b-b710-fda3007d157a",
   "metadata": {},
   "outputs": [],
   "source": [
    "# url = 'http://kksongs.org/songs/k/kunkumaktakancanabja.html'\n",
    "# url ='http://kksongs.org/songs/p/pralayapayodhijale.html'\n",
    "# simple_text = soup.get_text()\n"
   ]
  },
  {
   "cell_type": "code",
   "execution_count": 6,
   "id": "99461072-1df7-450a-85b9-b2eb0df69ff3",
   "metadata": {
    "scrolled": true
   },
   "outputs": [
    {
     "name": "stdout",
     "output_type": "stream",
     "text": [
      "/synonym/hegovindahegopala3.html\n",
      "/synonym/kabegauravane.html\n",
      "/synonym/kabehabebolo.html\n",
      "/synonym/krsnahoitecaturmukha.html\n",
      "/synonym/krsnotkirtanagananartana.html\n",
      "/synonym/namonamahtulasikrsna1.html\n",
      "/synonym/namonamahtulasimaharani.html\n",
      "/synonym/nitaipadakamala.html\n",
      "url:  http://kksongs.org/synonym/\n",
      "\t song_list:  ['/synonym/hegovindahegopala3.html', '/synonym/kabegauravane.html', '/synonym/kabehabebolo.html', '/synonym/krsnahoitecaturmukha.html', '/synonym/krsnotkirtanagananartana.html', '/synonym/namonamahtulasikrsna1.html', '/synonym/namonamahtulasimaharani.html', '/synonym/nitaipadakamala.html']\n",
      "\t dir_list:  ['http://kksongs.org/synonym/synonym/a/', 'http://kksongs.org/synonym/synonym/b/', 'http://kksongs.org/synonym/synonym/c/', 'http://kksongs.org/synonym/synonym/e/', 'http://kksongs.org/synonym/synonym/g/', 'http://kksongs.org/synonym/synonym/h/', 'http://kksongs.org/synonym/synonym/j/', 'http://kksongs.org/synonym/synonym/m/', 'http://kksongs.org/synonym/synonym/n/', 'http://kksongs.org/synonym/synonym/o/', 'http://kksongs.org/synonym/synonym/p/', 'http://kksongs.org/synonym/synonym/r/', 'http://kksongs.org/synonym/synonym/s/', 'http://kksongs.org/synonym/synonym/t/', 'http://kksongs.org/synonym/synonym/u/', 'http://kksongs.org/synonym/synonym/v/', 'http://kksongs.org/synonym/synonym/y/']\n"
     ]
    },
    {
     "data": {
      "text/plain": [
       "'http://kksongs.org/synonym/synonym/a/'"
      ]
     },
     "execution_count": 6,
     "metadata": {},
     "output_type": "execute_result"
    }
   ],
   "source": [
    "# soup.find(\"div\", id=\"table-list\")\n",
    "\n",
    "song_list = []\n",
    "\n",
    "\n",
    "\n",
    "url = \"http://kksongs.org/synonym/\"\n",
    "\n",
    "def get_all_song(url,song_list):\n",
    "    dir_list = []\n",
    "    source = requests.get(url).text\n",
    "    soup = BeautifulSoup(source)\n",
    "    table =soup.find(\"table\",id=\"table-content\")\n",
    "    for link in table.find_all('a'):\n",
    "        if link.get('href') in {\"?ND\",\"?MA\",\"?SA\",\"/\"}:\n",
    "            pass\n",
    "        elif '.html' in link.get('href'):\n",
    "            print(link.get('href'))\n",
    "            song_list.append(link.get('href'))\n",
    "        else:\n",
    "            # print(link.get('href'))\n",
    "            dir_list.append(url[:-1]+ link.get('href'))\n",
    "            # dir_list.append(url[:-1]+ link.get('href'))\n",
    "            \n",
    "    print(\"url: \",url)\n",
    "    print(\"\\t song_list: \", song_list)\n",
    "    print(\"\\t dir_list: \",      dir_list)\n",
    "    # for url_idx in dir_list:\n",
    "        # song_list = get_all_song(url_idx,song_list)\n",
    "    return song_list, dir_list\n",
    "    \n",
    "song_list, dir_list = get_all_song(url,song_list)\n",
    "\n",
    "dir_list[0]"
   ]
  },
  {
   "cell_type": "markdown",
   "id": "cf47fbdc-1aba-45a6-9653-b9cdfbfce17f",
   "metadata": {},
   "source": [
    " # `NOTE:` This code is not working \n",
    " as above url changes the LYRICS is again need to manually edit it is better to code for lyrics to string and give as input to function"
   ]
  },
  {
   "cell_type": "code",
   "execution_count": 50,
   "id": "1fafded7-379c-43fe-acb7-a8773cde6154",
   "metadata": {},
   "outputs": [
    {
     "data": {
      "text/plain": [
       "<!DOCTYPE html>\n",
       "\n",
       "<html style=\"height:100%\">\n",
       "<head>\n",
       "<meta content=\"width=device-width, initial-scale=1, shrink-to-fit=no\" name=\"viewport\"/>\n",
       "<title> 404 Not Found\n",
       "</title></head>\n",
       "<body style=\"color: #444; margin:0;font: normal 14px/20px Arial, Helvetica, sans-serif; height:100%; background-color: #fff;\">\n",
       "<div style=\"height:auto; min-height:100%; \"> <div style=\"text-align: center; width:800px; margin-left: -400px; position:absolute; top: 30%; left:50%;\">\n",
       "<h1 style=\"margin:0; font-size:150px; line-height:150px; font-weight:bold;\">404</h1>\n",
       "<h2 style=\"margin-top:20px;font-size: 30px;\">Not Found\n",
       "</h2>\n",
       "<p>The resource requested could not be found on this server!</p>\n",
       "</div></div><div style=\"color:#f0f0f0; font-size:12px;margin:auto;padding:0px 30px 0px 30px;position:relative;clear:both;height:100px;margin-top:-101px;background-color:#474747;border-top: 1px solid rgba(0,0,0,0.15);box-shadow: 0 1px 0 rgba(255, 255, 255, 0.3) inset;\">\n",
       "<br/>Proudly powered by  <a href=\"http://www.turbify.com\" style=\"color:#fff;\">Turbify Web Hosting</a></div></body></html>"
      ]
     },
     "execution_count": 50,
     "metadata": {},
     "output_type": "execute_result"
    }
   ],
   "source": [
    "url = dir_list[0]\n",
    "source = requests.get(url).text\n",
    "soup = BeautifulSoup(source)\n",
    "# soup.find_all('a')\n",
    "soup\n",
    "# .find(\"table\",id=\"table-content\")\n",
    "\n",
    "# table"
   ]
  },
  {
   "cell_type": "code",
   "execution_count": 7,
   "id": "f5b4efd2-f026-4066-a2cc-662f0f1d3bf8",
   "metadata": {},
   "outputs": [
    {
     "data": {
      "text/plain": [
       "'Jayadeva Goswami'"
      ]
     },
     "execution_count": 7,
     "metadata": {},
     "output_type": "execute_result"
    }
   ],
   "source": [
    "# soup.find_all('WordSection1;')\n",
    "def get_author(simple_text):\n",
    "    author = simple_text.split('\\nAuthor:\\n')[1].split('\\n')[0]\n",
    "    return author\n",
    "get_author(simple_text)    # >>> 'Jayadeva Goswami'"
   ]
  },
  {
   "cell_type": "code",
   "execution_count": 8,
   "id": "a42312f3-350c-4132-9a9a-e4b1b4605927",
   "metadata": {},
   "outputs": [
    {
     "data": {
      "text/plain": [
       "['\\npralaya-payodhi-jale\\ndhṛtavān asi vedaḿ\\nvihita-vahitra-caritram akhedam\\nkeśava dhṛta-mīna-śarīra jaya jagadīśa hare',\n",
       " '\\nkṣitir\\niha vipulatare tiṣṭhati tava pṛṣṭhe\\ndharaṇi-dhāraṇa-kiṇa-cakra-gariṣṭhe\\nkeśava dhṛta-kūrma-śarīra jaya jagadīśa\\nhare',\n",
       " '\\nvasati\\ndaśana-śikhare dharaṇī tava lagnā\\nśaśini kalańka-kaleva nimagnā\\nkeśava dhṛta-śūkara-rūpa jaya jagadīśa hare',\n",
       " '\\ntava\\nkara-kamala-vare nakham adbhuta-śṛńgaḿ\\ndalita-hiraṇyakaśipu-tanu-bhṛńgam\\nkeśava dhṛta-narahari-rūpa jaya jagadīśa hare',\n",
       " '\\nchalayasi\\nvikramaṇe balim adbhuta-vāmana\\npada-nakha-nīra-janita-jana-pāvana\\nkeśava dhṛta-vāmana-rūpa jaya jagadīśa hare',\n",
       " '\\nkṣatriya-rudhira-maye\\njagad-apagata-pāpam\\nsnapayasi payasi śamita-bhava-tāpam\\nkeśava dhṛta-bhṛgupati-rūpa jaya jagadiśa hare',\n",
       " '\\nvitarasi\\ndikṣu raṇe dik-pati-kamanīyaḿ\\ndaśa-mukha-mauli-balim ramaṇīyam\\nkeśava dhṛta-rāma-śarīra jaya jagadiśa hare',\n",
       " '\\nvahasi\\nvapuṣi viśade vasanaḿ jaladābhaḿ\\nhala-hati-bhīti-milita-yamunābham\\nkeśava dhṛta-haladhara-rūpa jaya jagadiśa hare',\n",
       " '\\nnindasi\\nyajña-vidher ahaha śruti-jātaḿ\\nsadaya-hṛdaya darśita-paśu-ghātam\\nkeśava dhṛta-buddha-śarīra jaya jagadīśa hare',\n",
       " '\\nmleccha-nivaha-nidhane\\nkalayasi karavālaḿ\\ndhūmaketum iva kim api karālam\\nkeśava dhṛta-kalki-śarīra jaya jagadīśa hare',\n",
       " '\\nśrī-jayedeva-kaver\\nidam uditam udāraḿ\\nśṛṇu sukha-daḿ śubha-daḿ bhava-sāram\\nkeśava dhṛta-daśa-vidha-rūpa jaya jagadīśa hare',\n",
       " '\\nvedān\\nuddharate jaganti vahate bhū-golam udbibhrate\\ndaityaḿ dārayate baliḿ chalayate\\nkṣatra-kṣayaḿ kurvate\\npaulastyaḿ jayate halaḿ kalayate kāruṇyam ātanvate\\nmlecchān mūrchayate daśakṛti-kṛte\\nkṛṣṇāya tubhyaḿ namaḥ\\n']"
      ]
     },
     "execution_count": 8,
     "metadata": {},
     "output_type": "execute_result"
    }
   ],
   "source": [
    "def get_lyrics(simple_text):\n",
    "    LYRICS = simple_text.split('\\nLYRICS:\\n')[1].split('\\nWORD\\nFOR WORD TRANSLATION:')[0]\n",
    "    LYRICS = LYRICS.replace('\\xa0','')\n",
    "    # LYRICS\n",
    "    import re\n",
    "    song_list = re.sub(r\"\\d\", \"\",LYRICS ).replace('()','').split('\\n\\n')\n",
    "    return song_list \n",
    "get_lyrics(simple_text)"
   ]
  },
  {
   "cell_type": "code",
   "execution_count": 25,
   "id": "a1e5ef95-987f-4061-a560-d9ec0360b9a8",
   "metadata": {},
   "outputs": [],
   "source": [
    "def get_translation(simple_text):\n",
    "    TRASNLATION = simple_text.split('\\n\\xa0\\nTRASNLATION\\n\\n')[1].split('REMARKS/EXTRA\\nINFORMATION:\\n')[0]\n",
    "    import re\n",
    "    final_trans = re.sub(r\"\\d\\)\\n\", \"\",TRASNLATION).split('\\n\\xa0\\n')\n",
    "    for index, index_line in enumerate(final_trans):\n",
    "        final_trans[index] = index_line.replace('\\n',' ').strip()\n",
    "    if len(final_trans[-1]) == 0 :\n",
    "        del final_trans[-1]\n",
    "    # print('\\n\\n'.join(final_trans))        \n",
    "    return final_trans\n",
    "get_translation(simple_text)"
   ]
  },
  {
   "cell_type": "code",
   "execution_count": null,
   "id": "1723676e-0962-4386-9624-3652bb5fcbeb",
   "metadata": {},
   "outputs": [],
   "source": []
  },
  {
   "cell_type": "code",
   "execution_count": null,
   "id": "57e889ce-1c65-41d3-8564-d1e5b19d043c",
   "metadata": {},
   "outputs": [],
   "source": []
  },
  {
   "cell_type": "code",
   "execution_count": null,
   "id": "059a373e-5f93-4b87-aabd-0619466a7ffa",
   "metadata": {},
   "outputs": [],
   "source": []
  },
  {
   "cell_type": "code",
   "execution_count": null,
   "id": "16c7dc06-b1b3-4d2c-95df-92b2ebad1d60",
   "metadata": {},
   "outputs": [],
   "source": []
  }
 ],
 "metadata": {
  "kernelspec": {
   "display_name": "Python 3 (ipykernel)",
   "language": "python",
   "name": "python3"
  },
  "language_info": {
   "codemirror_mode": {
    "name": "ipython",
    "version": 3
   },
   "file_extension": ".py",
   "mimetype": "text/x-python",
   "name": "python",
   "nbconvert_exporter": "python",
   "pygments_lexer": "ipython3",
   "version": "3.11.5"
  }
 },
 "nbformat": 4,
 "nbformat_minor": 5
}
